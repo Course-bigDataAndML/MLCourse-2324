{
 "cells": [
  {
   "cell_type": "markdown",
   "metadata": {},
   "source": [
    "# Hands-on session: Analysis of Higgs data"
   ]
  },
  {
   "cell_type": "code",
   "execution_count": 1,
   "metadata": {
    "execution": {
     "iopub.execute_input": "2022-05-17T08:05:50.397792Z",
     "iopub.status.busy": "2022-05-17T08:05:50.396868Z",
     "iopub.status.idle": "2022-05-17T08:05:50.603535Z",
     "shell.execute_reply": "2022-05-17T08:05:50.602699Z",
     "shell.execute_reply.started": "2022-05-17T08:05:50.397591Z"
    },
    "tags": []
   },
   "outputs": [],
   "source": [
    "%reload_ext custom_magics"
   ]
  },
  {
   "cell_type": "code",
   "execution_count": 2,
   "metadata": {
    "execution": {
     "iopub.execute_input": "2022-05-17T08:05:50.937440Z",
     "iopub.status.busy": "2022-05-17T08:05:50.936650Z",
     "iopub.status.idle": "2022-05-17T08:05:51.924177Z",
     "shell.execute_reply": "2022-05-17T08:05:51.923476Z",
     "shell.execute_reply.started": "2022-05-17T08:05:50.937369Z"
    },
    "tags": []
   },
   "outputs": [],
   "source": [
    "import pandas as pd\n",
    "import numpy as np\n",
    "import matplotlib.pyplot as plt\n",
    "%matplotlib inline\n",
    "\n",
    "from custom_functions import *"
   ]
  },
  {
   "cell_type": "code",
   "execution_count": 3,
   "metadata": {
    "execution": {
     "iopub.execute_input": "2022-05-17T08:05:51.925650Z",
     "iopub.status.busy": "2022-05-17T08:05:51.925473Z",
     "iopub.status.idle": "2022-05-17T08:06:01.035289Z",
     "shell.execute_reply": "2022-05-17T08:06:01.033958Z",
     "shell.execute_reply.started": "2022-05-17T08:05:51.925628Z"
    },
    "scrolled": true,
    "tags": []
   },
   "outputs": [
    {
     "data": {
      "text/html": [
       "\n",
       "        <div>\n",
       "            <p><b>SparkContext</b></p>\n",
       "\n",
       "            <p><a href=\"http://jupyter-leggerf.jhub.svc.cluster.local:4040\">Spark UI</a></p>\n",
       "\n",
       "            <dl>\n",
       "              <dt>Version</dt>\n",
       "                <dd><code>v3.2.1</code></dd>\n",
       "              <dt>Master</dt>\n",
       "                <dd><code>k8s://https://192.168.2.39:6443</code></dd>\n",
       "              <dt>AppName</dt>\n",
       "                <dd><code>jupyter-leggerf</code></dd>\n",
       "            </dl>\n",
       "        </div>\n",
       "        "
      ],
      "text/plain": [
       "<SparkContext master=k8s://https://192.168.2.39:6443 appName=jupyter-leggerf>"
      ]
     },
     "execution_count": 3,
     "metadata": {},
     "output_type": "execute_result"
    }
   ],
   "source": [
    "num_workers=5\n",
    "spark=%sc $num_workers\n",
    "\n",
    "from pyspark.sql import SparkSession\n",
    "spark_session = SparkSession(spark)\n",
    "\n",
    "#check if spark is there\n",
    "spark"
   ]
  },
  {
   "cell_type": "markdown",
   "metadata": {},
   "source": [
    "## Prepare the input data"
   ]
  },
  {
   "cell_type": "code",
   "execution_count": 4,
   "metadata": {
    "execution": {
     "iopub.execute_input": "2022-05-17T08:06:01.040193Z",
     "iopub.status.busy": "2022-05-17T08:06:01.039420Z",
     "iopub.status.idle": "2022-05-17T08:06:06.142123Z",
     "shell.execute_reply": "2022-05-17T08:06:06.141517Z",
     "shell.execute_reply.started": "2022-05-17T08:06:01.040117Z"
    },
    "tags": []
   },
   "outputs": [
    {
     "name": "stdout",
     "output_type": "stream",
     "text": [
      "CPU times: user 5.34 ms, sys: 1.35 ms, total: 6.69 ms\n",
      "Wall time: 5.09 s\n"
     ]
    }
   ],
   "source": [
    "inputFile = 'file:///home/jovyan/Higgs100k.parquet'\n",
    "#inputFile = 'file:///home/jovyan/Higgs1M.parquet'\n",
    "#inputFile = 'file:///home/jovyan/Higgs10M.parquet'\n",
    "\n",
    "%time df = spark_session.read.format('parquet').option('header', 'true').option('inferschema', 'true').load(inputFile)\n",
    "\n",
    "total_events = df.count()\n",
    "print('There are '+str(total_events)+' events')"
   ]
  },
  {
   "cell_type": "code",
   "execution_count": 5,
   "metadata": {
    "execution": {
     "iopub.execute_input": "2022-05-17T08:06:06.143299Z",
     "iopub.status.busy": "2022-05-17T08:06:06.143105Z",
     "iopub.status.idle": "2022-05-17T08:06:10.487376Z",
     "shell.execute_reply": "2022-05-17T08:06:10.486111Z",
     "shell.execute_reply.started": "2022-05-17T08:06:06.143274Z"
    },
    "tags": []
   },
   "outputs": [
    {
     "name": "stdout",
     "output_type": "stream",
     "text": [
      "There are 9560096 events\n"
     ]
    }
   ],
   "source": [
    "total_events = df.count()\n",
    "\n",
    "print('There are '+str(total_events)+' events')"
   ]
  },
  {
   "cell_type": "markdown",
   "metadata": {},
   "source": [
    "## Feature engineering\n",
    "\n",
    "### QUESTION 1: \n",
    "\n",
    "- Is the dataset unbalanced? \n",
    "- Do we need undersampling? \n",
    "- Do we need special preprocessing?"
   ]
  },
  {
   "cell_type": "code",
   "execution_count": null,
   "metadata": {},
   "outputs": [],
   "source": [
    "# motivate your answer here\n"
   ]
  },
  {
   "cell_type": "markdown",
   "metadata": {},
   "source": [
    "### QUESTION 2: \n",
    "\n",
    "- Split the dataset into 5 roughly equal parts with random events"
   ]
  },
  {
   "cell_type": "code",
   "execution_count": null,
   "metadata": {},
   "outputs": [],
   "source": [
    "#your answer goes here\n"
   ]
  },
  {
   "cell_type": "markdown",
   "metadata": {},
   "source": [
    "### QUESTION 3: \n",
    "- split the dataset for training and test"
   ]
  },
  {
   "cell_type": "code",
   "execution_count": null,
   "metadata": {},
   "outputs": [],
   "source": [
    "# your answer goes here\n",
    "# split into two dataframes called train and test"
   ]
  },
  {
   "cell_type": "markdown",
   "metadata": {},
   "source": [
    "### QUESTION 4:\n",
    "\n",
    "- Create the input feature vector for MLLib\n",
    "- Documentation on how to do data preprocessing in Spark: https://spark.apache.org/docs/latest/ml-features.html"
   ]
  },
  {
   "cell_type": "code",
   "execution_count": null,
   "metadata": {},
   "outputs": [],
   "source": [
    "#train = ...\n",
    "#test = ..."
   ]
  },
  {
   "cell_type": "markdown",
   "metadata": {},
   "source": [
    "## ML with pyspark\n",
    "\n",
    "- Try to solve the signal vs background classification problem using a **new model of your choice** (obviously, not GBT or MCP)\n",
    "- Documentation at: https://spark.apache.org/docs/3.2.1/ml-classification-regression.html"
   ]
  },
  {
   "cell_type": "code",
   "execution_count": null,
   "metadata": {},
   "outputs": [],
   "source": [
    "from pyspark.ml.classification import *"
   ]
  },
  {
   "cell_type": "markdown",
   "metadata": {},
   "source": [
    "Fit the model on the **training dataset**: (dataframe train)"
   ]
  },
  {
   "cell_type": "code",
   "execution_count": null,
   "metadata": {},
   "outputs": [],
   "source": [
    "# your answer goes here"
   ]
  },
  {
   "cell_type": "markdown",
   "metadata": {},
   "source": [
    "### QUESTION 5: \n",
    "\n",
    "- Compute the accuracy/AUC/relevant metrics on the test dataset"
   ]
  },
  {
   "cell_type": "code",
   "execution_count": null,
   "metadata": {},
   "outputs": [],
   "source": [
    "#your answer goes here"
   ]
  },
  {
   "cell_type": "markdown",
   "metadata": {},
   "source": [
    "### QUESTION 6: \n",
    "\n",
    "- Check that you are neither underfitting nor overfitting"
   ]
  },
  {
   "cell_type": "code",
   "execution_count": null,
   "metadata": {},
   "outputs": [],
   "source": [
    "#your answer goes here"
   ]
  },
  {
   "cell_type": "code",
   "execution_count": 6,
   "metadata": {
    "execution": {
     "iopub.execute_input": "2022-05-17T08:06:13.738155Z",
     "iopub.status.busy": "2022-05-17T08:06:13.737524Z",
     "iopub.status.idle": "2022-05-17T08:06:14.227902Z",
     "shell.execute_reply": "2022-05-17T08:06:14.225952Z",
     "shell.execute_reply.started": "2022-05-17T08:06:13.738087Z"
    },
    "tags": []
   },
   "outputs": [],
   "source": [
    "# When you're done, stop spark\n",
    "spark.stop()"
   ]
  },
  {
   "cell_type": "markdown",
   "metadata": {},
   "source": [
    "### Final results\n",
    "\n",
    "Pick any two models (can be any from pyspark MLLib, Keras + BigDL sequential) and  (you can use results from previous days):\n",
    "- Compare them in terms of absolute performances. Discuss accuracy, ROC, AUC, feature importance, feature distributions. Which of these metrics do you deem more critical?\n",
    "- Compare how they scale in terms of performances and training time when you change the number of executors (from 1 to 5)\n",
    "- Discuss the results.  \n",
    "- You can also collect results in external documents (google documents, pdf, whatever) and link them here"
   ]
  },
  {
   "cell_type": "code",
   "execution_count": null,
   "metadata": {},
   "outputs": [],
   "source": []
  }
 ],
 "metadata": {
  "kernelspec": {
   "display_name": "Python 3 (ipykernel)",
   "language": "python",
   "name": "python3"
  },
  "language_info": {
   "codemirror_mode": {
    "name": "ipython",
    "version": 3
   },
   "file_extension": ".py",
   "mimetype": "text/x-python",
   "name": "python",
   "nbconvert_exporter": "python",
   "pygments_lexer": "ipython3",
   "version": "3.9.7"
  },
  "sparkconnect": {
   "bundled_options": [],
   "list_of_options": []
  }
 },
 "nbformat": 4,
 "nbformat_minor": 4
}
