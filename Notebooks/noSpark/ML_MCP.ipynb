{
 "cells": [
  {
   "cell_type": "markdown",
   "metadata": {},
   "source": [
    "# Hands-on Day 3\n",
    "\n",
    "## You'll learn\n",
    "\n",
    "### ML methods\n",
    "\n",
    "- Multilayer Perceptron Classifier (MCP) with sklearn\n",
    "\n",
    "### ML techniques\n",
    "- hyperparameter optimisation\n",
    "- ROC curves"
   ]
  },
  {
   "cell_type": "markdown",
   "metadata": {
    "tags": []
   },
   "source": [
    "# Initial setup \n",
    "\n",
    "- read in parquet file\n",
    "- create x,y vectors from panda dataframe"
   ]
  },
  {
   "cell_type": "code",
   "execution_count": 1,
   "metadata": {
    "execution": {
     "iopub.execute_input": "2024-11-13T14:58:14.372826Z",
     "iopub.status.busy": "2024-11-13T14:58:14.372608Z",
     "iopub.status.idle": "2024-11-13T14:58:14.403455Z",
     "shell.execute_reply": "2024-11-13T14:58:14.402870Z",
     "shell.execute_reply.started": "2024-11-13T14:58:14.372762Z"
    },
    "tags": []
   },
   "outputs": [],
   "source": [
    "%reload_ext custom_magics\n",
    "%load_ext autoreload\n",
    "%autoreload 2"
   ]
  },
  {
   "cell_type": "code",
   "execution_count": 2,
   "metadata": {
    "execution": {
     "iopub.execute_input": "2024-11-13T14:58:14.406467Z",
     "iopub.status.busy": "2024-11-13T14:58:14.406306Z",
     "iopub.status.idle": "2024-11-13T14:58:15.507231Z",
     "shell.execute_reply": "2024-11-13T14:58:15.506405Z",
     "shell.execute_reply.started": "2024-11-13T14:58:14.406445Z"
    },
    "tags": []
   },
   "outputs": [],
   "source": [
    "import pandas as pd\n",
    "import numpy as np\n",
    "import matplotlib.pyplot as plt\n",
    "%matplotlib inline\n",
    "\n",
    "# Check out these custom functions\n",
    "from custom_functions import *"
   ]
  },
  {
   "cell_type": "code",
   "execution_count": 3,
   "metadata": {
    "execution": {
     "iopub.execute_input": "2024-11-13T14:58:15.508659Z",
     "iopub.status.busy": "2024-11-13T14:58:15.508446Z",
     "iopub.status.idle": "2024-11-13T14:58:15.649856Z",
     "shell.execute_reply": "2024-11-13T14:58:15.648649Z",
     "shell.execute_reply.started": "2024-11-13T14:58:15.508633Z"
    },
    "tags": []
   },
   "outputs": [
    {
     "name": "stdout",
     "output_type": "stream",
     "text": [
      "CPU times: user 203 ms, sys: 216 ms, total: 419 ms\n",
      "Wall time: 117 ms\n"
     ]
    }
   ],
   "source": [
    "#define number of events - to pick input file\n",
    "evt = \"100k\"\n",
    "#evt = \"1M\"\n",
    "\n",
    "# read in input parquet file\n",
    "input_file = \"Higgs\"+evt+\".parquet\"\n",
    "%time df = pd.read_parquet(input_file)"
   ]
  },
  {
   "cell_type": "code",
   "execution_count": 4,
   "metadata": {
    "execution": {
     "iopub.execute_input": "2024-11-13T14:58:15.655315Z",
     "iopub.status.busy": "2024-11-13T14:58:15.654789Z",
     "iopub.status.idle": "2024-11-13T14:58:15.682816Z",
     "shell.execute_reply": "2024-11-13T14:58:15.681462Z",
     "shell.execute_reply.started": "2024-11-13T14:58:15.655263Z"
    },
    "tags": []
   },
   "outputs": [
    {
     "data": {
      "text/plain": [
       "99999"
      ]
     },
     "execution_count": 4,
     "metadata": {},
     "output_type": "execute_result"
    }
   ],
   "source": [
    "# The first column is the target variable\n",
    "y = df.iloc[:, 0] #df with label\n",
    "x = df.iloc[: , 1:] #df with all other variables\n",
    "\n",
    "len(x)"
   ]
  },
  {
   "cell_type": "code",
   "execution_count": 5,
   "metadata": {
    "execution": {
     "iopub.execute_input": "2024-11-13T14:58:15.685555Z",
     "iopub.status.busy": "2024-11-13T14:58:15.684910Z",
     "iopub.status.idle": "2024-11-13T14:58:16.185827Z",
     "shell.execute_reply": "2024-11-13T14:58:16.184283Z",
     "shell.execute_reply.started": "2024-11-13T14:58:15.685489Z"
    },
    "tags": []
   },
   "outputs": [],
   "source": [
    "from sklearn.model_selection import train_test_split\n",
    "\n",
    "# Split the data into training and test sets (80% training, 20% testing)\n",
    "x_train, x_test, y_train, y_test = train_test_split(x, y, test_size=0.2, random_state=42)"
   ]
  },
  {
   "cell_type": "code",
   "execution_count": 6,
   "metadata": {
    "execution": {
     "iopub.execute_input": "2024-11-13T14:58:16.188900Z",
     "iopub.status.busy": "2024-11-13T14:58:16.188234Z",
     "iopub.status.idle": "2024-11-13T14:58:16.225159Z",
     "shell.execute_reply": "2024-11-13T14:58:16.224479Z",
     "shell.execute_reply.started": "2024-11-13T14:58:16.188829Z"
    },
    "tags": []
   },
   "outputs": [
    {
     "name": "stdout",
     "output_type": "stream",
     "text": [
      "99999\n",
      "99999\n"
     ]
    }
   ],
   "source": [
    "#sanity check\n",
    "\n",
    "print(len(x_train)+len(x_test))\n",
    "print(len(y_train)+len(y_test))"
   ]
  },
  {
   "cell_type": "markdown",
   "metadata": {},
   "source": [
    "# ML model"
   ]
  },
  {
   "cell_type": "markdown",
   "metadata": {},
   "source": [
    "## Exercise 1\n",
    "\n",
    "- Implement a shallow NN (MultiLayerPerceptronClassifier) with sklearn\n",
    "- implement a network with: \n",
    "  - one input layer of size 28 (our features), \n",
    "  - two intermediate layers of size 30,\n",
    "  - one output of size 2 (the label classes)\n",
    "- plot the various metrics (ROC, signal vs background)\n",
    "- bonus: do hyperparameter optimisation"
   ]
  },
  {
   "cell_type": "code",
   "execution_count": 7,
   "metadata": {
    "execution": {
     "iopub.execute_input": "2024-11-13T14:58:16.226360Z",
     "iopub.status.busy": "2024-11-13T14:58:16.226085Z",
     "iopub.status.idle": "2024-11-13T15:00:31.028318Z",
     "shell.execute_reply": "2024-11-13T15:00:31.026226Z",
     "shell.execute_reply.started": "2024-11-13T14:58:16.226332Z"
    },
    "tags": []
   },
   "outputs": [
    {
     "name": "stdout",
     "output_type": "stream",
     "text": [
      "CPU times: user 2min 14s, sys: 139 ms, total: 2min 14s\n",
      "Wall time: 2min 14s\n"
     ]
    }
   ],
   "source": [
    "from sklearn.neural_network import MLPClassifier\n",
    "\n",
    "# Initialize the MLP classifier with two hidden layers of 30 neurons each\n",
    "# takes 3 minutes on 100k evts, 30 minutes on 1M evts\n",
    "mlp = MLPClassifier(hidden_layer_sizes=(30, 30), max_iter=1000, random_state=42)\n",
    "\n",
    "# Train the model\n",
    "%time mlp.fit(x_train, y_train)\n",
    "\n",
    "# Make predictions on the test set\n",
    "y_pred = mlp.predict(x_test)"
   ]
  },
  {
   "cell_type": "code",
   "execution_count": 8,
   "metadata": {
    "execution": {
     "iopub.execute_input": "2024-11-13T15:00:31.032418Z",
     "iopub.status.busy": "2024-11-13T15:00:31.031822Z",
     "iopub.status.idle": "2024-11-13T15:00:31.190930Z",
     "shell.execute_reply": "2024-11-13T15:00:31.190113Z",
     "shell.execute_reply.started": "2024-11-13T15:00:31.032362Z"
    },
    "tags": []
   },
   "outputs": [
    {
     "name": "stdout",
     "output_type": "stream",
     "text": [
      "Accuracy: 0.7191\n",
      "Precision: 0.7234\n",
      "Recall: 0.7644\n",
      "F1-Score: 0.7433\n"
     ]
    }
   ],
   "source": [
    "# Evaluate the model\n",
    "from sklearn.metrics import accuracy_score, precision_score, recall_score, f1_score\n",
    "\n",
    "accuracy = accuracy_score(y_test, y_pred)\n",
    "precision = precision_score(y_test, y_pred, average='binary')  # For binary classification\n",
    "recall = recall_score(y_test, y_pred, average='binary')\n",
    "f1 = f1_score(y_test, y_pred, average='binary')\n",
    "\n",
    "print(f\"Accuracy: {accuracy:.4f}\")\n",
    "print(f\"Precision: {precision:.4f}\")\n",
    "print(f\"Recall: {recall:.4f}\")\n",
    "print(f\"F1-Score: {f1:.4f}\")"
   ]
  },
  {
   "cell_type": "code",
   "execution_count": 9,
   "metadata": {
    "execution": {
     "iopub.execute_input": "2024-11-13T15:00:31.192286Z",
     "iopub.status.busy": "2024-11-13T15:00:31.192092Z",
     "iopub.status.idle": "2024-11-13T15:00:31.806698Z",
     "shell.execute_reply": "2024-11-13T15:00:31.805226Z",
     "shell.execute_reply.started": "2024-11-13T15:00:31.192263Z"
    },
    "tags": []
   },
   "outputs": [
    {
     "data": {
      "image/png": "[encoded data removed]",
      "text/plain": [
       "<Figure size 432x288 with 1 Axes>"
      ]
     },
     "metadata": {
      "needs_background": "light"
     },
     "output_type": "display_data"
    }
   ],
   "source": [
    "# Get predicted probabilities for the positive class\n",
    "y_scores = mlp.predict_proba(x_test)[:, 1]\n",
    "\n",
    "#make ROC curve\n",
    "drawROC2(y_scores, y_test)"
   ]
  },
  {
   "cell_type": "code",
   "execution_count": 10,
   "metadata": {
    "execution": {
     "iopub.execute_input": "2024-11-13T15:00:31.809242Z",
     "iopub.status.busy": "2024-11-13T15:00:31.808775Z",
     "iopub.status.idle": "2024-11-13T15:00:32.852333Z",
     "shell.execute_reply": "2024-11-13T15:00:32.851615Z",
     "shell.execute_reply.started": "2024-11-13T15:00:31.809183Z"
    },
    "tags": []
   },
   "outputs": [
    {
     "data": {
      "image/png": "[encoded data removed]",
      "text/plain": [
       "<Figure size 432x288 with 1 Axes>"
      ]
     },
     "metadata": {
      "needs_background": "light"
     },
     "output_type": "display_data"
    }
   ],
   "source": [
    "#plot signal vs background with prediction\n",
    "variable = 'm_bb'\n",
    "plotSignalvsBgWithPrediction2(x_test.loc[:, variable], y_test, y_pred)"
   ]
  },
  {
   "cell_type": "markdown",
   "metadata": {},
   "source": [
    "# Hyperparameter scan"
   ]
  },
  {
   "cell_type": "code",
   "execution_count": 11,
   "metadata": {
    "execution": {
     "iopub.execute_input": "2024-11-13T15:00:32.853578Z",
     "iopub.status.busy": "2024-11-13T15:00:32.853395Z",
     "iopub.status.idle": "2024-11-13T15:00:32.885837Z",
     "shell.execute_reply": "2024-11-13T15:00:32.885260Z",
     "shell.execute_reply.started": "2024-11-13T15:00:32.853555Z"
    },
    "tags": []
   },
   "outputs": [
    {
     "name": "stdout",
     "output_type": "stream",
     "text": [
      "activation: relu\n",
      "alpha: 0.0001\n",
      "batch_size: auto\n",
      "beta_1: 0.9\n",
      "beta_2: 0.999\n",
      "early_stopping: False\n",
      "epsilon: 1e-08\n",
      "hidden_layer_sizes: (30, 30)\n",
      "learning_rate: constant\n",
      "learning_rate_init: 0.001\n",
      "max_fun: 15000\n",
      "max_iter: 1000\n",
      "momentum: 0.9\n",
      "n_iter_no_change: 10\n",
      "nesterovs_momentum: True\n",
      "power_t: 0.5\n",
      "random_state: 42\n",
      "shuffle: True\n",
      "solver: adam\n",
      "tol: 0.0001\n",
      "validation_fraction: 0.1\n",
      "verbose: False\n",
      "warm_start: False\n"
     ]
    }
   ],
   "source": [
    "# Get the default hyperparameters\n",
    "default_params = mlp.get_params()\n",
    "\n",
    "# Print the default hyperparameters\n",
    "for param, value in default_params.items():\n",
    "    print(f\"{param}: {value}\")"
   ]
  },
  {
   "cell_type": "markdown",
   "metadata": {},
   "source": [
    "## Exercise 2\n",
    "\n",
    "- do hyperparameter optimisation on 100k evts using Randomized Grid search\n",
    "- select a reasonable number and range of hyperparameters\n",
    "- do NOT USE all possible cores (check sklearn doc)\n",
    "- while the code runs, check with top that there are indeed several python processes running\n",
    "- check metrics (accuracy, ROC curve, signal vs background, feature ranking)"
   ]
  },
  {
   "cell_type": "code",
   "execution_count": 12,
   "metadata": {
    "execution": {
     "iopub.execute_input": "2024-11-13T15:00:32.886978Z",
     "iopub.status.busy": "2024-11-13T15:00:32.886797Z",
     "iopub.status.idle": "2024-11-13T15:35:02.095937Z",
     "shell.execute_reply": "2024-11-13T15:35:02.094379Z",
     "shell.execute_reply.started": "2024-11-13T15:00:32.886947Z"
    },
    "tags": []
   },
   "outputs": [
    {
     "name": "stdout",
     "output_type": "stream",
     "text": [
      "CPU times: user 40 µs, sys: 4 µs, total: 44 µs\n",
      "Wall time: 56 µs\n",
      "Best Hyperparameters: {'activation': 'relu', 'alpha': 0.003954165025399161, 'hidden_layer_sizes': (50, 50), 'learning_rate_init': 0.01076721140063839}\n",
      "Best Cross-Validation Score: 0.7092\n"
     ]
    }
   ],
   "source": [
    "from sklearn.model_selection import RandomizedSearchCV\n",
    "from scipy.stats import uniform\n",
    "\n",
    "# Define the parameter distribution for RandomizedSearchCV\n",
    "param_dist = {\n",
    "    'hidden_layer_sizes': [(30, 30), (50, 50), (100,)],\n",
    "    'learning_rate_init': uniform(0.001, 0.1),  # Samples values between 0.001 and 0.101\n",
    "    'alpha': uniform(0.0001, 0.01),\n",
    "    'activation': ['tanh', 'relu'],\n",
    "}\n",
    "\n",
    "# Randomized search with 20 random combinations\n",
    "%time random_search = RandomizedSearchCV(estimator=mlp, param_distributions=param_dist, n_iter=20, cv=5, scoring='accuracy', n_jobs=5, random_state=42)\n",
    "\n",
    "# Fit the random search\n",
    "random_search.fit(x_train, y_train)\n",
    "\n",
    "print(\"Best Hyperparameters:\", random_search.best_params_)\n",
    "print(\"Best Cross-Validation Score: {:.4f}\".format(random_search.best_score_))"
   ]
  },
  {
   "cell_type": "code",
   "execution_count": 13,
   "metadata": {
    "execution": {
     "iopub.execute_input": "2024-11-13T15:35:02.099405Z",
     "iopub.status.busy": "2024-11-13T15:35:02.098809Z",
     "iopub.status.idle": "2024-11-13T15:35:02.328517Z",
     "shell.execute_reply": "2024-11-13T15:35:02.327233Z",
     "shell.execute_reply.started": "2024-11-13T15:35:02.099342Z"
    }
   },
   "outputs": [
    {
     "name": "stdout",
     "output_type": "stream",
     "text": [
      "Test Set Accuracy: 0.7147\n"
     ]
    }
   ],
   "source": [
    "# Evaluate the best model on the test set\n",
    "best_model = random_search.best_estimator_\n",
    "y_pred = best_model.predict(x_test)\n",
    "test_accuracy = accuracy_score(y_test, y_pred)\n",
    "print(\"Test Set Accuracy: {:.4f}\".format(test_accuracy))"
   ]
  },
  {
   "cell_type": "code",
   "execution_count": 14,
   "metadata": {
    "execution": {
     "iopub.execute_input": "2024-11-13T15:35:02.331331Z",
     "iopub.status.busy": "2024-11-13T15:35:02.330879Z",
     "iopub.status.idle": "2024-11-13T15:35:02.464350Z",
     "shell.execute_reply": "2024-11-13T15:35:02.463623Z",
     "shell.execute_reply.started": "2024-11-13T15:35:02.331276Z"
    }
   },
   "outputs": [
    {
     "name": "stdout",
     "output_type": "stream",
     "text": [
      "Accuracy: 0.7147\n",
      "Precision: 0.7076\n",
      "Recall: 0.7902\n",
      "F1-Score: 0.7466\n"
     ]
    }
   ],
   "source": [
    "accuracy = accuracy_score(y_test, y_pred)\n",
    "precision = precision_score(y_test, y_pred, average='binary')  # For binary classification\n",
    "recall = recall_score(y_test, y_pred, average='binary')\n",
    "f1 = f1_score(y_test, y_pred, average='binary')\n",
    "\n",
    "print(f\"Accuracy: {accuracy:.4f}\")\n",
    "print(f\"Precision: {precision:.4f}\")\n",
    "print(f\"Recall: {recall:.4f}\")\n",
    "print(f\"F1-Score: {f1:.4f}\")"
   ]
  },
  {
   "cell_type": "code",
   "execution_count": 15,
   "metadata": {
    "execution": {
     "iopub.execute_input": "2024-11-13T15:35:02.465732Z",
     "iopub.status.busy": "2024-11-13T15:35:02.465436Z",
     "iopub.status.idle": "2024-11-13T15:35:02.896117Z",
     "shell.execute_reply": "2024-11-13T15:35:02.894828Z",
     "shell.execute_reply.started": "2024-11-13T15:35:02.465704Z"
    },
    "tags": []
   },
   "outputs": [
    {
     "data": {
      "image/png": "[encoded data removed]",
      "text/plain": [
       "<Figure size 432x288 with 1 Axes>"
      ]
     },
     "metadata": {
      "needs_background": "light"
     },
     "output_type": "display_data"
    }
   ],
   "source": [
    "# Get predicted probabilities for the positive class\n",
    "y_scores = best_model.predict_proba(x_test)[:, 1]\n",
    "\n",
    "#make ROC curve\n",
    "drawROC2(y_scores, y_test)"
   ]
  },
  {
   "cell_type": "code",
   "execution_count": 16,
   "metadata": {
    "execution": {
     "iopub.execute_input": "2024-11-13T15:35:02.898151Z",
     "iopub.status.busy": "2024-11-13T15:35:02.897735Z",
     "iopub.status.idle": "2024-11-13T15:35:04.107009Z",
     "shell.execute_reply": "2024-11-13T15:35:04.105318Z",
     "shell.execute_reply.started": "2024-11-13T15:35:02.898115Z"
    },
    "tags": []
   },
   "outputs": [
    {
     "data": {
      "image/png": "[encoded data removed]",
      "text/plain": [
       "<Figure size 432x288 with 1 Axes>"
      ]
     },
     "metadata": {
      "needs_background": "light"
     },
     "output_type": "display_data"
    }
   ],
   "source": [
    "#plot signal vs background with prediction\n",
    "variable = 'm_bb'\n",
    "plotSignalvsBgWithPrediction2(x_test.loc[:, variable], y_test, y_pred)"
   ]
  },
  {
   "cell_type": "code",
   "execution_count": null,
   "metadata": {},
   "outputs": [],
   "source": []
  }
 ],
 "metadata": {
  "kernelspec": {
   "display_name": "Python 3 (ipykernel)",
   "language": "python",
   "name": "python3"
  },
  "language_info": {
   "codemirror_mode": {
    "name": "ipython",
    "version": 3
   },
   "file_extension": ".py",
   "mimetype": "text/x-python",
   "name": "python",
   "nbconvert_exporter": "python",
   "pygments_lexer": "ipython3",
   "version": "3.9.7"
  },
  "sparkconnect": {
   "bundled_options": [],
   "list_of_options": []
  }
 },
 "nbformat": 4,
 "nbformat_minor": 4
}
