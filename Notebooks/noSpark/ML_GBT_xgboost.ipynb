{
 "cells": [
  {
   "cell_type": "markdown",
   "metadata": {},
   "source": [
    "# Hands-on Day 3\n",
    "\n",
    "## You'll learn\n",
    "\n",
    "### ML methods\n",
    "\n",
    "- Gradient Boosting Trees with xgboost\n",
    "\n",
    "### ML techniques\n",
    "- hyperparameter optimisation\n",
    "- ROC curves"
   ]
  },
  {
   "cell_type": "markdown",
   "metadata": {
    "tags": []
   },
   "source": [
    "# Initial setup \n",
    "\n",
    "- read in parquet file\n",
    "- create x,y vectors from panda dataframe"
   ]
  },
  {
   "cell_type": "code",
   "execution_count": 1,
   "metadata": {
    "execution": {
     "iopub.execute_input": "2024-11-12T22:03:49.834023Z",
     "iopub.status.busy": "2024-11-12T22:03:49.833352Z",
     "iopub.status.idle": "2024-11-12T22:03:49.919911Z",
     "shell.execute_reply": "2024-11-12T22:03:49.919197Z",
     "shell.execute_reply.started": "2024-11-12T22:03:49.833852Z"
    },
    "tags": []
   },
   "outputs": [],
   "source": [
    "%reload_ext custom_magics\n",
    "%load_ext autoreload\n",
    "%autoreload 2"
   ]
  },
  {
   "cell_type": "code",
   "execution_count": 2,
   "metadata": {
    "execution": {
     "iopub.execute_input": "2024-11-12T22:03:49.922139Z",
     "iopub.status.busy": "2024-11-12T22:03:49.921730Z",
     "iopub.status.idle": "2024-11-12T22:03:50.884245Z",
     "shell.execute_reply": "2024-11-12T22:03:50.883467Z",
     "shell.execute_reply.started": "2024-11-12T22:03:49.922117Z"
    },
    "tags": []
   },
   "outputs": [],
   "source": [
    "import pandas as pd\n",
    "import numpy as np\n",
    "import matplotlib.pyplot as plt\n",
    "%matplotlib inline\n",
    "\n",
    "# Check out these custom functions\n",
    "from custom_functions import *"
   ]
  },
  {
   "cell_type": "code",
   "execution_count": 3,
   "metadata": {
    "execution": {
     "iopub.execute_input": "2024-11-12T22:03:50.885456Z",
     "iopub.status.busy": "2024-11-12T22:03:50.885271Z",
     "iopub.status.idle": "2024-11-12T22:03:51.029703Z",
     "shell.execute_reply": "2024-11-12T22:03:51.029087Z",
     "shell.execute_reply.started": "2024-11-12T22:03:50.885433Z"
    },
    "tags": []
   },
   "outputs": [
    {
     "name": "stdout",
     "output_type": "stream",
     "text": [
      "CPU times: user 223 ms, sys: 182 ms, total: 405 ms\n",
      "Wall time: 123 ms\n"
     ]
    }
   ],
   "source": [
    "#define number of events - to pick input file\n",
    "evt = \"100k\"\n",
    "#evt = \"1M\"\n",
    "\n",
    "# read in input parquet file\n",
    "input_file = \"Higgs\"+evt+\".parquet\"\n",
    "%time df = pd.read_parquet(input_file)"
   ]
  },
  {
   "cell_type": "code",
   "execution_count": 4,
   "metadata": {
    "execution": {
     "iopub.execute_input": "2024-11-12T22:03:51.031303Z",
     "iopub.status.busy": "2024-11-12T22:03:51.030926Z",
     "iopub.status.idle": "2024-11-12T22:03:51.055123Z",
     "shell.execute_reply": "2024-11-12T22:03:51.054274Z",
     "shell.execute_reply.started": "2024-11-12T22:03:51.031272Z"
    },
    "tags": []
   },
   "outputs": [
    {
     "data": {
      "text/plain": [
       "99999"
      ]
     },
     "execution_count": 4,
     "metadata": {},
     "output_type": "execute_result"
    }
   ],
   "source": [
    "# The first column is the target variable\n",
    "y = df.iloc[:, 0] #df with label\n",
    "x = df.iloc[: , 1:] #df with all other variables\n",
    "\n",
    "len(x)"
   ]
  },
  {
   "cell_type": "code",
   "execution_count": 5,
   "metadata": {
    "execution": {
     "iopub.execute_input": "2024-11-12T22:03:51.057859Z",
     "iopub.status.busy": "2024-11-12T22:03:51.057535Z",
     "iopub.status.idle": "2024-11-12T22:03:51.554687Z",
     "shell.execute_reply": "2024-11-12T22:03:51.553619Z",
     "shell.execute_reply.started": "2024-11-12T22:03:51.057836Z"
    },
    "tags": []
   },
   "outputs": [],
   "source": [
    "from sklearn.model_selection import train_test_split\n",
    "\n",
    "# Split the data into training and test sets (80% training, 20% testing)\n",
    "x_train, x_test, y_train, y_test = train_test_split(x, y, test_size=0.2, random_state=42)"
   ]
  },
  {
   "cell_type": "code",
   "execution_count": 6,
   "metadata": {
    "execution": {
     "iopub.execute_input": "2024-11-12T22:03:51.555903Z",
     "iopub.status.busy": "2024-11-12T22:03:51.555715Z",
     "iopub.status.idle": "2024-11-12T22:03:51.582768Z",
     "shell.execute_reply": "2024-11-12T22:03:51.581772Z",
     "shell.execute_reply.started": "2024-11-12T22:03:51.555882Z"
    },
    "tags": []
   },
   "outputs": [
    {
     "name": "stdout",
     "output_type": "stream",
     "text": [
      "99999\n",
      "99999\n"
     ]
    }
   ],
   "source": [
    "#sanity check\n",
    "\n",
    "print(len(x_train)+len(x_test))\n",
    "print(len(y_train)+len(y_test))"
   ]
  },
  {
   "cell_type": "markdown",
   "metadata": {},
   "source": [
    "# ML model: GBT"
   ]
  },
  {
   "cell_type": "code",
   "execution_count": 7,
   "metadata": {
    "execution": {
     "iopub.execute_input": "2024-11-12T22:03:51.583972Z",
     "iopub.status.busy": "2024-11-12T22:03:51.583798Z",
     "iopub.status.idle": "2024-11-12T22:03:52.810915Z",
     "shell.execute_reply": "2024-11-12T22:03:52.810318Z",
     "shell.execute_reply.started": "2024-11-12T22:03:51.583941Z"
    },
    "tags": []
   },
   "outputs": [
    {
     "name": "stdout",
     "output_type": "stream",
     "text": [
      "CPU times: user 41.4 s, sys: 99.2 ms, total: 41.5 s\n",
      "Wall time: 934 ms\n"
     ]
    }
   ],
   "source": [
    "import xgboost as xgb\n",
    "\n",
    "# Define the XGBoost classifier with multi-core support\n",
    "gbt = xgb.XGBClassifier(\n",
    "    n_estimators=100,      # Number of trees (can be adjusted)\n",
    "    max_depth=6,           # Maximum depth of each tree (can be tuned)\n",
    "    learning_rate=0.1,     # Learning rate (can be tuned)\n",
    "    n_jobs=-1,             # Use all available cores\n",
    "    verbosity=1            # Set verbosity level to monitor training progress\n",
    ")\n",
    "\n",
    "# Train the model\n",
    "%time gbt.fit(x_train, y_train)\n",
    "\n",
    "# Make predictions on the test set\n",
    "y_pred = gbt.predict(x_test)"
   ]
  },
  {
   "cell_type": "code",
   "execution_count": 8,
   "metadata": {
    "execution": {
     "iopub.execute_input": "2024-11-12T22:03:52.812138Z",
     "iopub.status.busy": "2024-11-12T22:03:52.811893Z",
     "iopub.status.idle": "2024-11-12T22:03:52.880147Z",
     "shell.execute_reply": "2024-11-12T22:03:52.879367Z",
     "shell.execute_reply.started": "2024-11-12T22:03:52.812113Z"
    },
    "tags": []
   },
   "outputs": [
    {
     "name": "stdout",
     "output_type": "stream",
     "text": [
      "Accuracy: 0.7294\n",
      "Precision: 0.7437\n",
      "Recall: 0.7498\n",
      "F1-Score: 0.7467\n"
     ]
    }
   ],
   "source": [
    "# Evaluate the model\n",
    "from sklearn.metrics import accuracy_score, precision_score, recall_score, f1_score\n",
    "\n",
    "accuracy = accuracy_score(y_test, y_pred)\n",
    "precision = precision_score(y_test, y_pred, average='binary')  # For binary classification\n",
    "recall = recall_score(y_test, y_pred, average='binary')\n",
    "f1 = f1_score(y_test, y_pred, average='binary')\n",
    "\n",
    "print(f\"Accuracy: {accuracy:.4f}\")\n",
    "print(f\"Precision: {precision:.4f}\")\n",
    "print(f\"Recall: {recall:.4f}\")\n",
    "print(f\"F1-Score: {f1:.4f}\")"
   ]
  },
  {
   "cell_type": "code",
   "execution_count": 9,
   "metadata": {
    "execution": {
     "iopub.execute_input": "2024-11-12T22:03:52.881519Z",
     "iopub.status.busy": "2024-11-12T22:03:52.881342Z",
     "iopub.status.idle": "2024-11-12T22:03:53.385057Z",
     "shell.execute_reply": "2024-11-12T22:03:53.383370Z",
     "shell.execute_reply.started": "2024-11-12T22:03:52.881498Z"
    },
    "tags": []
   },
   "outputs": [
    {
     "data": {
      "image/png": "[encoded data removed]",
      "text/plain": [
       "<Figure size 432x288 with 1 Axes>"
      ]
     },
     "metadata": {
      "needs_background": "light"
     },
     "output_type": "display_data"
    }
   ],
   "source": [
    "# Get predicted probabilities for the positive class\n",
    "y_scores = gbt.predict_proba(x_test)[:, 1]\n",
    "\n",
    "#make ROC curve\n",
    "drawROC2(y_scores, y_test)"
   ]
  },
  {
   "cell_type": "code",
   "execution_count": 10,
   "metadata": {
    "execution": {
     "iopub.execute_input": "2024-11-12T22:03:53.388228Z",
     "iopub.status.busy": "2024-11-12T22:03:53.387703Z",
     "iopub.status.idle": "2024-11-12T22:03:54.322388Z",
     "shell.execute_reply": "2024-11-12T22:03:54.320712Z",
     "shell.execute_reply.started": "2024-11-12T22:03:53.388167Z"
    },
    "tags": []
   },
   "outputs": [
    {
     "data": {
      "image/png": "[encoded data removed]",
      "text/plain": [
       "<Figure size 432x288 with 1 Axes>"
      ]
     },
     "metadata": {
      "needs_background": "light"
     },
     "output_type": "display_data"
    }
   ],
   "source": [
    "#plot signal vs background with prediction\n",
    "variable = 'm_bb'\n",
    "plotSignalvsBgWithPrediction2(x_test.loc[:, variable], y_test, y_pred)"
   ]
  },
  {
   "cell_type": "code",
   "execution_count": 11,
   "metadata": {
    "execution": {
     "iopub.execute_input": "2024-11-12T22:03:54.324726Z",
     "iopub.status.busy": "2024-11-12T22:03:54.324329Z",
     "iopub.status.idle": "2024-11-12T22:03:54.791097Z",
     "shell.execute_reply": "2024-11-12T22:03:54.790272Z",
     "shell.execute_reply.started": "2024-11-12T22:03:54.324677Z"
    }
   },
   "outputs": [
    {
     "name": "stdout",
     "output_type": "stream",
     "text": [
      "Feature Importance Ranking:\n",
      "                     Feature  Importance\n",
      "25                      m_bb    0.159220\n",
      "26                     m_wbb    0.095197\n",
      "27                    m_wwbb    0.087621\n",
      "5                    jet1_pt    0.068382\n",
      "22                     m_jjj    0.068179\n",
      "24                     m_jlv    0.058946\n",
      "8                 jet1_b-tag    0.052134\n",
      "3   missing_energy_magnitude    0.037450\n",
      "21                      m_jj    0.036863\n",
      "0                  lepton_pT    0.034664\n",
      "9                    jet2_pt    0.031197\n",
      "16                jet3_b-tag    0.025195\n",
      "20                jet4_b-tag    0.021892\n",
      "23                      m_lv    0.021795\n",
      "13                   jet3_pt    0.021421\n",
      "17                   jet4_pt    0.020732\n",
      "12                jet2_b-tag    0.020010\n",
      "6                   jet1_eta    0.015013\n",
      "1                 lepton_eta    0.014815\n",
      "10                  jet2_eta    0.013962\n",
      "14                  jet3_eta    0.013611\n",
      "18                   je4_eta    0.012752\n",
      "11                  jet2_phi    0.012341\n",
      "7                   jet1_phi    0.012235\n",
      "15                  jet3_phi    0.011832\n",
      "2                 lepton_phi    0.011261\n",
      "19                  jet4_phi    0.010766\n",
      "4         missing_energy_phi    0.010512\n"
     ]
    },
    {
     "data": {
      "text/plain": [
       "<Figure size 720x432 with 0 Axes>"
      ]
     },
     "metadata": {},
     "output_type": "display_data"
    },
    {
     "data": {
      "image/png": "[encoded data removed]",
      "text/plain": [
       "<Figure size 432x288 with 1 Axes>"
      ]
     },
     "metadata": {
      "needs_background": "light"
     },
     "output_type": "display_data"
    }
   ],
   "source": [
    "#draw feature importance\n",
    "drawFeatures(x, gbt)"
   ]
  },
  {
   "cell_type": "markdown",
   "metadata": {},
   "source": [
    "# Hyperparameter scan"
   ]
  },
  {
   "cell_type": "code",
   "execution_count": 12,
   "metadata": {
    "execution": {
     "iopub.execute_input": "2024-11-12T22:03:54.792328Z",
     "iopub.status.busy": "2024-11-12T22:03:54.792157Z",
     "iopub.status.idle": "2024-11-12T22:03:54.826466Z",
     "shell.execute_reply": "2024-11-12T22:03:54.824323Z",
     "shell.execute_reply.started": "2024-11-12T22:03:54.792307Z"
    },
    "tags": []
   },
   "outputs": [
    {
     "name": "stdout",
     "output_type": "stream",
     "text": [
      "objective: binary:logistic\n",
      "base_score: None\n",
      "booster: None\n",
      "callbacks: None\n",
      "colsample_bylevel: None\n",
      "colsample_bynode: None\n",
      "colsample_bytree: None\n",
      "device: None\n",
      "early_stopping_rounds: None\n",
      "enable_categorical: False\n",
      "eval_metric: None\n",
      "feature_types: None\n",
      "gamma: None\n",
      "grow_policy: None\n",
      "importance_type: None\n",
      "interaction_constraints: None\n",
      "learning_rate: 0.1\n",
      "max_bin: None\n",
      "max_cat_threshold: None\n",
      "max_cat_to_onehot: None\n",
      "max_delta_step: None\n",
      "max_depth: 6\n",
      "max_leaves: None\n",
      "min_child_weight: None\n",
      "missing: nan\n",
      "monotone_constraints: None\n",
      "multi_strategy: None\n",
      "n_estimators: 100\n",
      "n_jobs: -1\n",
      "num_parallel_tree: None\n",
      "random_state: None\n",
      "reg_alpha: None\n",
      "reg_lambda: None\n",
      "sampling_method: None\n",
      "scale_pos_weight: None\n",
      "subsample: None\n",
      "tree_method: None\n",
      "validate_parameters: None\n",
      "verbosity: 1\n"
     ]
    }
   ],
   "source": [
    "# Get the default hyperparameters\n",
    "default_params = gbt.get_params()\n",
    "\n",
    "# Print the default hyperparameters\n",
    "for param, value in default_params.items():\n",
    "    print(f\"{param}: {value}\")"
   ]
  },
  {
   "cell_type": "markdown",
   "metadata": {},
   "source": [
    "## Exercise 2\n",
    "\n",
    "- do hyperparameter optimisation on 100k evts using Randomized Grid search\n",
    "- select a reasonable number and range of hyperparameters\n",
    "- USE all possible cores (check sklearn doc)\n",
    "- while the code runs, check with top that there are indeed several python processes running\n",
    "- check metrics (accuracy, ROC curve, signal vs background, feature ranking)"
   ]
  },
  {
   "cell_type": "code",
   "execution_count": 13,
   "metadata": {
    "execution": {
     "iopub.execute_input": "2024-11-12T22:03:54.827504Z",
     "iopub.status.busy": "2024-11-12T22:03:54.827345Z",
     "iopub.status.idle": "2024-11-12T22:04:20.160752Z",
     "shell.execute_reply": "2024-11-12T22:04:20.159848Z",
     "shell.execute_reply.started": "2024-11-12T22:03:54.827484Z"
    },
    "tags": []
   },
   "outputs": [
    {
     "name": "stdout",
     "output_type": "stream",
     "text": [
      "Fitting 3 folds for each of 20 candidates, totalling 60 fits\n"
     ]
    },
    {
     "name": "stderr",
     "output_type": "stream",
     "text": [
      "/home/jovyan/.local/lib/python3.9/site-packages/xgboost/core.py:158: UserWarning: [22:04:16] WARNING: /workspace/src/learner.cc:740: \n",
      "Parameters: { \"use_label_encoder\" } are not used.\n",
      "\n",
      "  warnings.warn(smsg, UserWarning)\n"
     ]
    },
    {
     "name": "stdout",
     "output_type": "stream",
     "text": [
      "CPU times: user 2min 35s, sys: 3.45 s, total: 2min 38s\n",
      "Wall time: 25.3 s\n",
      "Best parameters found:  {'subsample': 0.8, 'n_estimators': 100, 'max_depth': 10, 'learning_rate': 0.05, 'colsample_bytree': 0.8}\n",
      "Best accuracy:  0.7226965342450207\n"
     ]
    }
   ],
   "source": [
    "from sklearn.model_selection import RandomizedSearchCV\n",
    "\n",
    "# Initialize the model\n",
    "xgb_model = xgb.XGBClassifier(use_label_encoder=False, eval_metric=\"mlogloss\")\n",
    "\n",
    "# Define the parameter distribution\n",
    "param_dist = {\n",
    "    'n_estimators': [50, 100, 200, 300],\n",
    "    'learning_rate': [0.01, 0.05, 0.1, 0.2, 0.3],\n",
    "    'max_depth': [3, 5, 7, 10],\n",
    "    'subsample': [0.6, 0.8, 1.0],\n",
    "    'colsample_bytree': [0.6, 0.8, 1.0]\n",
    "}\n",
    "\n",
    "# Set up RandomizedSearchCV\n",
    "random_search = RandomizedSearchCV(estimator=xgb_model, param_distributions=param_dist, n_iter=20, scoring='accuracy', cv=3, n_jobs=-1, verbose=1, random_state=42)\n",
    "\n",
    "# Run random search\n",
    "%time random_search.fit(x_train, y_train)\n",
    "\n",
    "# Best parameters and best score\n",
    "print(\"Best parameters found: \", random_search.best_params_)\n",
    "print(\"Best accuracy: \", random_search.best_score_)"
   ]
  },
  {
   "cell_type": "code",
   "execution_count": 14,
   "metadata": {
    "execution": {
     "iopub.execute_input": "2024-11-12T22:04:20.165092Z",
     "iopub.status.busy": "2024-11-12T22:04:20.164753Z",
     "iopub.status.idle": "2024-11-12T22:04:20.325331Z",
     "shell.execute_reply": "2024-11-12T22:04:20.324585Z",
     "shell.execute_reply.started": "2024-11-12T22:04:20.165063Z"
    },
    "tags": []
   },
   "outputs": [],
   "source": [
    "# Evaluate the best model on the test set\n",
    "best_model = random_search.best_estimator_\n",
    "y_pred = best_model.predict(x_test)"
   ]
  },
  {
   "cell_type": "code",
   "execution_count": 15,
   "metadata": {
    "execution": {
     "iopub.execute_input": "2024-11-12T22:04:20.326637Z",
     "iopub.status.busy": "2024-11-12T22:04:20.326368Z",
     "iopub.status.idle": "2024-11-12T22:04:20.408799Z",
     "shell.execute_reply": "2024-11-12T22:04:20.408221Z",
     "shell.execute_reply.started": "2024-11-12T22:04:20.326610Z"
    },
    "tags": []
   },
   "outputs": [
    {
     "name": "stdout",
     "output_type": "stream",
     "text": [
      "Accuracy: 0.7313\n",
      "Precision: 0.7453\n",
      "Recall: 0.7522\n",
      "F1-Score: 0.7487\n"
     ]
    }
   ],
   "source": [
    "accuracy = accuracy_score(y_test, y_pred)\n",
    "precision = precision_score(y_test, y_pred, average='binary')  # For binary classification\n",
    "recall = recall_score(y_test, y_pred, average='binary')\n",
    "f1 = f1_score(y_test, y_pred, average='binary')\n",
    "\n",
    "print(f\"Accuracy: {accuracy:.4f}\")\n",
    "print(f\"Precision: {precision:.4f}\")\n",
    "print(f\"Recall: {recall:.4f}\")\n",
    "print(f\"F1-Score: {f1:.4f}\")"
   ]
  },
  {
   "cell_type": "code",
   "execution_count": 16,
   "metadata": {
    "execution": {
     "iopub.execute_input": "2024-11-12T22:04:20.409808Z",
     "iopub.status.busy": "2024-11-12T22:04:20.409641Z",
     "iopub.status.idle": "2024-11-12T22:04:20.837171Z",
     "shell.execute_reply": "2024-11-12T22:04:20.835561Z",
     "shell.execute_reply.started": "2024-11-12T22:04:20.409786Z"
    },
    "tags": []
   },
   "outputs": [
    {
     "data": {
      "image/png": "[encoded data removed]",
      "text/plain": [
       "<Figure size 432x288 with 1 Axes>"
      ]
     },
     "metadata": {
      "needs_background": "light"
     },
     "output_type": "display_data"
    }
   ],
   "source": [
    "# Get predicted probabilities for the positive class\n",
    "y_scores = best_model.predict_proba(x_test)[:, 1]\n",
    "\n",
    "#make ROC curve\n",
    "drawROC2(y_scores, y_test)"
   ]
  },
  {
   "cell_type": "code",
   "execution_count": 17,
   "metadata": {
    "execution": {
     "iopub.execute_input": "2024-11-12T22:04:20.839996Z",
     "iopub.status.busy": "2024-11-12T22:04:20.839488Z",
     "iopub.status.idle": "2024-11-12T22:04:21.792347Z",
     "shell.execute_reply": "2024-11-12T22:04:21.791490Z",
     "shell.execute_reply.started": "2024-11-12T22:04:20.839907Z"
    },
    "tags": []
   },
   "outputs": [
    {
     "data": {
      "image/png": "[encoded data removed]",
      "text/plain": [
       "<Figure size 432x288 with 1 Axes>"
      ]
     },
     "metadata": {
      "needs_background": "light"
     },
     "output_type": "display_data"
    }
   ],
   "source": [
    "#plot signal vs background with prediction\n",
    "variable = 'm_bb'\n",
    "plotSignalvsBgWithPrediction2(x_test.loc[:, variable], y_test, y_pred)"
   ]
  },
  {
   "cell_type": "code",
   "execution_count": 18,
   "metadata": {
    "execution": {
     "iopub.execute_input": "2024-11-12T22:04:21.793782Z",
     "iopub.status.busy": "2024-11-12T22:04:21.793604Z",
     "iopub.status.idle": "2024-11-12T22:04:22.539120Z",
     "shell.execute_reply": "2024-11-12T22:04:22.538275Z",
     "shell.execute_reply.started": "2024-11-12T22:04:21.793760Z"
    }
   },
   "outputs": [
    {
     "name": "stdout",
     "output_type": "stream",
     "text": [
      "CPU times: user 819 ms, sys: 1.05 s, total: 1.87 s\n",
      "Wall time: 183 ms\n"
     ]
    },
    {
     "data": {
      "text/plain": [
       "999999"
      ]
     },
     "execution_count": 18,
     "metadata": {},
     "output_type": "execute_result"
    }
   ],
   "source": [
    "# read in input parquet file\n",
    "input_file = \"Higgs1M.parquet\"\n",
    "%time df = pd.read_parquet(input_file)\n",
    "\n",
    "#create train/test set\n",
    "y = df.iloc[:, 0] #df with label\n",
    "x = df.iloc[: , 1:] #df with all other variables\n",
    "\n",
    "x_train, x_test, y_train, y_test = train_test_split(x, y, test_size=0.2, random_state=42)\n",
    "len(y)"
   ]
  },
  {
   "cell_type": "code",
   "execution_count": 19,
   "metadata": {
    "execution": {
     "iopub.execute_input": "2024-11-12T22:04:22.540536Z",
     "iopub.status.busy": "2024-11-12T22:04:22.540357Z",
     "iopub.status.idle": "2024-11-12T22:04:30.530361Z",
     "shell.execute_reply": "2024-11-12T22:04:30.529605Z",
     "shell.execute_reply.started": "2024-11-12T22:04:22.540515Z"
    },
    "tags": []
   },
   "outputs": [
    {
     "name": "stdout",
     "output_type": "stream",
     "text": [
      "CPU times: user 5min 50s, sys: 1.34 s, total: 5min 51s\n",
      "Wall time: 7.82 s\n"
     ]
    }
   ],
   "source": [
    "# Define the XGBoost classifier with multi-core support\n",
    "best_gbt = xgb.XGBClassifier(\n",
    "    n_estimators=100,      # Number of trees \n",
    "    max_depth=10,           # Maximum depth of each tree \n",
    "    learning_rate=0.05,     # Learning rate\n",
    "    subsample=0.8,\n",
    "    colsample_bytree=0.8,\n",
    "    n_jobs=-1,             # Use all available cores\n",
    "    verbosity=1            # Set verbosity level to monitor training progress\n",
    ")\n",
    "\n",
    "# Train the model\n",
    "%time best_gbt.fit(x_train, y_train)\n",
    "\n",
    "# Make predictions on the test set\n",
    "y_pred = best_gbt.predict(x_test)"
   ]
  },
  {
   "cell_type": "code",
   "execution_count": 20,
   "metadata": {
    "execution": {
     "iopub.execute_input": "2024-11-12T22:04:30.532460Z",
     "iopub.status.busy": "2024-11-12T22:04:30.532109Z",
     "iopub.status.idle": "2024-11-12T22:04:30.963370Z",
     "shell.execute_reply": "2024-11-12T22:04:30.962173Z",
     "shell.execute_reply.started": "2024-11-12T22:04:30.532433Z"
    }
   },
   "outputs": [
    {
     "name": "stdout",
     "output_type": "stream",
     "text": [
      "Accuracy: 0.7400\n",
      "Precision: 0.7505\n",
      "Recall: 0.7607\n",
      "F1-Score: 0.7556\n"
     ]
    }
   ],
   "source": [
    "accuracy = accuracy_score(y_test, y_pred)\n",
    "precision = precision_score(y_test, y_pred, average='binary')  # For binary classification\n",
    "recall = recall_score(y_test, y_pred, average='binary')\n",
    "f1 = f1_score(y_test, y_pred, average='binary')\n",
    "\n",
    "print(f\"Accuracy: {accuracy:.4f}\")\n",
    "print(f\"Precision: {precision:.4f}\")\n",
    "print(f\"Recall: {recall:.4f}\")\n",
    "print(f\"F1-Score: {f1:.4f}\")"
   ]
  },
  {
   "cell_type": "code",
   "execution_count": 21,
   "metadata": {
    "execution": {
     "iopub.execute_input": "2024-11-12T22:04:30.965851Z",
     "iopub.status.busy": "2024-11-12T22:04:30.965376Z",
     "iopub.status.idle": "2024-11-12T22:04:31.403889Z",
     "shell.execute_reply": "2024-11-12T22:04:31.402522Z",
     "shell.execute_reply.started": "2024-11-12T22:04:30.965793Z"
    }
   },
   "outputs": [
    {
     "data": {
      "image/png": "[encoded data removed]",
      "text/plain": [
       "<Figure size 432x288 with 1 Axes>"
      ]
     },
     "metadata": {
      "needs_background": "light"
     },
     "output_type": "display_data"
    }
   ],
   "source": [
    "# Get predicted probabilities for the positive class\n",
    "y_scores = best_gbt.predict_proba(x_test)[:, 1]\n",
    "\n",
    "#make ROC curve\n",
    "drawROC2(y_scores, y_test)"
   ]
  },
  {
   "cell_type": "code",
   "execution_count": 22,
   "metadata": {
    "execution": {
     "iopub.execute_input": "2024-11-12T22:04:31.406470Z",
     "iopub.status.busy": "2024-11-12T22:04:31.406186Z",
     "iopub.status.idle": "2024-11-12T22:04:32.579000Z",
     "shell.execute_reply": "2024-11-12T22:04:32.577473Z",
     "shell.execute_reply.started": "2024-11-12T22:04:31.406438Z"
    }
   },
   "outputs": [
    {
     "data": {
      "image/png": "[encoded data removed]",
      "text/plain": [
       "<Figure size 432x288 with 1 Axes>"
      ]
     },
     "metadata": {
      "needs_background": "light"
     },
     "output_type": "display_data"
    }
   ],
   "source": [
    "#plot signal vs background with prediction\n",
    "variable = 'm_bb'\n",
    "plotSignalvsBgWithPrediction2(x_test.loc[:, variable], y_test, y_pred)"
   ]
  },
  {
   "cell_type": "code",
   "execution_count": 23,
   "metadata": {
    "execution": {
     "iopub.execute_input": "2024-11-12T22:04:32.581639Z",
     "iopub.status.busy": "2024-11-12T22:04:32.581116Z",
     "iopub.status.idle": "2024-11-12T22:04:33.068870Z",
     "shell.execute_reply": "2024-11-12T22:04:33.068215Z",
     "shell.execute_reply.started": "2024-11-12T22:04:32.581590Z"
    }
   },
   "outputs": [
    {
     "name": "stdout",
     "output_type": "stream",
     "text": [
      "Feature Importance Ranking:\n",
      "                     Feature  Importance\n",
      "25                      m_bb    0.203095\n",
      "27                    m_wwbb    0.097946\n",
      "26                     m_wbb    0.083720\n",
      "22                     m_jjj    0.071366\n",
      "5                    jet1_pt    0.060950\n",
      "24                     m_jlv    0.059687\n",
      "8                 jet1_b-tag    0.040658\n",
      "21                      m_jj    0.038327\n",
      "0                  lepton_pT    0.036539\n",
      "3   missing_energy_magnitude    0.034403\n",
      "9                    jet2_pt    0.028985\n",
      "12                jet2_b-tag    0.026940\n",
      "20                jet4_b-tag    0.025097\n",
      "16                jet3_b-tag    0.023119\n",
      "23                      m_lv    0.020954\n",
      "13                   jet3_pt    0.019196\n",
      "17                   jet4_pt    0.017856\n",
      "1                 lepton_eta    0.013451\n",
      "6                   jet1_eta    0.013111\n",
      "14                  jet3_eta    0.010954\n",
      "10                  jet2_eta    0.010909\n",
      "18                   je4_eta    0.010636\n",
      "15                  jet3_phi    0.009061\n",
      "19                  jet4_phi    0.008766\n",
      "11                  jet2_phi    0.008623\n",
      "4         missing_energy_phi    0.008620\n",
      "2                 lepton_phi    0.008532\n",
      "7                   jet1_phi    0.008499\n"
     ]
    },
    {
     "data": {
      "text/plain": [
       "<Figure size 720x432 with 0 Axes>"
      ]
     },
     "metadata": {},
     "output_type": "display_data"
    },
    {
     "data": {
      "image/png": "[encoded data removed]",
      "text/plain": [
       "<Figure size 432x288 with 1 Axes>"
      ]
     },
     "metadata": {
      "needs_background": "light"
     },
     "output_type": "display_data"
    }
   ],
   "source": [
    "#draw feature importance\n",
    "drawFeatures(x, best_gbt)"
   ]
  }
 ],
 "metadata": {
  "kernelspec": {
   "display_name": "PySpark",
   "language": "python",
   "name": "pyspark"
  },
  "language_info": {
   "codemirror_mode": {
    "name": "ipython",
    "version": 3
   },
   "file_extension": ".py",
   "mimetype": "text/x-python",
   "name": "python",
   "nbconvert_exporter": "python",
   "pygments_lexer": "ipython3",
   "version": "3.9.7"
  },
  "sparkconnect": {
   "bundled_options": [],
   "list_of_options": []
  }
 },
 "nbformat": 4,
 "nbformat_minor": 4
}
