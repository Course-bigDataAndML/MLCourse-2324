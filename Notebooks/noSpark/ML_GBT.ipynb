{
 "cells": [
  {
   "cell_type": "markdown",
   "metadata": {},
   "source": [
    "# Hands-on Day 2\n",
    "\n",
    "## You'll learn\n",
    "\n",
    "### ML methods\n",
    "- Gradient Boosting Trees with sklearn\n",
    "\n",
    "### ML techniques\n",
    "- hyperparameter optimisation\n",
    "- ROC curves"
   ]
  },
  {
   "cell_type": "markdown",
   "metadata": {},
   "source": [
    "# Initial setup \n",
    "\n",
    "- read in parquet file\n",
    "- create x,y vectors from panda dataframe"
   ]
  },
  {
   "cell_type": "code",
   "execution_count": 1,
   "metadata": {
    "execution": {
     "iopub.execute_input": "2024-11-13T11:01:52.383381Z",
     "iopub.status.busy": "2024-11-13T11:01:52.382667Z",
     "iopub.status.idle": "2024-11-13T11:01:52.450829Z",
     "shell.execute_reply": "2024-11-13T11:01:52.449271Z",
     "shell.execute_reply.started": "2024-11-13T11:01:52.383186Z"
    },
    "tags": []
   },
   "outputs": [],
   "source": [
    "%reload_ext custom_magics\n",
    "%load_ext autoreload\n",
    "%autoreload 2"
   ]
  },
  {
   "cell_type": "code",
   "execution_count": 2,
   "metadata": {
    "execution": {
     "iopub.execute_input": "2024-11-13T11:01:52.454093Z",
     "iopub.status.busy": "2024-11-13T11:01:52.453881Z",
     "iopub.status.idle": "2024-11-13T11:01:53.408599Z",
     "shell.execute_reply": "2024-11-13T11:01:53.406910Z",
     "shell.execute_reply.started": "2024-11-13T11:01:52.454072Z"
    },
    "tags": []
   },
   "outputs": [],
   "source": [
    "import pandas as pd\n",
    "import numpy as np\n",
    "import matplotlib.pyplot as plt\n",
    "%matplotlib inline\n",
    "\n",
    "# Check out these custom functions\n",
    "from custom_functions import *"
   ]
  },
  {
   "cell_type": "code",
   "execution_count": 3,
   "metadata": {
    "execution": {
     "iopub.execute_input": "2024-11-13T11:01:53.411678Z",
     "iopub.status.busy": "2024-11-13T11:01:53.411034Z",
     "iopub.status.idle": "2024-11-13T11:01:53.560214Z",
     "shell.execute_reply": "2024-11-13T11:01:53.559542Z",
     "shell.execute_reply.started": "2024-11-13T11:01:53.411614Z"
    },
    "tags": []
   },
   "outputs": [
    {
     "name": "stdout",
     "output_type": "stream",
     "text": [
      "CPU times: user 209 ms, sys: 205 ms, total: 414 ms\n",
      "Wall time: 119 ms\n"
     ]
    }
   ],
   "source": [
    "#define number of events - to pick input file\n",
    "evt = \"100k\"\n",
    "#evt = \"1M\"\n",
    "\n",
    "# read in input parquet file\n",
    "input_file = \"Higgs\"+evt+\".parquet\"\n",
    "%time df = pd.read_parquet(input_file)"
   ]
  },
  {
   "cell_type": "code",
   "execution_count": 4,
   "metadata": {
    "execution": {
     "iopub.execute_input": "2024-11-13T11:01:53.561537Z",
     "iopub.status.busy": "2024-11-13T11:01:53.561242Z",
     "iopub.status.idle": "2024-11-13T11:01:53.584337Z",
     "shell.execute_reply": "2024-11-13T11:01:53.583761Z",
     "shell.execute_reply.started": "2024-11-13T11:01:53.561514Z"
    },
    "tags": []
   },
   "outputs": [
    {
     "data": {
      "text/plain": [
       "99999"
      ]
     },
     "execution_count": 4,
     "metadata": {},
     "output_type": "execute_result"
    }
   ],
   "source": [
    "# The first column is the target variable\n",
    "y = df.iloc[:, 0] #df with label\n",
    "x = df.iloc[: , 1:] #df with all other variables\n",
    "\n",
    "len(x)"
   ]
  },
  {
   "cell_type": "markdown",
   "metadata": {},
   "source": [
    "# Data preprocessing"
   ]
  },
  {
   "cell_type": "markdown",
   "metadata": {},
   "source": [
    "##  Exercise 1\n",
    "\n",
    "- split x and y into training and test sets (80% training, 20% testing, randomly distributed)\n",
    "- call them *x_train*, *x_test*, *y_train*, *y_test*\n",
    "- you may use the sklearn built-in function"
   ]
  },
  {
   "cell_type": "code",
   "execution_count": 5,
   "metadata": {
    "execution": {
     "iopub.execute_input": "2024-11-13T11:01:53.586563Z",
     "iopub.status.busy": "2024-11-13T11:01:53.586278Z",
     "iopub.status.idle": "2024-11-13T11:01:54.004122Z",
     "shell.execute_reply": "2024-11-13T11:01:54.003326Z",
     "shell.execute_reply.started": "2024-11-13T11:01:53.586541Z"
    },
    "tags": []
   },
   "outputs": [],
   "source": [
    "from sklearn.model_selection import train_test_split\n",
    "\n",
    "# Split the data into training and test sets (80% training, 20% testing)\n",
    "x_train, x_test, y_train, y_test = train_test_split(x, y, test_size=0.2, random_state=42)"
   ]
  },
  {
   "cell_type": "code",
   "execution_count": 6,
   "metadata": {
    "execution": {
     "iopub.execute_input": "2024-11-13T11:01:54.005249Z",
     "iopub.status.busy": "2024-11-13T11:01:54.005084Z",
     "iopub.status.idle": "2024-11-13T11:01:54.028627Z",
     "shell.execute_reply": "2024-11-13T11:01:54.028029Z",
     "shell.execute_reply.started": "2024-11-13T11:01:54.005230Z"
    },
    "tags": []
   },
   "outputs": [
    {
     "name": "stdout",
     "output_type": "stream",
     "text": [
      "99999\n",
      "99999\n"
     ]
    }
   ],
   "source": [
    "#sanity check\n",
    "\n",
    "print(len(x_train)+len(x_test))\n",
    "print(len(y_train)+len(y_test))"
   ]
  },
  {
   "cell_type": "markdown",
   "metadata": {},
   "source": [
    "# ML models: GBT"
   ]
  },
  {
   "cell_type": "code",
   "execution_count": 7,
   "metadata": {
    "execution": {
     "iopub.execute_input": "2024-11-13T11:01:54.029643Z",
     "iopub.status.busy": "2024-11-13T11:01:54.029495Z",
     "iopub.status.idle": "2024-11-13T11:02:59.846665Z",
     "shell.execute_reply": "2024-11-13T11:02:59.845815Z",
     "shell.execute_reply.started": "2024-11-13T11:01:54.029625Z"
    },
    "tags": []
   },
   "outputs": [
    {
     "name": "stdout",
     "output_type": "stream",
     "text": [
      "CPU times: user 1min 5s, sys: 62.5 ms, total: 1min 5s\n",
      "Wall time: 1min 5s\n"
     ]
    }
   ],
   "source": [
    "from sklearn.ensemble import GradientBoostingClassifier\n",
    "from sklearn.ensemble import HistGradientBoostingClassifier\n",
    "\n",
    "# Initialize the Gradient Boosting Classifier\n",
    "gbt = GradientBoostingClassifier()  \n",
    "\n",
    "# Train the model with default hyperparameters (takes about 1m on 100k, 12m on 1M)\n",
    "%time gbt.fit(x_train, y_train)\n",
    "\n",
    "# Make predictions on the test set\n",
    "y_pred = gbt.predict(x_test)"
   ]
  },
  {
   "cell_type": "markdown",
   "metadata": {},
   "source": [
    "##  Exercise 2\n",
    "\n",
    "- evaluate the gbt model by printing: accuracy, precision, F1, recall, confusion matrix\n",
    "- you may use the sklearn built-in functions"
   ]
  },
  {
   "cell_type": "code",
   "execution_count": 8,
   "metadata": {
    "execution": {
     "iopub.execute_input": "2024-11-13T11:02:59.848618Z",
     "iopub.status.busy": "2024-11-13T11:02:59.848427Z",
     "iopub.status.idle": "2024-11-13T11:02:59.922841Z",
     "shell.execute_reply": "2024-11-13T11:02:59.922301Z",
     "shell.execute_reply.started": "2024-11-13T11:02:59.848596Z"
    },
    "tags": []
   },
   "outputs": [
    {
     "name": "stdout",
     "output_type": "stream",
     "text": [
      "Accuracy: 0.7176\n",
      "Precision: 0.7312\n",
      "Recall: 0.7420\n",
      "F1-Score: 0.7365\n"
     ]
    }
   ],
   "source": [
    "# Evaluate the model\n",
    "from sklearn.metrics import accuracy_score, precision_score, recall_score, f1_score\n",
    "\n",
    "accuracy = accuracy_score(y_test, y_pred)\n",
    "precision = precision_score(y_test, y_pred, average='binary')  # For binary classification\n",
    "recall = recall_score(y_test, y_pred, average='binary')\n",
    "f1 = f1_score(y_test, y_pred, average='binary')\n",
    "\n",
    "print(f\"Accuracy: {accuracy:.4f}\")\n",
    "print(f\"Precision: {precision:.4f}\")\n",
    "print(f\"Recall: {recall:.4f}\")\n",
    "print(f\"F1-Score: {f1:.4f}\")"
   ]
  },
  {
   "cell_type": "code",
   "execution_count": 9,
   "metadata": {
    "execution": {
     "iopub.execute_input": "2024-11-13T11:02:59.923910Z",
     "iopub.status.busy": "2024-11-13T11:02:59.923761Z",
     "iopub.status.idle": "2024-11-13T11:02:59.997204Z",
     "shell.execute_reply": "2024-11-13T11:02:59.996596Z",
     "shell.execute_reply.started": "2024-11-13T11:02:59.923892Z"
    }
   },
   "outputs": [
    {
     "name": "stdout",
     "output_type": "stream",
     "text": [
      "Classification Report:\n",
      "              precision    recall  f1-score   support\n",
      "\n",
      "         0.0       0.70      0.69      0.70      9358\n",
      "         1.0       0.73      0.74      0.74     10642\n",
      "\n",
      "    accuracy                           0.72     20000\n",
      "   macro avg       0.72      0.72      0.72     20000\n",
      "weighted avg       0.72      0.72      0.72     20000\n",
      "\n"
     ]
    }
   ],
   "source": [
    "from sklearn.metrics import classification_report\n",
    "\n",
    "report = classification_report(y_test, y_pred)\n",
    "print(\"Classification Report:\")\n",
    "print(report) "
   ]
  },
  {
   "cell_type": "code",
   "execution_count": 10,
   "metadata": {
    "execution": {
     "iopub.execute_input": "2024-11-13T11:02:59.998279Z",
     "iopub.status.busy": "2024-11-13T11:02:59.998132Z",
     "iopub.status.idle": "2024-11-13T11:03:00.035137Z",
     "shell.execute_reply": "2024-11-13T11:03:00.034541Z",
     "shell.execute_reply.started": "2024-11-13T11:02:59.998261Z"
    }
   },
   "outputs": [
    {
     "name": "stdout",
     "output_type": "stream",
     "text": [
      "Confusion Matrix:\n",
      "[[6455 2903]\n",
      " [2746 7896]]\n"
     ]
    }
   ],
   "source": [
    "# print the confusion matrix\n",
    "from sklearn.metrics import confusion_matrix\n",
    "\n",
    "cm = confusion_matrix(y_test, y_pred)\n",
    "print(\"Confusion Matrix:\")\n",
    "print(cm)"
   ]
  },
  {
   "cell_type": "code",
   "execution_count": 11,
   "metadata": {
    "execution": {
     "iopub.execute_input": "2024-11-13T11:03:00.035951Z",
     "iopub.status.busy": "2024-11-13T11:03:00.035812Z",
     "iopub.status.idle": "2024-11-13T11:03:00.539159Z",
     "shell.execute_reply": "2024-11-13T11:03:00.537545Z",
     "shell.execute_reply.started": "2024-11-13T11:03:00.035934Z"
    },
    "tags": []
   },
   "outputs": [
    {
     "data": {
      "image/png": "[encoded data removed]",
      "text/plain": [
       "<Figure size 432x288 with 1 Axes>"
      ]
     },
     "metadata": {
      "needs_background": "light"
     },
     "output_type": "display_data"
    }
   ],
   "source": [
    "# Get predicted probabilities for the positive class\n",
    "y_scores = gbt.predict_proba(x_test)[:, 1]\n",
    "\n",
    "#make ROC curve\n",
    "drawROC2(y_scores, y_test)"
   ]
  },
  {
   "cell_type": "code",
   "execution_count": 12,
   "metadata": {
    "execution": {
     "iopub.execute_input": "2024-11-13T11:03:00.541550Z",
     "iopub.status.busy": "2024-11-13T11:03:00.541019Z",
     "iopub.status.idle": "2024-11-13T11:03:01.586661Z",
     "shell.execute_reply": "2024-11-13T11:03:01.584992Z",
     "shell.execute_reply.started": "2024-11-13T11:03:00.541502Z"
    },
    "tags": []
   },
   "outputs": [
    {
     "data": {
      "image/png": "[encoded data removed]",
      "text/plain": [
       "<Figure size 432x288 with 1 Axes>"
      ]
     },
     "metadata": {
      "needs_background": "light"
     },
     "output_type": "display_data"
    }
   ],
   "source": [
    "#plot signal vs background with prediction\n",
    "variable = 'm_bb'\n",
    "plotSignalvsBgWithPrediction2(x_test.loc[:, variable], y_test, y_pred)"
   ]
  },
  {
   "cell_type": "code",
   "execution_count": 13,
   "metadata": {
    "execution": {
     "iopub.execute_input": "2024-11-13T11:03:01.589395Z",
     "iopub.status.busy": "2024-11-13T11:03:01.588891Z",
     "iopub.status.idle": "2024-11-13T11:03:01.858903Z",
     "shell.execute_reply": "2024-11-13T11:03:01.858327Z",
     "shell.execute_reply.started": "2024-11-13T11:03:01.589334Z"
    },
    "tags": []
   },
   "outputs": [
    {
     "name": "stdout",
     "output_type": "stream",
     "text": [
      "Feature Importance Ranking:\n",
      "                     Feature  Importance\n",
      "25                      m_bb    0.349847\n",
      "27                    m_wwbb    0.133188\n",
      "26                     m_wbb    0.130761\n",
      "22                     m_jjj    0.101695\n",
      "24                     m_jlv    0.081945\n",
      "5                    jet1_pt    0.079847\n",
      "0                  lepton_pT    0.035317\n",
      "3   missing_energy_magnitude    0.029522\n",
      "9                    jet2_pt    0.018239\n",
      "21                      m_jj    0.013971\n",
      "17                   jet4_pt    0.006377\n",
      "23                      m_lv    0.006085\n",
      "8                 jet1_b-tag    0.004761\n",
      "13                   jet3_pt    0.004291\n",
      "16                jet3_b-tag    0.001785\n",
      "20                jet4_b-tag    0.000722\n",
      "12                jet2_b-tag    0.000365\n",
      "6                   jet1_eta    0.000354\n",
      "10                  jet2_eta    0.000347\n",
      "19                  jet4_phi    0.000272\n",
      "14                  jet3_eta    0.000160\n",
      "15                  jet3_phi    0.000088\n",
      "18                   je4_eta    0.000060\n",
      "1                 lepton_eta    0.000000\n",
      "4         missing_energy_phi    0.000000\n",
      "11                  jet2_phi    0.000000\n",
      "2                 lepton_phi    0.000000\n",
      "7                   jet1_phi    0.000000\n"
     ]
    },
    {
     "data": {
      "text/plain": [
       "<Figure size 720x432 with 0 Axes>"
      ]
     },
     "metadata": {},
     "output_type": "display_data"
    },
    {
     "data": {
      "image/png": "[encoded data removed]",
      "text/plain": [
       "<Figure size 432x288 with 1 Axes>"
      ]
     },
     "metadata": {
      "needs_background": "light"
     },
     "output_type": "display_data"
    }
   ],
   "source": [
    "#draw feature importance\n",
    "drawFeatures(x, gbt)"
   ]
  },
  {
   "cell_type": "markdown",
   "metadata": {},
   "source": [
    "# Hyperparameter scan"
   ]
  },
  {
   "cell_type": "code",
   "execution_count": 14,
   "metadata": {
    "execution": {
     "iopub.execute_input": "2024-11-13T11:03:01.861402Z",
     "iopub.status.busy": "2024-11-13T11:03:01.861236Z",
     "iopub.status.idle": "2024-11-13T11:03:01.886641Z",
     "shell.execute_reply": "2024-11-13T11:03:01.886099Z",
     "shell.execute_reply.started": "2024-11-13T11:03:01.861382Z"
    }
   },
   "outputs": [
    {
     "name": "stdout",
     "output_type": "stream",
     "text": [
      "ccp_alpha: 0.0\n",
      "criterion: friedman_mse\n",
      "init: None\n",
      "learning_rate: 0.1\n",
      "loss: deviance\n",
      "max_depth: 3\n",
      "max_features: None\n",
      "max_leaf_nodes: None\n",
      "min_impurity_decrease: 0.0\n",
      "min_samples_leaf: 1\n",
      "min_samples_split: 2\n",
      "min_weight_fraction_leaf: 0.0\n",
      "n_estimators: 100\n",
      "n_iter_no_change: None\n",
      "random_state: None\n",
      "subsample: 1.0\n",
      "tol: 0.0001\n",
      "validation_fraction: 0.1\n",
      "verbose: 0\n",
      "warm_start: False\n"
     ]
    }
   ],
   "source": [
    "# Get the default hyperparameters\n",
    "default_params = gbt.get_params()\n",
    "\n",
    "# Print the default hyperparameters\n",
    "for param, value in default_params.items():\n",
    "    print(f\"{param}: {value}\")"
   ]
  },
  {
   "cell_type": "markdown",
   "metadata": {},
   "source": [
    "## Exercise 3\n",
    "\n",
    "- do hyperparameter optimisation on 100k evts\n",
    "- select a reasonable number and range of hyperparameters\n",
    "- do not USE all possible cores (check sklearn doc)\n",
    "- while the code runs, check with top that there are indeed several python processes running\n",
    "- check metrics (accuracy, ROC curve, signal vs background, feature ranking)"
   ]
  },
  {
   "cell_type": "code",
   "execution_count": null,
   "metadata": {
    "execution": {
     "iopub.execute_input": "2024-11-13T11:03:01.887484Z",
     "iopub.status.busy": "2024-11-13T11:03:01.887340Z"
    },
    "tags": []
   },
   "outputs": [],
   "source": [
    "from sklearn.model_selection import GridSearchCV\n",
    "\n",
    "# Define the hyperparameter grid - takes 35 minutes with 100k evts\n",
    "param_grid = {\n",
    "    'n_estimators': [50, 100, 150, 200],  # Number of trees\n",
    "    'learning_rate': [0.01, 0.05, 0.1, 0.2],  # Learning rate\n",
    "    'max_depth': [3, 5, 7, 10]  # Maximum depth of each tree\n",
    "}\n",
    "\n",
    "# Initialize GridSearchCV with 5-fold cross-validation\n",
    "# do not use n_jobs = -1 to use all available cores\n",
    "grid_search = GridSearchCV(estimator=gbt, param_grid=param_grid, cv=5, \n",
    "                           scoring='accuracy', n_jobs=5) \n",
    "\n",
    "# Fit the grid search to the data\n",
    "%time grid_search.fit(x_train, y_train)\n",
    "\n",
    "# Print the best parameters and the corresponding score\n",
    "print(\"Best Hyperparameters: \", grid_search.best_params_)\n",
    "print(\"Best Cross-Validation Score: {:.4f}\".format(grid_search.best_score_))\n",
    "\n",
    "# Evaluate the best model on the test set\n",
    "best_model = grid_search.best_estimator_\n",
    "test_score = best_model.score(x_test, y_test)\n",
    "print(f\"Test Set Accuracy: {test_score:.4f}\")"
   ]
  },
  {
   "cell_type": "code",
   "execution_count": null,
   "metadata": {
    "tags": []
   },
   "outputs": [],
   "source": [
    "# Make predictions on the test set\n",
    "y_pred = best_model.predict(x_test)\n",
    "\n",
    "accuracy = accuracy_score(y_test, y_pred)\n",
    "precision = precision_score(y_test, y_pred, average='binary')  # For binary classification\n",
    "recall = recall_score(y_test, y_pred, average='binary')\n",
    "f1 = f1_score(y_test, y_pred, average='binary')\n",
    "\n",
    "print(f\"Accuracy: {accuracy:.4f}\")\n",
    "print(f\"Precision: {precision:.4f}\")\n",
    "print(f\"Recall: {recall:.4f}\")\n",
    "print(f\"F1-Score: {f1:.4f}\")"
   ]
  },
  {
   "cell_type": "code",
   "execution_count": null,
   "metadata": {
    "tags": []
   },
   "outputs": [],
   "source": [
    "# Get predicted probabilities for the positive class\n",
    "y_scores = best_model.predict_proba(x_test)[:, 1]\n",
    "\n",
    "#make ROC curve\n",
    "drawROC2(y_scores, y_test)"
   ]
  },
  {
   "cell_type": "code",
   "execution_count": null,
   "metadata": {},
   "outputs": [],
   "source": [
    "#plot signal vs background with prediction\n",
    "variable = 'm_bb'\n",
    "plotSignalvsBgWithPrediction2(x_test.loc[:, variable], y_test, y_pred)"
   ]
  },
  {
   "cell_type": "code",
   "execution_count": null,
   "metadata": {
    "tags": []
   },
   "outputs": [],
   "source": [
    "#draw feature importance\n",
    "drawFeatures(x, best_model)"
   ]
  },
  {
   "cell_type": "markdown",
   "metadata": {},
   "source": [
    "## Exercise 4\n",
    "\n",
    "- use hyperparameters from best model to train on 1M events\n",
    "- check metrics (accuracy, ROC curve, signal vs background, feature ranking)"
   ]
  },
  {
   "cell_type": "code",
   "execution_count": null,
   "metadata": {
    "tags": []
   },
   "outputs": [],
   "source": [
    "# read in input parquet file\n",
    "input_file = \"Higgs1M.parquet\"\n",
    "%time df = pd.read_parquet(input_file)\n",
    "\n",
    "#create train/test set\n",
    "y = df.iloc[:, 0] #df with label\n",
    "x = df.iloc[: , 1:] #df with all other variables\n",
    "\n",
    "x_train, x_test, y_train, y_test = train_test_split(x, y, test_size=0.2, random_state=42)\n",
    "len(y)"
   ]
  },
  {
   "cell_type": "code",
   "execution_count": null,
   "metadata": {},
   "outputs": [],
   "source": [
    "# train a model with best hyperparameters on 1M evts (45min)\n",
    "best_gbt = GradientBoostingClassifier(n_estimators=200, learning_rate=0.05, \n",
    "                                      max_depth=5)\n",
    "%time best_gbt.fit(x_train, y_train)\n",
    "\n",
    "# Make predictions on the test set\n",
    "y_pred = best_gbt.predict(x_test)"
   ]
  },
  {
   "cell_type": "code",
   "execution_count": null,
   "metadata": {},
   "outputs": [],
   "source": [
    "accuracy = accuracy_score(y_test, y_pred)\n",
    "precision = precision_score(y_test, y_pred, average='binary')  # For binary classification\n",
    "recall = recall_score(y_test, y_pred, average='binary')\n",
    "f1 = f1_score(y_test, y_pred, average='binary')\n",
    "\n",
    "print(f\"Accuracy: {accuracy:.4f}\")\n",
    "print(f\"Precision: {precision:.4f}\")\n",
    "print(f\"Recall: {recall:.4f}\")\n",
    "print(f\"F1-Score: {f1:.4f}\")"
   ]
  },
  {
   "cell_type": "code",
   "execution_count": null,
   "metadata": {
    "tags": []
   },
   "outputs": [],
   "source": [
    "# Get predicted probabilities for the positive class\n",
    "y_scores = best_gbt.predict_proba(x_test)[:, 1]\n",
    "\n",
    "#make ROC curve\n",
    "drawROC2(y_scores, y_test)"
   ]
  },
  {
   "cell_type": "code",
   "execution_count": null,
   "metadata": {
    "tags": []
   },
   "outputs": [],
   "source": [
    "#plot signal vs background with prediction\n",
    "variable = 'm_bb'\n",
    "plotSignalvsBgWithPrediction2(x_test.loc[:, variable], y_test, y_pred)"
   ]
  },
  {
   "cell_type": "code",
   "execution_count": null,
   "metadata": {
    "tags": []
   },
   "outputs": [],
   "source": [
    "#draw feature importance\n",
    "drawFeatures(x, best_gbt)"
   ]
  },
  {
   "cell_type": "code",
   "execution_count": null,
   "metadata": {},
   "outputs": [],
   "source": []
  }
 ],
 "metadata": {
  "kernelspec": {
   "display_name": "PySpark",
   "language": "python",
   "name": "pyspark"
  },
  "language_info": {
   "codemirror_mode": {
    "name": "ipython",
    "version": 3
   },
   "file_extension": ".py",
   "mimetype": "text/x-python",
   "name": "python",
   "nbconvert_exporter": "python",
   "pygments_lexer": "ipython3",
   "version": "3.9.7"
  },
  "sparkconnect": {
   "bundled_options": [],
   "list_of_options": []
  }
 },
 "nbformat": 4,
 "nbformat_minor": 4
}
