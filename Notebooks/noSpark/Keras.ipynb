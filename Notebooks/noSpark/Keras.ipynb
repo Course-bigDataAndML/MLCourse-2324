{
 "cells": [
  {
   "cell_type": "markdown",
   "metadata": {},
   "source": [
    "# Hands-on Day 4\n",
    "\n",
    "## You'll learn\n",
    "\n",
    "### ML methods\n",
    "\n",
    "- Deep NN with keras\n"
   ]
  },
  {
   "cell_type": "markdown",
   "metadata": {
    "tags": []
   },
   "source": [
    "# Initial setup \n",
    "\n",
    "- read in parquet file\n",
    "- create x,y vectors from panda dataframe"
   ]
  },
  {
   "cell_type": "code",
   "execution_count": 1,
   "metadata": {
    "execution": {
     "iopub.execute_input": "2024-11-13T08:51:31.011003Z",
     "iopub.status.busy": "2024-11-13T08:51:31.010778Z",
     "iopub.status.idle": "2024-11-13T08:51:32.004887Z",
     "shell.execute_reply": "2024-11-13T08:51:32.004129Z",
     "shell.execute_reply.started": "2024-11-13T08:51:31.010931Z"
    },
    "tags": []
   },
   "outputs": [],
   "source": [
    "%reload_ext custom_functions\n",
    "%load_ext autoreload\n",
    "%autoreload 2"
   ]
  },
  {
   "cell_type": "code",
   "execution_count": 2,
   "metadata": {
    "execution": {
     "iopub.execute_input": "2024-11-13T08:51:32.006101Z",
     "iopub.status.busy": "2024-11-13T08:51:32.005925Z",
     "iopub.status.idle": "2024-11-13T08:51:32.027758Z",
     "shell.execute_reply": "2024-11-13T08:51:32.026905Z",
     "shell.execute_reply.started": "2024-11-13T08:51:32.006080Z"
    },
    "tags": []
   },
   "outputs": [],
   "source": [
    "import pandas as pd\n",
    "import numpy as np\n",
    "import matplotlib.pyplot as plt\n",
    "%matplotlib inline\n",
    "\n",
    "# Check out these custom functions\n",
    "from custom_functions import *"
   ]
  },
  {
   "cell_type": "code",
   "execution_count": 3,
   "metadata": {
    "execution": {
     "iopub.execute_input": "2024-11-13T08:51:32.028902Z",
     "iopub.status.busy": "2024-11-13T08:51:32.028735Z",
     "iopub.status.idle": "2024-11-13T08:51:32.261650Z",
     "shell.execute_reply": "2024-11-13T08:51:32.260405Z",
     "shell.execute_reply.started": "2024-11-13T08:51:32.028881Z"
    },
    "tags": []
   },
   "outputs": [
    {
     "name": "stdout",
     "output_type": "stream",
     "text": [
      "CPU times: user 222 ms, sys: 192 ms, total: 414 ms\n",
      "Wall time: 136 ms\n"
     ]
    }
   ],
   "source": [
    "#define number of events - to pick input file\n",
    "evt = \"100k\"\n",
    "#evt = \"1M\"\n",
    "\n",
    "# read in input parquet file\n",
    "input_file = \"Higgs\"+evt+\".parquet\"\n",
    "%time df = pd.read_parquet(input_file)"
   ]
  },
  {
   "cell_type": "code",
   "execution_count": 4,
   "metadata": {
    "execution": {
     "iopub.execute_input": "2024-11-13T08:51:32.263838Z",
     "iopub.status.busy": "2024-11-13T08:51:32.263344Z",
     "iopub.status.idle": "2024-11-13T08:51:32.291617Z",
     "shell.execute_reply": "2024-11-13T08:51:32.290691Z",
     "shell.execute_reply.started": "2024-11-13T08:51:32.263791Z"
    },
    "tags": []
   },
   "outputs": [
    {
     "data": {
      "text/plain": [
       "99999"
      ]
     },
     "execution_count": 4,
     "metadata": {},
     "output_type": "execute_result"
    }
   ],
   "source": [
    "# The first column is the target variable\n",
    "y = df.iloc[:, 0] #df with label\n",
    "x = df.iloc[: , 1:] #df with all other variables\n",
    "\n",
    "len(x)"
   ]
  },
  {
   "cell_type": "code",
   "execution_count": 5,
   "metadata": {
    "execution": {
     "iopub.execute_input": "2024-11-13T08:51:32.294632Z",
     "iopub.status.busy": "2024-11-13T08:51:32.293945Z",
     "iopub.status.idle": "2024-11-13T08:51:32.800839Z",
     "shell.execute_reply": "2024-11-13T08:51:32.800050Z",
     "shell.execute_reply.started": "2024-11-13T08:51:32.294565Z"
    },
    "tags": []
   },
   "outputs": [],
   "source": [
    "from sklearn.model_selection import train_test_split\n",
    "\n",
    "# Split the data into training and test sets (80% training, 20% testing)\n",
    "x_train, x_test, y_train, y_test = train_test_split(x, y, test_size=0.2, random_state=42)"
   ]
  },
  {
   "cell_type": "code",
   "execution_count": 6,
   "metadata": {
    "execution": {
     "iopub.execute_input": "2024-11-13T08:51:32.802207Z",
     "iopub.status.busy": "2024-11-13T08:51:32.802014Z",
     "iopub.status.idle": "2024-11-13T08:51:32.826889Z",
     "shell.execute_reply": "2024-11-13T08:51:32.826289Z",
     "shell.execute_reply.started": "2024-11-13T08:51:32.802184Z"
    },
    "tags": []
   },
   "outputs": [
    {
     "name": "stdout",
     "output_type": "stream",
     "text": [
      "99999\n",
      "99999\n"
     ]
    }
   ],
   "source": [
    "#sanity check\n",
    "\n",
    "print(len(x_train)+len(x_test))\n",
    "print(len(y_train)+len(y_test))"
   ]
  },
  {
   "cell_type": "markdown",
   "metadata": {},
   "source": [
    "# ML model"
   ]
  },
  {
   "cell_type": "code",
   "execution_count": 7,
   "metadata": {
    "execution": {
     "iopub.execute_input": "2024-11-13T08:51:32.828125Z",
     "iopub.status.busy": "2024-11-13T08:51:32.827941Z",
     "iopub.status.idle": "2024-11-13T08:51:40.043917Z",
     "shell.execute_reply": "2024-11-13T08:51:40.042232Z",
     "shell.execute_reply.started": "2024-11-13T08:51:32.828102Z"
    },
    "tags": []
   },
   "outputs": [],
   "source": [
    "#ignore warnings from Tensorflow\n",
    "import warnings\n",
    "warnings.simplefilter(action='ignore', category=FutureWarning)\n",
    "#warnings.simplefilter(action='ignore', category=DeprecationWarning)\n",
    "import tensorflow as tf\n",
    "#if type(tf.contrib) != type(tf): tf.contrib._warning = None\n",
    "tf.compat.v1.logging.set_verbosity(tf.compat.v1.logging.ERROR)\n",
    "\n",
    "#import Keras \n",
    "from tensorflow.keras.models import Sequential\n",
    "from tensorflow.keras.layers import Dense\n",
    "from tensorflow.keras.layers import Dropout\n",
    "from tensorflow.keras import regularizers\n",
    "from tensorflow.keras.optimizers import SGD, Adam\n",
    "from tensorflow.keras.callbacks import EarlyStopping\n",
    "\n",
    "np.random.seed(1337)  # for reproducibility"
   ]
  },
  {
   "cell_type": "markdown",
   "metadata": {},
   "source": [
    "## Exercise 1\n",
    "\n",
    "- documentation: https://keras.io/getting-started/sequential-model-guide/\n",
    "- Build (compile) a Keras Sequential model (call it *model*)\n",
    "  - 1 hidden layer  with 100 neurons, activation ReLU (put in the correct input_shape!)\n",
    "  - 1 ouput layer with activation sigmoid\n",
    "  - use Adam optimiser\n",
    "  - use binary_crossentropy loss\n",
    "  - use accuracy metrics "
   ]
  },
  {
   "cell_type": "code",
   "execution_count": 8,
   "metadata": {
    "execution": {
     "iopub.execute_input": "2024-11-13T08:51:40.051183Z",
     "iopub.status.busy": "2024-11-13T08:51:40.050660Z",
     "iopub.status.idle": "2024-11-13T08:51:40.164502Z",
     "shell.execute_reply": "2024-11-13T08:51:40.163786Z",
     "shell.execute_reply.started": "2024-11-13T08:51:40.051119Z"
    },
    "tags": []
   },
   "outputs": [],
   "source": [
    "# now let's first look at NN in keras\n",
    "\n",
    "# create the model\n",
    "model = Sequential()\n",
    "\n",
    "#baseline, 2m with 100k events, 15m with 1M events\n",
    "model.add(Dense(100, activation='relu', input_shape=(28,)))\n",
    "model.add(Dense(1, activation='sigmoid'))\n",
    "opt = Adam()\n",
    "\n",
    "# Compile model\n",
    "model.compile(loss='binary_crossentropy', optimizer=opt, metrics=['accuracy'])"
   ]
  },
  {
   "cell_type": "code",
   "execution_count": 9,
   "metadata": {
    "execution": {
     "iopub.execute_input": "2024-11-13T08:51:40.165623Z",
     "iopub.status.busy": "2024-11-13T08:51:40.165451Z",
     "iopub.status.idle": "2024-11-13T08:51:40.221459Z",
     "shell.execute_reply": "2024-11-13T08:51:40.220779Z",
     "shell.execute_reply.started": "2024-11-13T08:51:40.165601Z"
    },
    "tags": []
   },
   "outputs": [],
   "source": [
    "# simple early stopping\n",
    "es = EarlyStopping(monitor='val_loss', mode='min', verbose=1, patience=10)"
   ]
  },
  {
   "cell_type": "code",
   "execution_count": 10,
   "metadata": {
    "execution": {
     "iopub.execute_input": "2024-11-13T08:51:40.222737Z",
     "iopub.status.busy": "2024-11-13T08:51:40.222554Z",
     "iopub.status.idle": "2024-11-13T08:53:06.546315Z",
     "shell.execute_reply": "2024-11-13T08:53:06.545369Z",
     "shell.execute_reply.started": "2024-11-13T08:51:40.222714Z"
    },
    "tags": []
   },
   "outputs": [
    {
     "name": "stdout",
     "output_type": "stream",
     "text": [
      "Epoch 1/50\n",
      "625/625 [==============================] - 2s 3ms/step - loss: 0.6552 - accuracy: 0.6076 - val_loss: 0.6436 - val_accuracy: 0.6277\n",
      "Epoch 2/50\n",
      "625/625 [==============================] - 2s 3ms/step - loss: 0.6358 - accuracy: 0.6373 - val_loss: 0.6319 - val_accuracy: 0.6479\n",
      "Epoch 3/50\n",
      "625/625 [==============================] - 2s 3ms/step - loss: 0.6278 - accuracy: 0.6499 - val_loss: 0.6262 - val_accuracy: 0.6520\n",
      "Epoch 4/50\n",
      "625/625 [==============================] - 2s 3ms/step - loss: 0.6225 - accuracy: 0.6541 - val_loss: 0.6205 - val_accuracy: 0.6562\n",
      "Epoch 5/50\n",
      "625/625 [==============================] - 2s 3ms/step - loss: 0.6173 - accuracy: 0.6601 - val_loss: 0.6162 - val_accuracy: 0.6614\n",
      "Epoch 6/50\n",
      "625/625 [==============================] - 2s 3ms/step - loss: 0.6119 - accuracy: 0.6659 - val_loss: 0.6119 - val_accuracy: 0.6673\n",
      "Epoch 7/50\n",
      "625/625 [==============================] - 2s 3ms/step - loss: 0.6071 - accuracy: 0.6703 - val_loss: 0.6100 - val_accuracy: 0.6629\n",
      "Epoch 8/50\n",
      "625/625 [==============================] - 2s 3ms/step - loss: 0.6028 - accuracy: 0.6754 - val_loss: 0.6088 - val_accuracy: 0.6610\n",
      "Epoch 9/50\n",
      "625/625 [==============================] - 2s 3ms/step - loss: 0.5987 - accuracy: 0.6788 - val_loss: 0.6029 - val_accuracy: 0.6731\n",
      "Epoch 10/50\n",
      "625/625 [==============================] - 2s 3ms/step - loss: 0.5955 - accuracy: 0.6812 - val_loss: 0.5992 - val_accuracy: 0.6777\n",
      "Epoch 11/50\n",
      "625/625 [==============================] - 2s 3ms/step - loss: 0.5932 - accuracy: 0.6834 - val_loss: 0.5953 - val_accuracy: 0.6824\n",
      "Epoch 12/50\n",
      "625/625 [==============================] - 2s 3ms/step - loss: 0.5910 - accuracy: 0.6850 - val_loss: 0.5939 - val_accuracy: 0.6824\n",
      "Epoch 13/50\n",
      "625/625 [==============================] - 2s 3ms/step - loss: 0.5892 - accuracy: 0.6863 - val_loss: 0.5924 - val_accuracy: 0.6822\n",
      "Epoch 14/50\n",
      "625/625 [==============================] - 2s 3ms/step - loss: 0.5870 - accuracy: 0.6901 - val_loss: 0.5909 - val_accuracy: 0.6840\n",
      "Epoch 15/50\n",
      "625/625 [==============================] - 2s 3ms/step - loss: 0.5853 - accuracy: 0.6902 - val_loss: 0.5902 - val_accuracy: 0.6837\n",
      "Epoch 16/50\n",
      "625/625 [==============================] - 2s 3ms/step - loss: 0.5839 - accuracy: 0.6918 - val_loss: 0.5923 - val_accuracy: 0.6861\n",
      "Epoch 17/50\n",
      "625/625 [==============================] - 2s 3ms/step - loss: 0.5830 - accuracy: 0.6912 - val_loss: 0.5952 - val_accuracy: 0.6749\n",
      "Epoch 18/50\n",
      "625/625 [==============================] - 2s 3ms/step - loss: 0.5812 - accuracy: 0.6940 - val_loss: 0.5916 - val_accuracy: 0.6769\n",
      "Epoch 19/50\n",
      "625/625 [==============================] - 2s 3ms/step - loss: 0.5801 - accuracy: 0.6953 - val_loss: 0.5880 - val_accuracy: 0.6873\n",
      "Epoch 20/50\n",
      "625/625 [==============================] - 2s 3ms/step - loss: 0.5785 - accuracy: 0.6962 - val_loss: 0.5881 - val_accuracy: 0.6837\n",
      "Epoch 21/50\n",
      "625/625 [==============================] - 2s 3ms/step - loss: 0.5771 - accuracy: 0.6972 - val_loss: 0.5853 - val_accuracy: 0.6905\n",
      "Epoch 22/50\n",
      "625/625 [==============================] - 2s 3ms/step - loss: 0.5761 - accuracy: 0.6979 - val_loss: 0.5868 - val_accuracy: 0.6905\n",
      "Epoch 23/50\n",
      "625/625 [==============================] - 2s 3ms/step - loss: 0.5752 - accuracy: 0.6992 - val_loss: 0.5872 - val_accuracy: 0.6832\n",
      "Epoch 24/50\n",
      "625/625 [==============================] - 2s 3ms/step - loss: 0.5746 - accuracy: 0.6994 - val_loss: 0.5833 - val_accuracy: 0.6884\n",
      "Epoch 25/50\n",
      "625/625 [==============================] - 2s 3ms/step - loss: 0.5730 - accuracy: 0.6994 - val_loss: 0.5854 - val_accuracy: 0.6905\n",
      "Epoch 26/50\n",
      "625/625 [==============================] - 2s 3ms/step - loss: 0.5723 - accuracy: 0.7012 - val_loss: 0.5878 - val_accuracy: 0.6827\n",
      "Epoch 27/50\n",
      "625/625 [==============================] - 2s 3ms/step - loss: 0.5720 - accuracy: 0.7014 - val_loss: 0.5849 - val_accuracy: 0.6904\n",
      "Epoch 28/50\n",
      "625/625 [==============================] - 2s 2ms/step - loss: 0.5707 - accuracy: 0.7020 - val_loss: 0.5811 - val_accuracy: 0.6905\n",
      "Epoch 29/50\n",
      "625/625 [==============================] - 2s 3ms/step - loss: 0.5694 - accuracy: 0.7037 - val_loss: 0.5831 - val_accuracy: 0.6919\n",
      "Epoch 30/50\n",
      "625/625 [==============================] - 2s 3ms/step - loss: 0.5688 - accuracy: 0.7021 - val_loss: 0.5811 - val_accuracy: 0.6885\n",
      "Epoch 31/50\n",
      "625/625 [==============================] - 1s 2ms/step - loss: 0.5684 - accuracy: 0.7035 - val_loss: 0.5796 - val_accuracy: 0.6938\n",
      "Epoch 32/50\n",
      "625/625 [==============================] - 2s 3ms/step - loss: 0.5684 - accuracy: 0.7030 - val_loss: 0.5832 - val_accuracy: 0.6952\n",
      "Epoch 33/50\n",
      "625/625 [==============================] - 2s 3ms/step - loss: 0.5676 - accuracy: 0.7033 - val_loss: 0.5795 - val_accuracy: 0.6912\n",
      "Epoch 34/50\n",
      "625/625 [==============================] - 2s 3ms/step - loss: 0.5663 - accuracy: 0.7058 - val_loss: 0.5786 - val_accuracy: 0.6971\n",
      "Epoch 35/50\n",
      "625/625 [==============================] - 2s 3ms/step - loss: 0.5648 - accuracy: 0.7069 - val_loss: 0.5806 - val_accuracy: 0.6980\n",
      "Epoch 36/50\n",
      "625/625 [==============================] - 2s 3ms/step - loss: 0.5647 - accuracy: 0.7068 - val_loss: 0.5780 - val_accuracy: 0.6950\n",
      "Epoch 37/50\n",
      "625/625 [==============================] - 2s 3ms/step - loss: 0.5640 - accuracy: 0.7067 - val_loss: 0.5800 - val_accuracy: 0.6904\n",
      "Epoch 38/50\n",
      "625/625 [==============================] - 2s 3ms/step - loss: 0.5634 - accuracy: 0.7082 - val_loss: 0.5771 - val_accuracy: 0.6942\n",
      "Epoch 39/50\n",
      "625/625 [==============================] - 2s 3ms/step - loss: 0.5615 - accuracy: 0.7088 - val_loss: 0.5816 - val_accuracy: 0.6959\n",
      "Epoch 40/50\n",
      "625/625 [==============================] - 2s 3ms/step - loss: 0.5613 - accuracy: 0.7084 - val_loss: 0.5798 - val_accuracy: 0.6978\n",
      "Epoch 41/50\n",
      "625/625 [==============================] - 2s 3ms/step - loss: 0.5606 - accuracy: 0.7101 - val_loss: 0.5779 - val_accuracy: 0.6977\n",
      "Epoch 42/50\n",
      "625/625 [==============================] - 2s 3ms/step - loss: 0.5594 - accuracy: 0.7107 - val_loss: 0.5762 - val_accuracy: 0.6998\n",
      "Epoch 43/50\n",
      "625/625 [==============================] - 2s 3ms/step - loss: 0.5588 - accuracy: 0.7106 - val_loss: 0.5772 - val_accuracy: 0.6963\n",
      "Epoch 44/50\n",
      "625/625 [==============================] - 2s 3ms/step - loss: 0.5587 - accuracy: 0.7106 - val_loss: 0.5781 - val_accuracy: 0.6980\n",
      "Epoch 45/50\n",
      "625/625 [==============================] - 2s 3ms/step - loss: 0.5581 - accuracy: 0.7137 - val_loss: 0.5754 - val_accuracy: 0.7009\n",
      "Epoch 46/50\n",
      "625/625 [==============================] - 2s 2ms/step - loss: 0.5570 - accuracy: 0.7121 - val_loss: 0.5738 - val_accuracy: 0.6994\n",
      "Epoch 47/50\n",
      "625/625 [==============================] - 2s 3ms/step - loss: 0.5564 - accuracy: 0.7130 - val_loss: 0.5732 - val_accuracy: 0.7003\n",
      "Epoch 48/50\n",
      "625/625 [==============================] - 2s 3ms/step - loss: 0.5558 - accuracy: 0.7132 - val_loss: 0.5746 - val_accuracy: 0.6995\n",
      "Epoch 49/50\n",
      "625/625 [==============================] - 2s 3ms/step - loss: 0.5549 - accuracy: 0.7143 - val_loss: 0.5758 - val_accuracy: 0.6975\n",
      "Epoch 50/50\n",
      "625/625 [==============================] - 2s 3ms/step - loss: 0.5540 - accuracy: 0.7148 - val_loss: 0.5778 - val_accuracy: 0.6967\n",
      "CPU times: user 3min 43s, sys: 1min 32s, total: 5min 16s\n",
      "Wall time: 1min 26s\n"
     ]
    }
   ],
   "source": [
    "%%time\n",
    "history = model.fit(x_train, y_train, batch_size=128, epochs=50, validation_data=(x_test, y_test), callbacks=[es]) #, verbose=0)"
   ]
  },
  {
   "cell_type": "code",
   "execution_count": 11,
   "metadata": {
    "execution": {
     "iopub.execute_input": "2024-11-13T08:53:06.551229Z",
     "iopub.status.busy": "2024-11-13T08:53:06.550419Z",
     "iopub.status.idle": "2024-11-13T08:53:06.851837Z",
     "shell.execute_reply": "2024-11-13T08:53:06.851216Z",
     "shell.execute_reply.started": "2024-11-13T08:53:06.551142Z"
    },
    "tags": []
   },
   "outputs": [
    {
     "data": {
      "image/png": "[encoded data removed]",
      "text/plain": [
       "<Figure size 432x288 with 1 Axes>"
      ]
     },
     "metadata": {
      "needs_background": "light"
     },
     "output_type": "display_data"
    }
   ],
   "source": [
    "plotVsEpoch(history, 'loss')"
   ]
  },
  {
   "cell_type": "code",
   "execution_count": 12,
   "metadata": {
    "execution": {
     "iopub.execute_input": "2024-11-13T08:53:06.852945Z",
     "iopub.status.busy": "2024-11-13T08:53:06.852770Z",
     "iopub.status.idle": "2024-11-13T08:53:07.011552Z",
     "shell.execute_reply": "2024-11-13T08:53:07.010736Z",
     "shell.execute_reply.started": "2024-11-13T08:53:06.852921Z"
    },
    "tags": []
   },
   "outputs": [
    {
     "data": {
      "image/png": "[encoded data removed]",
      "text/plain": [
       "<Figure size 432x288 with 1 Axes>"
      ]
     },
     "metadata": {
      "needs_background": "light"
     },
     "output_type": "display_data"
    }
   ],
   "source": [
    "plotVsEpoch(history, 'accuracy')"
   ]
  },
  {
   "cell_type": "code",
   "execution_count": 13,
   "metadata": {
    "execution": {
     "iopub.execute_input": "2024-11-13T08:53:07.012764Z",
     "iopub.status.busy": "2024-11-13T08:53:07.012598Z",
     "iopub.status.idle": "2024-11-13T08:53:07.060080Z",
     "shell.execute_reply": "2024-11-13T08:53:07.058856Z",
     "shell.execute_reply.started": "2024-11-13T08:53:07.012742Z"
    },
    "tags": []
   },
   "outputs": [
    {
     "name": "stdout",
     "output_type": "stream",
     "text": [
      "{'verbose': 1, 'epochs': 50, 'steps': 625}\n",
      "dict_keys(['loss', 'accuracy', 'val_loss', 'val_accuracy'])\n"
     ]
    }
   ],
   "source": [
    "print(history.params)\n",
    "print(history.history.keys())"
   ]
  },
  {
   "cell_type": "code",
   "execution_count": 14,
   "metadata": {
    "execution": {
     "iopub.execute_input": "2024-11-13T08:53:07.063015Z",
     "iopub.status.busy": "2024-11-13T08:53:07.062375Z",
     "iopub.status.idle": "2024-11-13T08:53:07.129585Z",
     "shell.execute_reply": "2024-11-13T08:53:07.129048Z",
     "shell.execute_reply.started": "2024-11-13T08:53:07.062918Z"
    },
    "tags": []
   },
   "outputs": [
    {
     "name": "stdout",
     "output_type": "stream",
     "text": [
      "Model: \"sequential\"\n",
      "_________________________________________________________________\n",
      " Layer (type)                Output Shape              Param #   \n",
      "=================================================================\n",
      " dense (Dense)               (None, 100)               2900      \n",
      "                                                                 \n",
      " dense_1 (Dense)             (None, 1)                 101       \n",
      "                                                                 \n",
      "=================================================================\n",
      "Total params: 3,001\n",
      "Trainable params: 3,001\n",
      "Non-trainable params: 0\n",
      "_________________________________________________________________\n"
     ]
    }
   ],
   "source": [
    "model.summary()"
   ]
  },
  {
   "cell_type": "code",
   "execution_count": 15,
   "metadata": {
    "execution": {
     "iopub.execute_input": "2024-11-13T08:53:07.130736Z",
     "iopub.status.busy": "2024-11-13T08:53:07.130580Z",
     "iopub.status.idle": "2024-11-13T08:53:08.287956Z",
     "shell.execute_reply": "2024-11-13T08:53:08.286415Z",
     "shell.execute_reply.started": "2024-11-13T08:53:07.130714Z"
    },
    "tags": []
   },
   "outputs": [
    {
     "name": "stdout",
     "output_type": "stream",
     "text": [
      "625/625 [==============================] - 1s 2ms/step - loss: 0.5778 - accuracy: 0.6967\n",
      "Test Loss: 0.5778\n",
      "Test Accuracy: 0.6967\n"
     ]
    }
   ],
   "source": [
    "# Evaluate the model on the test set\n",
    "test_loss, test_accuracy = model.evaluate(x_test, y_test, verbose=1)\n",
    "\n",
    "print(f\"Test Loss: {test_loss:.4f}\")\n",
    "print(f\"Test Accuracy: {test_accuracy:.4f}\")"
   ]
  },
  {
   "cell_type": "code",
   "execution_count": 16,
   "metadata": {
    "execution": {
     "iopub.execute_input": "2024-11-13T08:53:08.289941Z",
     "iopub.status.busy": "2024-11-13T08:53:08.289638Z",
     "iopub.status.idle": "2024-11-13T08:53:09.215726Z",
     "shell.execute_reply": "2024-11-13T08:53:09.214890Z",
     "shell.execute_reply.started": "2024-11-13T08:53:08.289901Z"
    },
    "tags": []
   },
   "outputs": [
    {
     "data": {
      "image/png": "[encoded data removed]",
      "text/plain": [
       "<Figure size 432x288 with 1 Axes>"
      ]
     },
     "metadata": {
      "needs_background": "light"
     },
     "output_type": "display_data"
    }
   ],
   "source": [
    "# Get the predicted probabilities for the positive class\n",
    "y_pred_prob = model.predict(x_test).ravel()  # Use .ravel() to flatten to a 1D array\n",
    "\n",
    "#draw ROC\n",
    "drawROC2(y_pred_prob, y_test)"
   ]
  },
  {
   "cell_type": "code",
   "execution_count": 17,
   "metadata": {
    "execution": {
     "iopub.execute_input": "2024-11-13T08:53:09.217060Z",
     "iopub.status.busy": "2024-11-13T08:53:09.216885Z",
     "iopub.status.idle": "2024-11-13T08:53:10.469056Z",
     "shell.execute_reply": "2024-11-13T08:53:10.468339Z",
     "shell.execute_reply.started": "2024-11-13T08:53:09.217039Z"
    },
    "tags": []
   },
   "outputs": [
    {
     "data": {
      "image/png": "[encoded data removed]",
      "text/plain": [
       "<Figure size 432x288 with 1 Axes>"
      ]
     },
     "metadata": {
      "needs_background": "light"
     },
     "output_type": "display_data"
    }
   ],
   "source": [
    "#plot signal vs background with prediction\n",
    "variable = 'm_bb'\n",
    "plotSignalvsBgWithPrediction2(x_test.loc[:, variable], y_test, y_pred_prob)"
   ]
  },
  {
   "cell_type": "markdown",
   "metadata": {},
   "source": [
    "## Exercise 2\n",
    "\n",
    "- play with the model parameters and see if you can improve the performances (try to add hidden layers)\n",
    "- try to play with the number of epochs, batch size... is the model improving?\n",
    "- how is training time affected by the number of parameters?\n",
    "- how is signal versus background separation affected (check different variables)"
   ]
  },
  {
   "cell_type": "code",
   "execution_count": 18,
   "metadata": {
    "execution": {
     "iopub.execute_input": "2024-11-13T08:53:10.470249Z",
     "iopub.status.busy": "2024-11-13T08:53:10.470079Z",
     "iopub.status.idle": "2024-11-13T08:53:10.608281Z",
     "shell.execute_reply": "2024-11-13T08:53:10.607496Z",
     "shell.execute_reply.started": "2024-11-13T08:53:10.470228Z"
    }
   },
   "outputs": [
    {
     "name": "stdout",
     "output_type": "stream",
     "text": [
      "CPU times: user 201 ms, sys: 173 ms, total: 374 ms\n",
      "Wall time: 45.3 ms\n"
     ]
    },
    {
     "data": {
      "text/plain": [
       "99999"
      ]
     },
     "execution_count": 18,
     "metadata": {},
     "output_type": "execute_result"
    }
   ],
   "source": [
    "# read in input parquet file\n",
    "input_file = \"Higgs100k.parquet\"\n",
    "%time df = pd.read_parquet(input_file)\n",
    "\n",
    "#create train/test set\n",
    "y = df.iloc[:, 0] #df with label\n",
    "x = df.iloc[: , 1:] #df with all other variables\n",
    "\n",
    "x_train, x_test, y_train, y_test = train_test_split(x, y, test_size=0.2, random_state=42)\n",
    "len(y)"
   ]
  },
  {
   "cell_type": "code",
   "execution_count": 40,
   "metadata": {
    "execution": {
     "iopub.execute_input": "2024-11-13T10:28:31.329356Z",
     "iopub.status.busy": "2024-11-13T10:28:31.328726Z",
     "iopub.status.idle": "2024-11-13T10:28:38.580708Z",
     "shell.execute_reply": "2024-11-13T10:28:38.579904Z",
     "shell.execute_reply.started": "2024-11-13T10:28:31.329287Z"
    },
    "tags": []
   },
   "outputs": [
    {
     "name": "stdout",
     "output_type": "stream",
     "text": [
      "Reloading Tuner from keras/bigDataML/tuner0.json\n",
      "CPU times: user 1.09 ms, sys: 0 ns, total: 1.09 ms\n",
      "Wall time: 1.15 ms\n",
      "Best Hyperparameters:\n",
      "Units: 32\n",
      "Dropout: 0.30000000000000004\n",
      "Learning Rate: 0.0022174218292679996\n",
      "6250/6250 [==============================] - 6s 1ms/step - loss: 0.6046 - accuracy: 0.6808\n",
      "Test Loss: 0.6046\n",
      "Test Accuracy: 0.7118\n"
     ]
    }
   ],
   "source": [
    "import keras_tuner as kt\n",
    "\n",
    "# Define the model-building function\n",
    "def build_model(hp):\n",
    "    model = Sequential()\n",
    "\n",
    "    # Tune the number of units in the hidden layers\n",
    "    model.add(Dense(units=hp.Int('units', min_value=32, max_value=256, step=32), activation='relu', input_dim=x_train.shape[1]))\n",
    "    \n",
    "    # Add a dropout layer - not a good idea because it is not used for inference\n",
    "    # unwanted regularization effect that makes better accuracy on test than on train\n",
    "    #model.add(Dropout(hp.Float('dropout', min_value=0.2, max_value=0.5, step=0.1)))\n",
    "    \n",
    "    # Output layer\n",
    "    model.add(Dense(1, activation='sigmoid'))  # Binary classification\n",
    "\n",
    "    # Tune the learning rate for the optimizer\n",
    "    model.compile(optimizer=Adam(learning_rate=hp.Float('learning_rate', min_value=1e-5, max_value=1e-2, sampling='LOG')), \n",
    "                  loss='binary_crossentropy', \n",
    "                  metrics=['accuracy'])\n",
    "    \n",
    "    return model\n",
    "\n",
    "# Instantiate the tuner\n",
    "tuner = kt.RandomSearch(\n",
    "    build_model, \n",
    "    objective='val_accuracy',  # Optimization target\n",
    "    max_trials=5,               # Number of models to try\n",
    "    executions_per_trial=3,     # Number of executions for each trial\n",
    "    directory='keras',         # Directory to store the results\n",
    "    project_name='bigDataML'\n",
    ")\n",
    "\n",
    "# Run the hyperparameter search\n",
    "%time tuner.search(x_train, y_train, epochs=10, validation_data=(x_test, y_test))\n",
    "\n",
    "# Get the best model and parameters\n",
    "best_model = tuner.get_best_models(num_models=1)[0]\n",
    "best_params = tuner.get_best_hyperparameters(num_trials=1)[0]\n",
    "\n",
    "print(\"Best Hyperparameters:\")\n",
    "print(f\"Units: {best_params['units']}\")\n",
    "print(f\"Dropout: {best_params['dropout']}\")\n",
    "print(f\"Learning Rate: {best_params['learning_rate']}\")\n",
    "\n",
    "# Evaluate the best model\n",
    "test_loss, test_acc = best_model.evaluate(x_test, y_test)\n",
    "\n",
    "print(f\"Test Loss: {test_loss:.4f}\")\n",
    "print(f\"Test Accuracy: {test_accuracy:.4f}\")"
   ]
  },
  {
   "cell_type": "code",
   "execution_count": 20,
   "metadata": {
    "execution": {
     "iopub.execute_input": "2024-11-13T09:10:55.639486Z",
     "iopub.status.busy": "2024-11-13T09:10:55.638927Z",
     "iopub.status.idle": "2024-11-13T09:10:56.379897Z",
     "shell.execute_reply": "2024-11-13T09:10:56.378209Z",
     "shell.execute_reply.started": "2024-11-13T09:10:55.639414Z"
    },
    "tags": []
   },
   "outputs": [
    {
     "data": {
      "image/png": "[encoded data removed]",
      "text/plain": [
       "<Figure size 432x288 with 1 Axes>"
      ]
     },
     "metadata": {
      "needs_background": "light"
     },
     "output_type": "display_data"
    }
   ],
   "source": [
    "# Get the predicted probabilities for the positive class\n",
    "y_pred_prob = best_model.predict(x_test).ravel()  # Use .ravel() to flatten to a 1D array\n",
    "\n",
    "#draw ROC\n",
    "drawROC2(y_pred_prob, y_test)"
   ]
  },
  {
   "cell_type": "code",
   "execution_count": 21,
   "metadata": {
    "execution": {
     "iopub.execute_input": "2024-11-13T09:10:56.382504Z",
     "iopub.status.busy": "2024-11-13T09:10:56.382045Z",
     "iopub.status.idle": "2024-11-13T09:10:57.324649Z",
     "shell.execute_reply": "2024-11-13T09:10:57.322983Z",
     "shell.execute_reply.started": "2024-11-13T09:10:56.382447Z"
    }
   },
   "outputs": [
    {
     "data": {
      "image/png": "[encoded data removed]",
      "text/plain": [
       "<Figure size 432x288 with 1 Axes>"
      ]
     },
     "metadata": {
      "needs_background": "light"
     },
     "output_type": "display_data"
    }
   ],
   "source": [
    "#plot signal vs background with prediction\n",
    "variable = 'm_bb'\n",
    "plotSignalvsBgWithPrediction2(x_test.loc[:, variable], y_test, y_pred_prob)"
   ]
  },
  {
   "cell_type": "code",
   "execution_count": 22,
   "metadata": {
    "execution": {
     "iopub.execute_input": "2024-11-13T09:40:47.442438Z",
     "iopub.status.busy": "2024-11-13T09:40:47.441832Z",
     "iopub.status.idle": "2024-11-13T09:40:47.637291Z",
     "shell.execute_reply": "2024-11-13T09:40:47.635693Z",
     "shell.execute_reply.started": "2024-11-13T09:40:47.442371Z"
    }
   },
   "outputs": [
    {
     "name": "stdout",
     "output_type": "stream",
     "text": [
      "Model: \"sequential\"\n",
      "_________________________________________________________________\n",
      " Layer (type)                Output Shape              Param #   \n",
      "=================================================================\n",
      " dense (Dense)               (None, 32)                928       \n",
      "                                                                 \n",
      " dropout (Dropout)           (None, 32)                0         \n",
      "                                                                 \n",
      " dense_1 (Dense)             (None, 1)                 33        \n",
      "                                                                 \n",
      "=================================================================\n",
      "Total params: 961\n",
      "Trainable params: 961\n",
      "Non-trainable params: 0\n",
      "_________________________________________________________________\n"
     ]
    }
   ],
   "source": [
    "# Print a summary of the model architecture\n",
    "best_model.summary()"
   ]
  },
  {
   "cell_type": "markdown",
   "metadata": {},
   "source": [
    "## Train best model on 1M events"
   ]
  },
  {
   "cell_type": "code",
   "execution_count": 41,
   "metadata": {
    "execution": {
     "iopub.execute_input": "2024-11-13T10:28:55.849661Z",
     "iopub.status.busy": "2024-11-13T10:28:55.849046Z",
     "iopub.status.idle": "2024-11-13T10:28:56.801781Z",
     "shell.execute_reply": "2024-11-13T10:28:56.801106Z",
     "shell.execute_reply.started": "2024-11-13T10:28:55.849577Z"
    },
    "tags": []
   },
   "outputs": [
    {
     "name": "stdout",
     "output_type": "stream",
     "text": [
      "CPU times: user 685 ms, sys: 1.21 s, total: 1.89 s\n",
      "Wall time: 195 ms\n"
     ]
    },
    {
     "data": {
      "text/plain": [
       "999999"
      ]
     },
     "execution_count": 41,
     "metadata": {},
     "output_type": "execute_result"
    }
   ],
   "source": [
    "# read in input parquet file\n",
    "input_file = \"Higgs1M.parquet\"\n",
    "%time df = pd.read_parquet(input_file)\n",
    "\n",
    "#create train/test set\n",
    "y = df.iloc[:, 0] #df with label\n",
    "x = df.iloc[: , 1:] #df with all other variables\n",
    "\n",
    "x_train, x_test, y_train, y_test = train_test_split(x, y, test_size=0.2, random_state=42)\n",
    "len(y)"
   ]
  },
  {
   "cell_type": "code",
   "execution_count": 42,
   "metadata": {
    "execution": {
     "iopub.execute_input": "2024-11-13T10:28:57.567765Z",
     "iopub.status.busy": "2024-11-13T10:28:57.567197Z",
     "iopub.status.idle": "2024-11-13T10:28:57.792855Z",
     "shell.execute_reply": "2024-11-13T10:28:57.792141Z",
     "shell.execute_reply.started": "2024-11-13T10:28:57.567700Z"
    },
    "tags": []
   },
   "outputs": [],
   "source": [
    "# Rebuild the model using these best hyperparameters\n",
    "new_best_model = build_model(best_params)\n",
    "\n",
    "# Compile the model with the same loss and metrics as used previously\n",
    "new_best_model.compile(\n",
    "    optimizer='adam',\n",
    "    loss='binary_crossentropy',   # or whichever loss you used\n",
    "    metrics=['accuracy']\n",
    ")"
   ]
  },
  {
   "cell_type": "code",
   "execution_count": 43,
   "metadata": {
    "execution": {
     "iopub.execute_input": "2024-11-13T10:29:00.529163Z",
     "iopub.status.busy": "2024-11-13T10:29:00.528499Z",
     "iopub.status.idle": "2024-11-13T10:41:44.648555Z",
     "shell.execute_reply": "2024-11-13T10:41:44.647039Z",
     "shell.execute_reply.started": "2024-11-13T10:29:00.529025Z"
    },
    "tags": []
   },
   "outputs": [
    {
     "name": "stdout",
     "output_type": "stream",
     "text": [
      "Epoch 1/50\n",
      "6250/6250 [==============================] - 15s 2ms/step - loss: 0.6301 - accuracy: 0.6433 - val_loss: 0.6121 - val_accuracy: 0.6670\n",
      "Epoch 2/50\n",
      "6250/6250 [==============================] - 15s 2ms/step - loss: 0.6027 - accuracy: 0.6753 - val_loss: 0.5943 - val_accuracy: 0.6826\n",
      "Epoch 3/50\n",
      "6250/6250 [==============================] - 15s 2ms/step - loss: 0.5904 - accuracy: 0.6863 - val_loss: 0.5841 - val_accuracy: 0.6937\n",
      "Epoch 4/50\n",
      "6250/6250 [==============================] - 15s 2ms/step - loss: 0.5830 - accuracy: 0.6935 - val_loss: 0.5826 - val_accuracy: 0.6900\n",
      "Epoch 5/50\n",
      "6250/6250 [==============================] - 15s 2ms/step - loss: 0.5784 - accuracy: 0.6976 - val_loss: 0.5748 - val_accuracy: 0.6998\n",
      "Epoch 6/50\n",
      "6250/6250 [==============================] - 15s 2ms/step - loss: 0.5750 - accuracy: 0.7006 - val_loss: 0.5724 - val_accuracy: 0.7040\n",
      "Epoch 7/50\n",
      "6250/6250 [==============================] - 15s 2ms/step - loss: 0.5721 - accuracy: 0.7024 - val_loss: 0.5691 - val_accuracy: 0.7065\n",
      "Epoch 8/50\n",
      "6250/6250 [==============================] - 15s 2ms/step - loss: 0.5691 - accuracy: 0.7048 - val_loss: 0.5678 - val_accuracy: 0.7036\n",
      "Epoch 9/50\n",
      "6250/6250 [==============================] - 15s 2ms/step - loss: 0.5665 - accuracy: 0.7064 - val_loss: 0.5630 - val_accuracy: 0.7087\n",
      "Epoch 10/50\n",
      "6250/6250 [==============================] - 15s 2ms/step - loss: 0.5640 - accuracy: 0.7088 - val_loss: 0.5611 - val_accuracy: 0.7114\n",
      "Epoch 11/50\n",
      "6250/6250 [==============================] - 15s 2ms/step - loss: 0.5617 - accuracy: 0.7106 - val_loss: 0.5600 - val_accuracy: 0.7101\n",
      "Epoch 12/50\n",
      "6250/6250 [==============================] - 16s 3ms/step - loss: 0.5599 - accuracy: 0.7115 - val_loss: 0.5590 - val_accuracy: 0.7118\n",
      "Epoch 13/50\n",
      "6250/6250 [==============================] - 16s 3ms/step - loss: 0.5588 - accuracy: 0.7124 - val_loss: 0.5555 - val_accuracy: 0.7155\n",
      "Epoch 14/50\n",
      "6250/6250 [==============================] - 15s 2ms/step - loss: 0.5576 - accuracy: 0.7129 - val_loss: 0.5574 - val_accuracy: 0.7146\n",
      "Epoch 15/50\n",
      "6250/6250 [==============================] - 15s 2ms/step - loss: 0.5567 - accuracy: 0.7134 - val_loss: 0.5554 - val_accuracy: 0.7163\n",
      "Epoch 16/50\n",
      "6250/6250 [==============================] - 15s 2ms/step - loss: 0.5556 - accuracy: 0.7146 - val_loss: 0.5544 - val_accuracy: 0.7158\n",
      "Epoch 17/50\n",
      "6250/6250 [==============================] - 15s 2ms/step - loss: 0.5550 - accuracy: 0.7147 - val_loss: 0.5553 - val_accuracy: 0.7160\n",
      "Epoch 18/50\n",
      "6250/6250 [==============================] - 16s 3ms/step - loss: 0.5545 - accuracy: 0.7150 - val_loss: 0.5513 - val_accuracy: 0.7164\n",
      "Epoch 19/50\n",
      "6250/6250 [==============================] - 15s 2ms/step - loss: 0.5538 - accuracy: 0.7153 - val_loss: 0.5507 - val_accuracy: 0.7178\n",
      "Epoch 20/50\n",
      "6250/6250 [==============================] - 15s 2ms/step - loss: 0.5531 - accuracy: 0.7157 - val_loss: 0.5511 - val_accuracy: 0.7167\n",
      "Epoch 21/50\n",
      "6250/6250 [==============================] - 15s 2ms/step - loss: 0.5526 - accuracy: 0.7162 - val_loss: 0.5527 - val_accuracy: 0.7182\n",
      "Epoch 22/50\n",
      "6250/6250 [==============================] - 15s 2ms/step - loss: 0.5518 - accuracy: 0.7170 - val_loss: 0.5497 - val_accuracy: 0.7182\n",
      "Epoch 23/50\n",
      "6250/6250 [==============================] - 15s 2ms/step - loss: 0.5509 - accuracy: 0.7174 - val_loss: 0.5500 - val_accuracy: 0.7190\n",
      "Epoch 24/50\n",
      "6250/6250 [==============================] - 15s 2ms/step - loss: 0.5501 - accuracy: 0.7180 - val_loss: 0.5475 - val_accuracy: 0.7202\n",
      "Epoch 25/50\n",
      "6250/6250 [==============================] - 15s 2ms/step - loss: 0.5492 - accuracy: 0.7185 - val_loss: 0.5552 - val_accuracy: 0.7108\n",
      "Epoch 26/50\n",
      "6250/6250 [==============================] - 15s 2ms/step - loss: 0.5484 - accuracy: 0.7188 - val_loss: 0.5466 - val_accuracy: 0.7206\n",
      "Epoch 27/50\n",
      "6250/6250 [==============================] - 15s 2ms/step - loss: 0.5481 - accuracy: 0.7190 - val_loss: 0.5479 - val_accuracy: 0.7193\n",
      "Epoch 28/50\n",
      "6250/6250 [==============================] - 15s 2ms/step - loss: 0.5472 - accuracy: 0.7195 - val_loss: 0.5547 - val_accuracy: 0.7172\n",
      "Epoch 29/50\n",
      "6250/6250 [==============================] - 15s 2ms/step - loss: 0.5466 - accuracy: 0.7200 - val_loss: 0.5448 - val_accuracy: 0.7218\n",
      "Epoch 30/50\n",
      "6250/6250 [==============================] - 15s 2ms/step - loss: 0.5461 - accuracy: 0.7202 - val_loss: 0.5451 - val_accuracy: 0.7218\n",
      "Epoch 31/50\n",
      "6250/6250 [==============================] - 15s 2ms/step - loss: 0.5456 - accuracy: 0.7205 - val_loss: 0.5450 - val_accuracy: 0.7214\n",
      "Epoch 32/50\n",
      "6250/6250 [==============================] - 15s 2ms/step - loss: 0.5451 - accuracy: 0.7213 - val_loss: 0.5439 - val_accuracy: 0.7223\n",
      "Epoch 33/50\n",
      "6250/6250 [==============================] - 14s 2ms/step - loss: 0.5446 - accuracy: 0.7218 - val_loss: 0.5422 - val_accuracy: 0.7235\n",
      "Epoch 34/50\n",
      "6250/6250 [==============================] - 16s 3ms/step - loss: 0.5442 - accuracy: 0.7216 - val_loss: 0.5454 - val_accuracy: 0.7200\n",
      "Epoch 35/50\n",
      "6250/6250 [==============================] - 16s 3ms/step - loss: 0.5437 - accuracy: 0.7219 - val_loss: 0.5409 - val_accuracy: 0.7248\n",
      "Epoch 36/50\n",
      "6250/6250 [==============================] - 15s 2ms/step - loss: 0.5432 - accuracy: 0.7224 - val_loss: 0.5419 - val_accuracy: 0.7234\n",
      "Epoch 37/50\n",
      "6250/6250 [==============================] - 16s 2ms/step - loss: 0.5426 - accuracy: 0.7227 - val_loss: 0.5418 - val_accuracy: 0.7234\n",
      "Epoch 38/50\n",
      "6250/6250 [==============================] - 16s 2ms/step - loss: 0.5422 - accuracy: 0.7228 - val_loss: 0.5420 - val_accuracy: 0.7232\n",
      "Epoch 39/50\n",
      "6250/6250 [==============================] - 15s 2ms/step - loss: 0.5418 - accuracy: 0.7230 - val_loss: 0.5421 - val_accuracy: 0.7226\n",
      "Epoch 40/50\n",
      "6250/6250 [==============================] - 16s 2ms/step - loss: 0.5410 - accuracy: 0.7239 - val_loss: 0.5424 - val_accuracy: 0.7220\n",
      "Epoch 41/50\n",
      "6250/6250 [==============================] - 15s 2ms/step - loss: 0.5407 - accuracy: 0.7236 - val_loss: 0.5442 - val_accuracy: 0.7193\n",
      "Epoch 42/50\n",
      "6250/6250 [==============================] - 15s 2ms/step - loss: 0.5405 - accuracy: 0.7240 - val_loss: 0.5406 - val_accuracy: 0.7248\n",
      "Epoch 43/50\n",
      "6250/6250 [==============================] - 15s 2ms/step - loss: 0.5400 - accuracy: 0.7248 - val_loss: 0.5375 - val_accuracy: 0.7269\n",
      "Epoch 44/50\n",
      "6250/6250 [==============================] - 15s 2ms/step - loss: 0.5397 - accuracy: 0.7247 - val_loss: 0.5405 - val_accuracy: 0.7252\n",
      "Epoch 45/50\n",
      "6250/6250 [==============================] - 15s 2ms/step - loss: 0.5395 - accuracy: 0.7245 - val_loss: 0.5381 - val_accuracy: 0.7250\n",
      "Epoch 46/50\n",
      "6250/6250 [==============================] - 16s 2ms/step - loss: 0.5392 - accuracy: 0.7250 - val_loss: 0.5379 - val_accuracy: 0.7267\n",
      "Epoch 47/50\n",
      "6250/6250 [==============================] - 15s 2ms/step - loss: 0.5391 - accuracy: 0.7252 - val_loss: 0.5388 - val_accuracy: 0.7245\n",
      "Epoch 48/50\n",
      "6250/6250 [==============================] - 16s 3ms/step - loss: 0.5387 - accuracy: 0.7253 - val_loss: 0.5359 - val_accuracy: 0.7270\n",
      "Epoch 49/50\n",
      "6250/6250 [==============================] - 15s 2ms/step - loss: 0.5384 - accuracy: 0.7256 - val_loss: 0.5373 - val_accuracy: 0.7267\n",
      "Epoch 50/50\n",
      "6250/6250 [==============================] - 15s 2ms/step - loss: 0.5385 - accuracy: 0.7254 - val_loss: 0.5374 - val_accuracy: 0.7265\n",
      "CPU times: user 25min 24s, sys: 8min 24s, total: 33min 49s\n",
      "Wall time: 12min 43s\n"
     ]
    }
   ],
   "source": [
    "%%time\n",
    "history = new_best_model.fit(x_train, y_train, batch_size=128, epochs=50, validation_data=(x_test, y_test), callbacks=[es]) #, verbose=0)"
   ]
  },
  {
   "cell_type": "code",
   "execution_count": 44,
   "metadata": {
    "execution": {
     "iopub.execute_input": "2024-11-13T10:41:44.651741Z",
     "iopub.status.busy": "2024-11-13T10:41:44.651435Z",
     "iopub.status.idle": "2024-11-13T10:41:45.000970Z",
     "shell.execute_reply": "2024-11-13T10:41:45.000305Z",
     "shell.execute_reply.started": "2024-11-13T10:41:44.651700Z"
    },
    "tags": []
   },
   "outputs": [
    {
     "data": {
      "image/png": "[encoded data removed]",
      "text/plain": [
       "<Figure size 432x288 with 1 Axes>"
      ]
     },
     "metadata": {
      "needs_background": "light"
     },
     "output_type": "display_data"
    }
   ],
   "source": [
    "plotVsEpoch(history, 'loss')"
   ]
  },
  {
   "cell_type": "code",
   "execution_count": 45,
   "metadata": {
    "execution": {
     "iopub.execute_input": "2024-11-13T10:41:45.002177Z",
     "iopub.status.busy": "2024-11-13T10:41:45.002013Z",
     "iopub.status.idle": "2024-11-13T10:41:45.169380Z",
     "shell.execute_reply": "2024-11-13T10:41:45.168705Z",
     "shell.execute_reply.started": "2024-11-13T10:41:45.002157Z"
    },
    "tags": []
   },
   "outputs": [
    {
     "data": {
      "image/png": "[encoded data removed]",
      "text/plain": [
       "<Figure size 432x288 with 1 Axes>"
      ]
     },
     "metadata": {
      "needs_background": "light"
     },
     "output_type": "display_data"
    }
   ],
   "source": [
    "plotVsEpoch(history, 'accuracy')"
   ]
  },
  {
   "cell_type": "code",
   "execution_count": 46,
   "metadata": {
    "execution": {
     "iopub.execute_input": "2024-11-13T10:41:45.171418Z",
     "iopub.status.busy": "2024-11-13T10:41:45.171226Z",
     "iopub.status.idle": "2024-11-13T10:41:45.233926Z",
     "shell.execute_reply": "2024-11-13T10:41:45.232568Z",
     "shell.execute_reply.started": "2024-11-13T10:41:45.171394Z"
    },
    "tags": []
   },
   "outputs": [
    {
     "name": "stdout",
     "output_type": "stream",
     "text": [
      "{'verbose': 1, 'epochs': 50, 'steps': 6250}\n",
      "dict_keys(['loss', 'accuracy', 'val_loss', 'val_accuracy'])\n"
     ]
    }
   ],
   "source": [
    "print(history.params)\n",
    "print(history.history.keys())"
   ]
  },
  {
   "cell_type": "code",
   "execution_count": 47,
   "metadata": {
    "execution": {
     "iopub.execute_input": "2024-11-13T10:41:45.235537Z",
     "iopub.status.busy": "2024-11-13T10:41:45.235320Z",
     "iopub.status.idle": "2024-11-13T10:41:55.515955Z",
     "shell.execute_reply": "2024-11-13T10:41:55.514565Z",
     "shell.execute_reply.started": "2024-11-13T10:41:45.235508Z"
    },
    "tags": []
   },
   "outputs": [
    {
     "name": "stdout",
     "output_type": "stream",
     "text": [
      "6250/6250 [==============================] - 10s 2ms/step - loss: 0.5374 - accuracy: 0.7265\n",
      "Test Loss: 0.5374\n",
      "Test Accuracy: 0.7265\n"
     ]
    }
   ],
   "source": [
    "# Evaluate the model on the test set\n",
    "test_loss, test_accuracy = new_best_model.evaluate(x_test, y_test, verbose=1)\n",
    "\n",
    "print(f\"Test Loss: {test_loss:.4f}\")\n",
    "print(f\"Test Accuracy: {test_accuracy:.4f}\")"
   ]
  },
  {
   "cell_type": "code",
   "execution_count": 48,
   "metadata": {
    "execution": {
     "iopub.execute_input": "2024-11-13T10:41:55.518122Z",
     "iopub.status.busy": "2024-11-13T10:41:55.517893Z",
     "iopub.status.idle": "2024-11-13T10:42:00.650467Z",
     "shell.execute_reply": "2024-11-13T10:42:00.648924Z",
     "shell.execute_reply.started": "2024-11-13T10:41:55.518093Z"
    },
    "tags": []
   },
   "outputs": [
    {
     "data": {
      "image/png": "[encoded data removed]",
      "text/plain": [
       "<Figure size 432x288 with 1 Axes>"
      ]
     },
     "metadata": {
      "needs_background": "light"
     },
     "output_type": "display_data"
    }
   ],
   "source": [
    "# Get the predicted probabilities for the positive class\n",
    "y_pred_prob = new_best_model.predict(x_test).ravel()  # Use .ravel() to flatten to a 1D array\n",
    "\n",
    "#draw ROC\n",
    "drawROC2(y_pred_prob, y_test)"
   ]
  },
  {
   "cell_type": "code",
   "execution_count": 49,
   "metadata": {
    "execution": {
     "iopub.execute_input": "2024-11-13T10:42:00.653913Z",
     "iopub.status.busy": "2024-11-13T10:42:00.653291Z",
     "iopub.status.idle": "2024-11-13T10:42:02.064213Z",
     "shell.execute_reply": "2024-11-13T10:42:02.062679Z",
     "shell.execute_reply.started": "2024-11-13T10:42:00.653862Z"
    },
    "tags": []
   },
   "outputs": [
    {
     "data": {
      "image/png": "[encoded data removed]",
      "text/plain": [
       "<Figure size 432x288 with 1 Axes>"
      ]
     },
     "metadata": {
      "needs_background": "light"
     },
     "output_type": "display_data"
    }
   ],
   "source": [
    "#plot signal vs background with prediction\n",
    "variable = 'm_bb'\n",
    "plotSignalvsBgWithPrediction2(x_test.loc[:, variable], y_test, y_pred_prob)"
   ]
  },
  {
   "cell_type": "code",
   "execution_count": null,
   "metadata": {},
   "outputs": [],
   "source": []
  }
 ],
 "metadata": {
  "kernelspec": {
   "display_name": "Python 3 (ipykernel)",
   "language": "python",
   "name": "python3"
  },
  "language_info": {
   "codemirror_mode": {
    "name": "ipython",
    "version": 3
   },
   "file_extension": ".py",
   "mimetype": "text/x-python",
   "name": "python",
   "nbconvert_exporter": "python",
   "pygments_lexer": "ipython3",
   "version": "3.9.7"
  },
  "sparkconnect": {
   "bundled_options": [],
   "list_of_options": [
    {
     "name": "spark.driver.maxResultSize",
     "value": "0"
    }
   ]
  }
 },
 "nbformat": 4,
 "nbformat_minor": 4
}
