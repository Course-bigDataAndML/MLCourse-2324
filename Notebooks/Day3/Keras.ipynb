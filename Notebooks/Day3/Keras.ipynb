{
 "cells": [
  {
   "cell_type": "markdown",
   "metadata": {},
   "source": [
    "# Hands-on Day 3\n",
    "\n",
    "## You'll learn\n",
    "\n",
    "### ML methods\n",
    "\n",
    "- Deep NN with keras"
   ]
  },
  {
   "cell_type": "markdown",
   "metadata": {
    "tags": []
   },
   "source": [
    "# Initial setup \n",
    "\n",
    "- read in parquet file\n",
    "- create x,y vectors from panda dataframe"
   ]
  },
  {
   "cell_type": "code",
   "execution_count": 1,
   "metadata": {
    "execution": {
     "iopub.execute_input": "2024-11-14T10:58:05.109276Z",
     "iopub.status.busy": "2024-11-14T10:58:05.108614Z",
     "iopub.status.idle": "2024-11-14T10:58:06.030549Z",
     "shell.execute_reply": "2024-11-14T10:58:06.029785Z",
     "shell.execute_reply.started": "2024-11-14T10:58:05.109151Z"
    },
    "tags": []
   },
   "outputs": [],
   "source": [
    "%reload_ext custom_functions\n",
    "%load_ext autoreload\n",
    "%autoreload 2"
   ]
  },
  {
   "cell_type": "code",
   "execution_count": 2,
   "metadata": {
    "execution": {
     "iopub.execute_input": "2024-11-14T10:58:06.122346Z",
     "iopub.status.busy": "2024-11-14T10:58:06.121458Z",
     "iopub.status.idle": "2024-11-14T10:58:06.453745Z",
     "shell.execute_reply": "2024-11-14T10:58:06.452887Z",
     "shell.execute_reply.started": "2024-11-14T10:58:06.122276Z"
    },
    "tags": []
   },
   "outputs": [],
   "source": [
    "import pandas as pd\n",
    "import numpy as np\n",
    "import matplotlib.pyplot as plt\n",
    "%matplotlib inline\n",
    "\n",
    "# Check out these custom functions\n",
    "from custom_functions import *"
   ]
  },
  {
   "cell_type": "code",
   "execution_count": 4,
   "metadata": {
    "execution": {
     "iopub.execute_input": "2024-11-14T10:58:21.570865Z",
     "iopub.status.busy": "2024-11-14T10:58:21.570087Z",
     "iopub.status.idle": "2024-11-14T10:58:21.789770Z",
     "shell.execute_reply": "2024-11-14T10:58:21.789086Z",
     "shell.execute_reply.started": "2024-11-14T10:58:21.570798Z"
    },
    "tags": []
   },
   "outputs": [
    {
     "name": "stdout",
     "output_type": "stream",
     "text": [
      "CPU times: user 229 ms, sys: 161 ms, total: 391 ms\n",
      "Wall time: 185 ms\n"
     ]
    }
   ],
   "source": [
    "inputFile = 'file:///home/jovyan/Higgs100k.parquet'\n",
    "#inputFile = 'file:///home/jovyan/Higgs1M.parquet'\n",
    "#inputFile = 'file:///home/jovyan/Higgs10M.parquet'\n",
    "\n",
    "%time df = pd.read_parquet(inputFile)"
   ]
  },
  {
   "cell_type": "code",
   "execution_count": 5,
   "metadata": {
    "execution": {
     "iopub.execute_input": "2024-11-14T10:58:23.190988Z",
     "iopub.status.busy": "2024-11-14T10:58:23.190533Z",
     "iopub.status.idle": "2024-11-14T10:58:23.230555Z",
     "shell.execute_reply": "2024-11-14T10:58:23.229260Z",
     "shell.execute_reply.started": "2024-11-14T10:58:23.190937Z"
    },
    "tags": []
   },
   "outputs": [
    {
     "data": {
      "text/plain": [
       "99999"
      ]
     },
     "execution_count": 5,
     "metadata": {},
     "output_type": "execute_result"
    }
   ],
   "source": [
    "# The first column is the target variable\n",
    "y = df.iloc[:, 0] #df with label\n",
    "x = df.iloc[: , 1:] #df with all other variables\n",
    "\n",
    "len(x)"
   ]
  },
  {
   "cell_type": "code",
   "execution_count": 6,
   "metadata": {
    "execution": {
     "iopub.execute_input": "2024-11-14T10:58:24.068304Z",
     "iopub.status.busy": "2024-11-14T10:58:24.067785Z",
     "iopub.status.idle": "2024-11-14T10:58:24.555736Z",
     "shell.execute_reply": "2024-11-14T10:58:24.554632Z",
     "shell.execute_reply.started": "2024-11-14T10:58:24.068271Z"
    },
    "tags": []
   },
   "outputs": [],
   "source": [
    "from sklearn.model_selection import train_test_split\n",
    "\n",
    "# Split the data into training and test sets (80% training, 20% testing)\n",
    "x_train, x_test, y_train, y_test = train_test_split(x, y, test_size=0.2, random_state=42)"
   ]
  },
  {
   "cell_type": "code",
   "execution_count": 8,
   "metadata": {
    "execution": {
     "iopub.execute_input": "2024-11-14T10:58:34.486528Z",
     "iopub.status.busy": "2024-11-14T10:58:34.486103Z",
     "iopub.status.idle": "2024-11-14T10:58:34.519292Z",
     "shell.execute_reply": "2024-11-14T10:58:34.518682Z",
     "shell.execute_reply.started": "2024-11-14T10:58:34.486484Z"
    },
    "tags": []
   },
   "outputs": [
    {
     "name": "stdout",
     "output_type": "stream",
     "text": [
      "99999\n",
      "99999\n"
     ]
    }
   ],
   "source": [
    "#sanity check\n",
    "\n",
    "print(len(x_train)+len(x_test))\n",
    "print(len(y_train)+len(y_test))"
   ]
  },
  {
   "cell_type": "markdown",
   "metadata": {
    "execution": {
     "iopub.execute_input": "2024-11-14T10:45:28.616526Z",
     "iopub.status.busy": "2024-11-14T10:45:28.615937Z",
     "iopub.status.idle": "2024-11-14T10:45:28.650827Z",
     "shell.execute_reply": "2024-11-14T10:45:28.650152Z",
     "shell.execute_reply.started": "2024-11-14T10:45:28.616463Z"
    }
   },
   "source": [
    "# ML Models: Sequential\n",
    "\n",
    "We will use Keras with Tensorflow as backend (supports multi-core and GPUs)"
   ]
  },
  {
   "cell_type": "code",
   "execution_count": 9,
   "metadata": {
    "execution": {
     "iopub.execute_input": "2024-11-14T10:58:42.915444Z",
     "iopub.status.busy": "2024-11-14T10:58:42.914666Z",
     "iopub.status.idle": "2024-11-14T10:58:50.577777Z",
     "shell.execute_reply": "2024-11-14T10:58:50.577003Z",
     "shell.execute_reply.started": "2024-11-14T10:58:42.915375Z"
    },
    "tags": []
   },
   "outputs": [],
   "source": [
    "#ignore warnings from Tensorflow\n",
    "import warnings\n",
    "warnings.simplefilter(action='ignore', category=FutureWarning)\n",
    "#warnings.simplefilter(action='ignore', category=DeprecationWarning)\n",
    "import tensorflow as tf\n",
    "#if type(tf.contrib) != type(tf): tf.contrib._warning = None\n",
    "tf.compat.v1.logging.set_verbosity(tf.compat.v1.logging.ERROR)\n",
    "\n",
    "#import Keras \n",
    "from tensorflow.keras.models import Sequential\n",
    "from tensorflow.keras.layers import Dense\n",
    "from tensorflow.keras.layers import Dropout\n",
    "from tensorflow.keras import regularizers\n",
    "from tensorflow.keras.optimizers import SGD, Adam\n",
    "from tensorflow.keras.callbacks import EarlyStopping\n",
    "\n",
    "np.random.seed(1337)  # for reproducibility"
   ]
  },
  {
   "cell_type": "markdown",
   "metadata": {},
   "source": [
    "## Exercise 1\n",
    "\n",
    "- documentation: https://keras.io/getting-started/sequential-model-guide/\n",
    "- Build (compile) a Keras Sequential model (call it *model*)\n",
    "  - 1 hidden layer  with 100 neurons, activation ReLU (put in the correct input_shape!)\n",
    "  - 1 ouput layer with activation sigmoid\n",
    "  - use Adam optimiser\n",
    "  - use binary_crossentropy loss\n",
    "  - use accuracy metrics "
   ]
  },
  {
   "cell_type": "code",
   "execution_count": null,
   "metadata": {},
   "outputs": [],
   "source": [
    "# create the model\n",
    "\n",
    "# compile the model\n"
   ]
  },
  {
   "cell_type": "code",
   "execution_count": null,
   "metadata": {},
   "outputs": [],
   "source": [
    "# simple early stopping\n",
    "es = EarlyStopping(monitor='val_loss', mode='min', verbose=1, patience=10)"
   ]
  },
  {
   "cell_type": "code",
   "execution_count": null,
   "metadata": {},
   "outputs": [],
   "source": [
    "# set batch size according to size of the input sample!!!\n",
    "# start training with reasonable numer of epoch\n",
    "\n",
    "%time history = model.fit(x, y, batch_size=128, epochs=10, validation_data=(x_test, y_test), callbacks=[es]) #, verbose=0)"
   ]
  },
  {
   "cell_type": "code",
   "execution_count": null,
   "metadata": {},
   "outputs": [],
   "source": [
    "plotVsEpoch(history, 'loss')"
   ]
  },
  {
   "cell_type": "code",
   "execution_count": null,
   "metadata": {},
   "outputs": [],
   "source": [
    "plotVsEpoch(history, 'accuracy')"
   ]
  },
  {
   "cell_type": "code",
   "execution_count": null,
   "metadata": {},
   "outputs": [],
   "source": [
    "model.summary()"
   ]
  },
  {
   "cell_type": "code",
   "execution_count": null,
   "metadata": {},
   "outputs": [],
   "source": [
    "# apply model to get predictions on test set\n",
    "y_pred = model.predict(x_test)\n",
    "\n",
    "#draw ROC\n",
    "drawROC2(y_test, y_pred)"
   ]
  },
  {
   "cell_type": "code",
   "execution_count": null,
   "metadata": {},
   "outputs": [],
   "source": [
    "#do signal vs background plot\n",
    "x_test = x_test[:,25]\n",
    "variable = 'm_bb'\n",
    "\n",
    "plotSignalvsBgWithPrediction2(x_test, y_test, y_pred, variable)"
   ]
  },
  {
   "cell_type": "markdown",
   "metadata": {},
   "source": [
    "# Hyperparameters optimisation\n",
    "\n",
    "- you can use [keras_tuner](https://keras.io/keras_tuner/) for hyperparameter optimisation"
   ]
  },
  {
   "cell_type": "code",
   "execution_count": 10,
   "metadata": {
    "execution": {
     "iopub.execute_input": "2024-11-14T11:13:43.113448Z",
     "iopub.status.busy": "2024-11-14T11:13:43.113108Z",
     "iopub.status.idle": "2024-11-14T11:13:43.848096Z",
     "shell.execute_reply": "2024-11-14T11:13:43.846352Z",
     "shell.execute_reply.started": "2024-11-14T11:13:43.113411Z"
    }
   },
   "outputs": [],
   "source": [
    "import keras_tuner as kt"
   ]
  },
  {
   "cell_type": "code",
   "execution_count": 12,
   "metadata": {
    "execution": {
     "iopub.execute_input": "2024-11-14T11:18:03.097189Z",
     "iopub.status.busy": "2024-11-14T11:18:03.096564Z",
     "iopub.status.idle": "2024-11-14T11:18:03.294987Z",
     "shell.execute_reply": "2024-11-14T11:18:03.293395Z",
     "shell.execute_reply.started": "2024-11-14T11:18:03.097120Z"
    },
    "tags": []
   },
   "outputs": [],
   "source": [
    "# you may need to install it with\n",
    "#!pip install --user keras-tuner"
   ]
  },
  {
   "cell_type": "markdown",
   "metadata": {},
   "source": [
    "## Exercise 2\n",
    "\n",
    "- play with the model parameters and see if you can improve the performances\n",
    "- try to increase the number of epochs for training, is the model improving?\n",
    "- how is training time affected by the number of parameters?\n",
    "- how is signal versus background separation affected (check different variables)"
   ]
  }
 ],
 "metadata": {
  "kernelspec": {
   "display_name": "PySpark",
   "language": "python",
   "name": "pyspark"
  },
  "language_info": {
   "codemirror_mode": {
    "name": "ipython",
    "version": 3
   },
   "file_extension": ".py",
   "mimetype": "text/x-python",
   "name": "python",
   "nbconvert_exporter": "python",
   "pygments_lexer": "ipython3",
   "version": "3.9.7"
  },
  "sparkconnect": {
   "bundled_options": [],
   "list_of_options": [
    {
     "name": "spark.driver.maxResultSize",
     "value": "0"
    }
   ]
  }
 },
 "nbformat": 4,
 "nbformat_minor": 4
}
