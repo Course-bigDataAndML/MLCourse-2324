{
 "cells": [
  {
   "cell_type": "markdown",
   "metadata": {},
   "source": [
    "# Hands-on Day 3\n",
    "\n",
    "## You'll learn\n",
    "\n",
    "### ML methods\n",
    "\n",
    "- Deep NN with keras"
   ]
  },
  {
   "cell_type": "markdown",
   "metadata": {
    "tags": []
   },
   "source": [
    "# Initial setup \n",
    "\n",
    "- read in parquet file\n",
    "- create x,y vectors from panda dataframe"
   ]
  },
  {
   "cell_type": "code",
   "execution_count": 2,
   "metadata": {
    "execution": {
     "iopub.execute_input": "2024-11-14T17:04:41.465703Z",
     "iopub.status.busy": "2024-11-14T17:04:41.465119Z",
     "iopub.status.idle": "2024-11-14T17:04:41.472148Z",
     "shell.execute_reply": "2024-11-14T17:04:41.470855Z",
     "shell.execute_reply.started": "2024-11-14T17:04:41.465636Z"
    },
    "tags": []
   },
   "outputs": [],
   "source": [
    "%reload_ext custom_functions\n",
    "%load_ext autoreload\n",
    "%autoreload 2"
   ]
  },
  {
   "cell_type": "code",
   "execution_count": 2,
   "metadata": {
    "execution": {
     "iopub.execute_input": "2024-11-14T11:31:06.242428Z",
     "iopub.status.busy": "2024-11-14T11:31:06.242262Z",
     "iopub.status.idle": "2024-11-14T11:31:06.475915Z",
     "shell.execute_reply": "2024-11-14T11:31:06.475243Z",
     "shell.execute_reply.started": "2024-11-14T11:31:06.242408Z"
    },
    "tags": []
   },
   "outputs": [],
   "source": [
    "import pandas as pd\n",
    "import numpy as np\n",
    "import matplotlib.pyplot as plt\n",
    "%matplotlib inline\n",
    "\n",
    "# Check out these custom functions\n",
    "from custom_functions import *"
   ]
  },
  {
   "cell_type": "code",
   "execution_count": 3,
   "metadata": {
    "execution": {
     "iopub.execute_input": "2024-11-14T11:31:06.477494Z",
     "iopub.status.busy": "2024-11-14T11:31:06.477187Z",
     "iopub.status.idle": "2024-11-14T11:31:07.579144Z",
     "shell.execute_reply": "2024-11-14T11:31:07.578089Z",
     "shell.execute_reply.started": "2024-11-14T11:31:06.477473Z"
    },
    "tags": []
   },
   "outputs": [
    {
     "name": "stdout",
     "output_type": "stream",
     "text": [
      "CPU times: user 6.99 s, sys: 13 s, total: 20 s\n",
      "Wall time: 1.08 s\n"
     ]
    }
   ],
   "source": [
    "#inputFile = 'file:///home/jovyan/Higgs100k.parquet'\n",
    "#inputFile = 'file:///home/jovyan/Higgs1M.parquet'\n",
    "inputFile = 'file:///home/jovyan/Higgs10M.parquet'\n",
    "\n",
    "%time df = pd.read_parquet(inputFile)"
   ]
  },
  {
   "cell_type": "code",
   "execution_count": 4,
   "metadata": {
    "execution": {
     "iopub.execute_input": "2024-11-14T11:31:07.580480Z",
     "iopub.status.busy": "2024-11-14T11:31:07.580276Z",
     "iopub.status.idle": "2024-11-14T11:31:07.610135Z",
     "shell.execute_reply": "2024-11-14T11:31:07.608322Z",
     "shell.execute_reply.started": "2024-11-14T11:31:07.580455Z"
    },
    "tags": []
   },
   "outputs": [
    {
     "data": {
      "text/plain": [
       "10000000"
      ]
     },
     "execution_count": 4,
     "metadata": {},
     "output_type": "execute_result"
    }
   ],
   "source": [
    "# The first column is the target variable\n",
    "y = df.iloc[:, 0] #df with label\n",
    "x = df.iloc[: , 1:] #df with all other variables\n",
    "\n",
    "len(x)"
   ]
  },
  {
   "cell_type": "code",
   "execution_count": null,
   "metadata": {},
   "outputs": [],
   "source": [
    "from sklearn.model_selection import train_test_split\n",
    "\n",
    "# Split the data into training and test sets (80% training, 20% testing)\n",
    "x_train, x_test, y_train, y_test = train_test_split(x, y, test_size=0.2, random_state=42)"
   ]
  },
  {
   "cell_type": "code",
   "execution_count": 6,
   "metadata": {
    "execution": {
     "iopub.execute_input": "2024-11-14T11:31:16.103622Z",
     "iopub.status.busy": "2024-11-14T11:31:16.103433Z",
     "iopub.status.idle": "2024-11-14T11:31:16.132636Z",
     "shell.execute_reply": "2024-11-14T11:31:16.132052Z",
     "shell.execute_reply.started": "2024-11-14T11:31:16.103601Z"
    },
    "tags": []
   },
   "outputs": [
    {
     "name": "stdout",
     "output_type": "stream",
     "text": [
      "10000000\n",
      "10000000\n"
     ]
    }
   ],
   "source": [
    "#sanity check\n",
    "\n",
    "print(len(x_train)+len(x_test))\n",
    "print(len(y_train)+len(y_test))"
   ]
  },
  {
   "cell_type": "markdown",
   "metadata": {
    "execution": {
     "iopub.execute_input": "2024-11-14T10:45:28.616526Z",
     "iopub.status.busy": "2024-11-14T10:45:28.615937Z",
     "iopub.status.idle": "2024-11-14T10:45:28.650827Z",
     "shell.execute_reply": "2024-11-14T10:45:28.650152Z",
     "shell.execute_reply.started": "2024-11-14T10:45:28.616463Z"
    }
   },
   "source": [
    "# ML Models: Sequential\n",
    "\n",
    "We will use Keras with Tensorflow as backend (supports multi-core and GPUs)"
   ]
  },
  {
   "cell_type": "code",
   "execution_count": 7,
   "metadata": {
    "execution": {
     "iopub.execute_input": "2024-11-14T11:31:16.133604Z",
     "iopub.status.busy": "2024-11-14T11:31:16.133455Z",
     "iopub.status.idle": "2024-11-14T11:31:23.755175Z",
     "shell.execute_reply": "2024-11-14T11:31:23.753600Z",
     "shell.execute_reply.started": "2024-11-14T11:31:16.133584Z"
    }
   },
   "outputs": [],
   "source": [
    "#ignore warnings from Tensorflow\n",
    "import warnings\n",
    "warnings.simplefilter(action='ignore', category=FutureWarning)\n",
    "#warnings.simplefilter(action='ignore', category=DeprecationWarning)\n",
    "import tensorflow as tf\n",
    "#if type(tf.contrib) != type(tf): tf.contrib._warning = None\n",
    "tf.compat.v1.logging.set_verbosity(tf.compat.v1.logging.ERROR)\n",
    "\n",
    "#import Keras \n",
    "from tensorflow.keras.models import Sequential\n",
    "from tensorflow.keras.layers import Dense\n",
    "from tensorflow.keras.layers import Dropout\n",
    "from tensorflow.keras import regularizers\n",
    "from tensorflow.keras.optimizers import SGD, Adam\n",
    "from tensorflow.keras.callbacks import EarlyStopping\n",
    "\n",
    "np.random.seed(1337)  # for reproducibility"
   ]
  },
  {
   "cell_type": "markdown",
   "metadata": {},
   "source": [
    "## Exercise 1\n",
    "\n",
    "- documentation: https://keras.io/getting-started/sequential-model-guide/\n",
    "- Build (compile) a Keras Sequential model (call it *model*)\n",
    "  - 1 hidden layer  with 100 neurons, activation ReLU (put in the correct input_shape!)\n",
    "  - 1 ouput layer with activation sigmoid\n",
    "  - use Adam optimiser\n",
    "  - use binary_crossentropy loss\n",
    "  - use accuracy metrics "
   ]
  },
  {
   "cell_type": "code",
   "execution_count": 8,
   "metadata": {
    "execution": {
     "iopub.execute_input": "2024-11-14T11:31:23.758058Z",
     "iopub.status.busy": "2024-11-14T11:31:23.757534Z",
     "iopub.status.idle": "2024-11-14T11:31:23.870575Z",
     "shell.execute_reply": "2024-11-14T11:31:23.869893Z",
     "shell.execute_reply.started": "2024-11-14T11:31:23.757994Z"
    },
    "tags": []
   },
   "outputs": [],
   "source": [
    "# create the model\n",
    "model = Sequential()\n",
    "\n",
    "#baseline, 13m with 1M events, acc 74%, AUC 81\n",
    "model.add(Dense(100, activation='relu', input_shape=(28,)))\n",
    "model.add(Dense(1, activation='sigmoid'))\n",
    "opt = Adam()\n",
    "\n",
    "# Compile model\n",
    "model.compile(loss='binary_crossentropy', optimizer=opt, metrics=['accuracy'])"
   ]
  },
  {
   "cell_type": "code",
   "execution_count": 9,
   "metadata": {
    "execution": {
     "iopub.execute_input": "2024-11-14T11:31:23.871602Z",
     "iopub.status.busy": "2024-11-14T11:31:23.871430Z",
     "iopub.status.idle": "2024-11-14T11:31:23.918317Z",
     "shell.execute_reply": "2024-11-14T11:31:23.917703Z",
     "shell.execute_reply.started": "2024-11-14T11:31:23.871580Z"
    },
    "tags": []
   },
   "outputs": [],
   "source": [
    "# simple early stopping\n",
    "es = EarlyStopping(monitor='val_loss', mode='min', verbose=1, patience=10)"
   ]
  },
  {
   "cell_type": "code",
   "execution_count": 10,
   "metadata": {
    "execution": {
     "iopub.execute_input": "2024-11-14T11:31:23.919382Z",
     "iopub.status.busy": "2024-11-14T11:31:23.919229Z",
     "iopub.status.idle": "2024-11-14T11:45:26.018794Z",
     "shell.execute_reply": "2024-11-14T11:45:26.017349Z",
     "shell.execute_reply.started": "2024-11-14T11:31:23.919363Z"
    },
    "tags": []
   },
   "outputs": [
    {
     "name": "stdout",
     "output_type": "stream",
     "text": [
      "Epoch 1/10\n",
      "19532/19532 [==============================] - 86s 4ms/step - loss: 0.5743 - accuracy: 0.6984 - val_loss: 0.5483 - val_accuracy: 0.7209\n",
      "Epoch 2/10\n",
      "19532/19532 [==============================] - 82s 4ms/step - loss: 0.5413 - accuracy: 0.7246 - val_loss: 0.5346 - val_accuracy: 0.7289\n",
      "Epoch 3/10\n",
      "19532/19532 [==============================] - 82s 4ms/step - loss: 0.5316 - accuracy: 0.7310 - val_loss: 0.5276 - val_accuracy: 0.7341\n",
      "Epoch 4/10\n",
      "19532/19532 [==============================] - 83s 4ms/step - loss: 0.5272 - accuracy: 0.7340 - val_loss: 0.5252 - val_accuracy: 0.7346\n",
      "Epoch 5/10\n",
      "19532/19532 [==============================] - 84s 4ms/step - loss: 0.5241 - accuracy: 0.7358 - val_loss: 0.5207 - val_accuracy: 0.7376\n",
      "Epoch 6/10\n",
      "19532/19532 [==============================] - 83s 4ms/step - loss: 0.5221 - accuracy: 0.7370 - val_loss: 0.5223 - val_accuracy: 0.7376\n",
      "Epoch 7/10\n",
      "19532/19532 [==============================] - 84s 4ms/step - loss: 0.5208 - accuracy: 0.7378 - val_loss: 0.5215 - val_accuracy: 0.7376\n",
      "Epoch 8/10\n",
      "19532/19532 [==============================] - 83s 4ms/step - loss: 0.5197 - accuracy: 0.7384 - val_loss: 0.5196 - val_accuracy: 0.7385\n",
      "Epoch 9/10\n",
      "19532/19532 [==============================] - 84s 4ms/step - loss: 0.5188 - accuracy: 0.7390 - val_loss: 0.5175 - val_accuracy: 0.7398\n",
      "Epoch 10/10\n",
      "19532/19532 [==============================] - 83s 4ms/step - loss: 0.5179 - accuracy: 0.7394 - val_loss: 0.5166 - val_accuracy: 0.7404\n",
      "CPU times: user 37min 39s, sys: 17min 1s, total: 54min 40s\n",
      "Wall time: 14min 2s\n"
     ]
    }
   ],
   "source": [
    "# set batch size according to size of the input sample!!!\n",
    "# start training with reasonable numer of epoch\n",
    "\n",
    "%time history = model.fit(x, y, batch_size=512, epochs=10, validation_data=(x_test, y_test), callbacks=[es]) #, verbose=0)"
   ]
  },
  {
   "cell_type": "code",
   "execution_count": 11,
   "metadata": {
    "execution": {
     "iopub.execute_input": "2024-11-14T11:45:26.020947Z",
     "iopub.status.busy": "2024-11-14T11:45:26.020568Z",
     "iopub.status.idle": "2024-11-14T11:45:26.316143Z",
     "shell.execute_reply": "2024-11-14T11:45:26.315512Z",
     "shell.execute_reply.started": "2024-11-14T11:45:26.020922Z"
    },
    "tags": []
   },
   "outputs": [
    {
     "data": {
      "image/png": "[encoded data removed]",
      "text/plain": [
       "<Figure size 432x288 with 1 Axes>"
      ]
     },
     "metadata": {
      "needs_background": "light"
     },
     "output_type": "display_data"
    }
   ],
   "source": [
    "plotVsEpoch(history, 'loss')"
   ]
  },
  {
   "cell_type": "code",
   "execution_count": 12,
   "metadata": {
    "execution": {
     "iopub.execute_input": "2024-11-14T11:45:26.317311Z",
     "iopub.status.busy": "2024-11-14T11:45:26.317150Z",
     "iopub.status.idle": "2024-11-14T11:45:26.508913Z",
     "shell.execute_reply": "2024-11-14T11:45:26.508285Z",
     "shell.execute_reply.started": "2024-11-14T11:45:26.317291Z"
    },
    "tags": []
   },
   "outputs": [
    {
     "data": {
      "image/png": "[encoded data removed]",
      "text/plain": [
       "<Figure size 432x288 with 1 Axes>"
      ]
     },
     "metadata": {
      "needs_background": "light"
     },
     "output_type": "display_data"
    }
   ],
   "source": [
    "plotVsEpoch(history, 'accuracy')"
   ]
  },
  {
   "cell_type": "code",
   "execution_count": 13,
   "metadata": {
    "execution": {
     "iopub.execute_input": "2024-11-14T11:45:26.510203Z",
     "iopub.status.busy": "2024-11-14T11:45:26.510042Z",
     "iopub.status.idle": "2024-11-14T11:45:26.555746Z",
     "shell.execute_reply": "2024-11-14T11:45:26.555192Z",
     "shell.execute_reply.started": "2024-11-14T11:45:26.510184Z"
    },
    "tags": []
   },
   "outputs": [
    {
     "name": "stdout",
     "output_type": "stream",
     "text": [
      "{'verbose': 1, 'epochs': 10, 'steps': 19532}\n",
      "dict_keys(['loss', 'accuracy', 'val_loss', 'val_accuracy'])\n"
     ]
    }
   ],
   "source": [
    "print(history.params)\n",
    "print(history.history.keys())"
   ]
  },
  {
   "cell_type": "code",
   "execution_count": 14,
   "metadata": {
    "execution": {
     "iopub.execute_input": "2024-11-14T11:45:26.556673Z",
     "iopub.status.busy": "2024-11-14T11:45:26.556523Z",
     "iopub.status.idle": "2024-11-14T11:45:26.609368Z",
     "shell.execute_reply": "2024-11-14T11:45:26.608812Z",
     "shell.execute_reply.started": "2024-11-14T11:45:26.556654Z"
    },
    "tags": []
   },
   "outputs": [
    {
     "name": "stdout",
     "output_type": "stream",
     "text": [
      "Model: \"sequential\"\n",
      "_________________________________________________________________\n",
      " Layer (type)                Output Shape              Param #   \n",
      "=================================================================\n",
      " dense (Dense)               (None, 100)               2900      \n",
      "                                                                 \n",
      " dense_1 (Dense)             (None, 1)                 101       \n",
      "                                                                 \n",
      "=================================================================\n",
      "Total params: 3,001\n",
      "Trainable params: 3,001\n",
      "Non-trainable params: 0\n",
      "_________________________________________________________________\n"
     ]
    }
   ],
   "source": [
    "model.summary()"
   ]
  },
  {
   "cell_type": "code",
   "execution_count": 15,
   "metadata": {
    "execution": {
     "iopub.execute_input": "2024-11-14T11:45:26.610271Z",
     "iopub.status.busy": "2024-11-14T11:45:26.610123Z",
     "iopub.status.idle": "2024-11-14T11:46:13.189543Z",
     "shell.execute_reply": "2024-11-14T11:46:13.187771Z",
     "shell.execute_reply.started": "2024-11-14T11:45:26.610252Z"
    },
    "tags": []
   },
   "outputs": [
    {
     "data": {
      "image/png": "[encoded data removed]",
      "text/plain": [
       "<Figure size 432x288 with 1 Axes>"
      ]
     },
     "metadata": {
      "needs_background": "light"
     },
     "output_type": "display_data"
    }
   ],
   "source": [
    "# apply model to get predictions on test set\n",
    "y_pred = model.predict(x_test)\n",
    "\n",
    "#draw ROC\n",
    "drawROC2(y_test, y_pred)"
   ]
  },
  {
   "cell_type": "code",
   "execution_count": 16,
   "metadata": {
    "execution": {
     "iopub.execute_input": "2024-11-14T11:46:13.192280Z",
     "iopub.status.busy": "2024-11-14T11:46:13.191786Z",
     "iopub.status.idle": "2024-11-14T11:47:01.915789Z",
     "shell.execute_reply": "2024-11-14T11:47:01.914685Z",
     "shell.execute_reply.started": "2024-11-14T11:46:13.192217Z"
    },
    "tags": []
   },
   "outputs": [
    {
     "data": {
      "image/png": "[encoded data removed]",
      "text/plain": [
       "<Figure size 432x288 with 1 Axes>"
      ]
     },
     "metadata": {
      "needs_background": "light"
     },
     "output_type": "display_data"
    }
   ],
   "source": [
    "#plot signal vs background with prediction\n",
    "variable = 'm_bb'\n",
    "\n",
    "# Get the predicted probabilities for the positive class\n",
    "y_pred_prob = model.predict(x_test).ravel()  # Use .ravel() to flatten to a 1D array\n",
    "\n",
    "plotSignalvsBgWithPrediction2(x_test.loc[:, variable], y_test, y_pred_prob)"
   ]
  },
  {
   "cell_type": "markdown",
   "metadata": {},
   "source": [
    "# Hyperparameters optimisation\n",
    "\n",
    "- you can use [keras_tuner](https://keras.io/keras_tuner/) for hyperparameter optimisation\n"
   ]
  },
  {
   "cell_type": "code",
   "execution_count": 17,
   "metadata": {
    "execution": {
     "iopub.execute_input": "2024-11-14T11:47:01.918401Z",
     "iopub.status.busy": "2024-11-14T11:47:01.918181Z",
     "iopub.status.idle": "2024-11-14T11:47:02.686570Z",
     "shell.execute_reply": "2024-11-14T11:47:02.685308Z",
     "shell.execute_reply.started": "2024-11-14T11:47:01.918373Z"
    },
    "tags": []
   },
   "outputs": [],
   "source": [
    "import keras_tuner as kt"
   ]
  },
  {
   "cell_type": "code",
   "execution_count": 18,
   "metadata": {
    "execution": {
     "iopub.execute_input": "2024-11-14T11:47:02.688957Z",
     "iopub.status.busy": "2024-11-14T11:47:02.688564Z",
     "iopub.status.idle": "2024-11-14T11:47:02.746405Z",
     "shell.execute_reply": "2024-11-14T11:47:02.745740Z",
     "shell.execute_reply.started": "2024-11-14T11:47:02.688910Z"
    },
    "tags": []
   },
   "outputs": [],
   "source": [
    "# you may need to install it with\n",
    "#!pip install --user keras-tuner"
   ]
  },
  {
   "cell_type": "markdown",
   "metadata": {},
   "source": [
    "## Exercise 2\n",
    "\n",
    "- play with the model parameters and see if you can improve the performances \n",
    "- try to increase the number of epochs for training, is the model improving?\n",
    "- how is training time affected by the number of parameters?\n",
    "- how is signal versus background separation affected (check different variables)"
   ]
  },
  {
   "cell_type": "code",
   "execution_count": 19,
   "metadata": {
    "execution": {
     "iopub.execute_input": "2024-11-14T11:47:02.747742Z",
     "iopub.status.busy": "2024-11-14T11:47:02.747517Z",
     "iopub.status.idle": "2024-11-14T11:47:03.831383Z",
     "shell.execute_reply": "2024-11-14T11:47:03.830666Z",
     "shell.execute_reply.started": "2024-11-14T11:47:02.747717Z"
    },
    "tags": []
   },
   "outputs": [
    {
     "name": "stdout",
     "output_type": "stream",
     "text": [
      "CPU times: user 964 ms, sys: 1.22 s, total: 2.18 s\n",
      "Wall time: 152 ms\n"
     ]
    },
    {
     "data": {
      "text/plain": [
       "999999"
      ]
     },
     "execution_count": 19,
     "metadata": {},
     "output_type": "execute_result"
    }
   ],
   "source": [
    "# read in input parquet file\n",
    "#inputFile = 'file:///home/jovyan/Higgs100k.parquet'\n",
    "inputFile = 'file:///home/jovyan/Higgs1M.parquet'\n",
    "\n",
    "%time df = pd.read_parquet(inputFile)\n",
    "\n",
    "#create train/test set\n",
    "y = df.iloc[:, 0] #df with label\n",
    "x = df.iloc[: , 1:] #df with all other variables\n",
    "\n",
    "x_train, x_test, y_train, y_test = train_test_split(x, y, test_size=0.2, random_state=42)\n",
    "len(y)"
   ]
  },
  {
   "cell_type": "code",
   "execution_count": 20,
   "metadata": {
    "execution": {
     "iopub.execute_input": "2024-11-14T11:47:03.832689Z",
     "iopub.status.busy": "2024-11-14T11:47:03.832508Z",
     "iopub.status.idle": "2024-11-14T11:47:11.975889Z",
     "shell.execute_reply": "2024-11-14T11:47:11.974475Z",
     "shell.execute_reply.started": "2024-11-14T11:47:03.832666Z"
    },
    "tags": []
   },
   "outputs": [
    {
     "name": "stdout",
     "output_type": "stream",
     "text": [
      "Reloading Tuner from keras/bigDataML/tuner0.json\n",
      "CPU times: user 451 µs, sys: 296 µs, total: 747 µs\n",
      "Wall time: 797 µs\n",
      "Best Hyperparameters:\n",
      "Units: 32\n",
      "Dropout: 0.30000000000000004\n",
      "Learning Rate: 0.0022174218292679996\n",
      "6250/6250 [==============================] - 7s 1ms/step - loss: 0.6046 - accuracy: 0.6808\n",
      "Test Loss: 0.6046\n",
      "Test Accuracy: 0.6808\n"
     ]
    }
   ],
   "source": [
    "import keras_tuner as kt\n",
    "\n",
    "# Define the model-building function\n",
    "def build_model(hp):\n",
    "    model = Sequential()\n",
    "\n",
    "    # Tune the number of units in the hidden layers\n",
    "    model.add(Dense(units=hp.Int('units', min_value=32, max_value=256, step=32), activation='relu', input_dim=x_train.shape[1]))\n",
    "    \n",
    "    # Add a dropout layer - not a good idea because it is not used for inference\n",
    "    # unwanted regularization effect that makes better accuracy on test than on train\n",
    "    #model.add(Dropout(hp.Float('dropout', min_value=0.2, max_value=0.5, step=0.1)))\n",
    "    \n",
    "    # Output layer\n",
    "    model.add(Dense(1, activation='sigmoid'))  # Binary classification\n",
    "\n",
    "    # Tune the learning rate for the optimizer\n",
    "    model.compile(optimizer=Adam(learning_rate=hp.Float('learning_rate', min_value=1e-5, \n",
    "                  max_value=1e-2, sampling='LOG')), \n",
    "                  loss='binary_crossentropy', \n",
    "                  metrics=['accuracy'])\n",
    "    \n",
    "    return model\n",
    "\n",
    "# Instantiate the tuner\n",
    "tuner = kt.RandomSearch(\n",
    "    build_model, \n",
    "    objective='val_accuracy',  # Optimization target\n",
    "    max_trials=5,               # Number of models to try\n",
    "    executions_per_trial=3,     # Number of executions for each trial\n",
    "    directory='keras',         # Directory to store the results\n",
    "    project_name='bigDataML'\n",
    ")\n",
    "\n",
    "# Run the hyperparameter search\n",
    "%time tuner.search(x_train, y_train, epochs=10, validation_data=(x_test, y_test))\n",
    "\n",
    "# Get the best model and parameters\n",
    "best_model = tuner.get_best_models(num_models=1)[0]\n",
    "best_params = tuner.get_best_hyperparameters(num_trials=1)[0]\n",
    "\n",
    "print(\"Best Hyperparameters:\")\n",
    "print(f\"Units: {best_params['units']}\")\n",
    "print(f\"Dropout: {best_params['dropout']}\")\n",
    "print(f\"Learning Rate: {best_params['learning_rate']}\")\n",
    "\n",
    "# Evaluate the best model\n",
    "test_loss, test_acc = best_model.evaluate(x_test, y_test)\n",
    "\n",
    "print(f\"Test Loss: {test_loss:.4f}\")\n",
    "print(f\"Test Accuracy: {test_acc:.4f}\")"
   ]
  },
  {
   "cell_type": "code",
   "execution_count": 21,
   "metadata": {
    "execution": {
     "iopub.execute_input": "2024-11-14T11:47:11.977685Z",
     "iopub.status.busy": "2024-11-14T11:47:11.977464Z",
     "iopub.status.idle": "2024-11-14T11:47:16.624705Z",
     "shell.execute_reply": "2024-11-14T11:47:16.623273Z",
     "shell.execute_reply.started": "2024-11-14T11:47:11.977661Z"
    },
    "tags": []
   },
   "outputs": [
    {
     "data": {
      "image/png": "[encoded data removed]",
      "text/plain": [
       "<Figure size 432x288 with 1 Axes>"
      ]
     },
     "metadata": {
      "needs_background": "light"
     },
     "output_type": "display_data"
    }
   ],
   "source": [
    "# apply model to get predictions on test set\n",
    "y_pred = best_model.predict(x_test)\n",
    "\n",
    "#draw ROC\n",
    "drawROC2(y_test, y_pred)"
   ]
  },
  {
   "cell_type": "code",
   "execution_count": 22,
   "metadata": {
    "execution": {
     "iopub.execute_input": "2024-11-14T11:47:16.628408Z",
     "iopub.status.busy": "2024-11-14T11:47:16.627602Z",
     "iopub.status.idle": "2024-11-14T11:47:22.078870Z",
     "shell.execute_reply": "2024-11-14T11:47:22.078179Z",
     "shell.execute_reply.started": "2024-11-14T11:47:16.628348Z"
    },
    "tags": []
   },
   "outputs": [
    {
     "data": {
      "image/png": "[encoded data removed]",
      "text/plain": [
       "<Figure size 432x288 with 1 Axes>"
      ]
     },
     "metadata": {
      "needs_background": "light"
     },
     "output_type": "display_data"
    }
   ],
   "source": [
    "#plot signal vs background with prediction\n",
    "variable = 'm_bb'\n",
    "\n",
    "# Get the predicted probabilities for the positive class\n",
    "y_pred_prob = best_model.predict(x_test).ravel()  # Use .ravel() to flatten to a 1D array\n",
    "\n",
    "plotSignalvsBgWithPrediction2(x_test.loc[:, variable], y_test, y_pred_prob)"
   ]
  },
  {
   "cell_type": "code",
   "execution_count": 23,
   "metadata": {
    "execution": {
     "iopub.execute_input": "2024-11-14T11:47:22.080001Z",
     "iopub.status.busy": "2024-11-14T11:47:22.079823Z",
     "iopub.status.idle": "2024-11-14T11:47:22.275434Z",
     "shell.execute_reply": "2024-11-14T11:47:22.274256Z",
     "shell.execute_reply.started": "2024-11-14T11:47:22.079980Z"
    },
    "tags": []
   },
   "outputs": [
    {
     "name": "stdout",
     "output_type": "stream",
     "text": [
      "Model: \"sequential\"\n",
      "_________________________________________________________________\n",
      " Layer (type)                Output Shape              Param #   \n",
      "=================================================================\n",
      " dense (Dense)               (None, 32)                928       \n",
      "                                                                 \n",
      " dense_1 (Dense)             (None, 1)                 33        \n",
      "                                                                 \n",
      "=================================================================\n",
      "Total params: 961\n",
      "Trainable params: 961\n",
      "Non-trainable params: 0\n",
      "_________________________________________________________________\n"
     ]
    }
   ],
   "source": [
    "# Print a summary of the model architecture\n",
    "best_model.summary()"
   ]
  },
  {
   "cell_type": "markdown",
   "metadata": {},
   "source": [
    "## Train best model on 10M events"
   ]
  },
  {
   "cell_type": "code",
   "execution_count": 24,
   "metadata": {
    "execution": {
     "iopub.execute_input": "2024-11-14T11:47:22.277871Z",
     "iopub.status.busy": "2024-11-14T11:47:22.277425Z",
     "iopub.status.idle": "2024-11-14T11:47:30.767333Z",
     "shell.execute_reply": "2024-11-14T11:47:30.766172Z",
     "shell.execute_reply.started": "2024-11-14T11:47:22.277816Z"
    },
    "tags": []
   },
   "outputs": [
    {
     "name": "stdout",
     "output_type": "stream",
     "text": [
      "CPU times: user 6.99 s, sys: 13 s, total: 20 s\n",
      "Wall time: 759 ms\n"
     ]
    },
    {
     "data": {
      "text/plain": [
       "10000000"
      ]
     },
     "execution_count": 24,
     "metadata": {},
     "output_type": "execute_result"
    }
   ],
   "source": [
    "# read in input parquet file\n",
    "input_file = \"Higgs10M.parquet\"\n",
    "%time df = pd.read_parquet(input_file)\n",
    "\n",
    "#create train/test set\n",
    "y = df.iloc[:, 0] #df with label\n",
    "x = df.iloc[: , 1:] #df with all other variables\n",
    "\n",
    "x_train, x_test, y_train, y_test = train_test_split(x, y, test_size=0.2, random_state=42)\n",
    "len(y)"
   ]
  },
  {
   "cell_type": "code",
   "execution_count": 25,
   "metadata": {
    "execution": {
     "iopub.execute_input": "2024-11-14T11:47:30.770567Z",
     "iopub.status.busy": "2024-11-14T11:47:30.769806Z",
     "iopub.status.idle": "2024-11-14T11:47:30.986579Z",
     "shell.execute_reply": "2024-11-14T11:47:30.985052Z",
     "shell.execute_reply.started": "2024-11-14T11:47:30.770502Z"
    },
    "tags": []
   },
   "outputs": [],
   "source": [
    "# Rebuild the model using these best hyperparameters\n",
    "new_best_model = build_model(best_params)\n",
    "\n",
    "# Compile the model with the same loss and metrics as used previously\n",
    "new_best_model.compile(\n",
    "    optimizer='adam',\n",
    "    loss='binary_crossentropy',   # or whichever loss you used\n",
    "    metrics=['accuracy']\n",
    ")"
   ]
  },
  {
   "cell_type": "code",
   "execution_count": 26,
   "metadata": {
    "execution": {
     "iopub.execute_input": "2024-11-14T11:47:30.989535Z",
     "iopub.status.busy": "2024-11-14T11:47:30.988852Z",
     "iopub.status.idle": "2024-11-14T12:09:01.533522Z",
     "shell.execute_reply": "2024-11-14T12:09:01.532423Z",
     "shell.execute_reply.started": "2024-11-14T11:47:30.989471Z"
    },
    "tags": []
   },
   "outputs": [
    {
     "name": "stdout",
     "output_type": "stream",
     "text": [
      "Epoch 1/30\n",
      "15625/15625 [==============================] - 46s 3ms/step - loss: 0.5965 - accuracy: 0.6789 - val_loss: 0.5740 - val_accuracy: 0.6983\n",
      "Epoch 2/30\n",
      "15625/15625 [==============================] - 44s 3ms/step - loss: 0.5659 - accuracy: 0.7065 - val_loss: 0.5612 - val_accuracy: 0.7113\n",
      "Epoch 3/30\n",
      "15625/15625 [==============================] - 44s 3ms/step - loss: 0.5580 - accuracy: 0.7123 - val_loss: 0.5544 - val_accuracy: 0.7154\n",
      "Epoch 4/30\n",
      "15625/15625 [==============================] - 43s 3ms/step - loss: 0.5538 - accuracy: 0.7152 - val_loss: 0.5526 - val_accuracy: 0.7179\n",
      "Epoch 5/30\n",
      "15625/15625 [==============================] - 43s 3ms/step - loss: 0.5499 - accuracy: 0.7179 - val_loss: 0.5468 - val_accuracy: 0.7208\n",
      "Epoch 6/30\n",
      "15625/15625 [==============================] - 42s 3ms/step - loss: 0.5463 - accuracy: 0.7205 - val_loss: 0.5488 - val_accuracy: 0.7207\n",
      "Epoch 7/30\n",
      "15625/15625 [==============================] - 41s 3ms/step - loss: 0.5434 - accuracy: 0.7227 - val_loss: 0.5417 - val_accuracy: 0.7238\n",
      "Epoch 8/30\n",
      "15625/15625 [==============================] - 42s 3ms/step - loss: 0.5415 - accuracy: 0.7238 - val_loss: 0.5396 - val_accuracy: 0.7258\n",
      "Epoch 9/30\n",
      "15625/15625 [==============================] - 41s 3ms/step - loss: 0.5404 - accuracy: 0.7246 - val_loss: 0.5394 - val_accuracy: 0.7247\n",
      "Epoch 10/30\n",
      "15625/15625 [==============================] - 41s 3ms/step - loss: 0.5396 - accuracy: 0.7250 - val_loss: 0.5383 - val_accuracy: 0.7260\n",
      "Epoch 11/30\n",
      "15625/15625 [==============================] - 43s 3ms/step - loss: 0.5390 - accuracy: 0.7254 - val_loss: 0.5383 - val_accuracy: 0.7258\n",
      "Epoch 12/30\n",
      "15625/15625 [==============================] - 42s 3ms/step - loss: 0.5383 - accuracy: 0.7259 - val_loss: 0.5389 - val_accuracy: 0.7256\n",
      "Epoch 13/30\n",
      "15625/15625 [==============================] - 42s 3ms/step - loss: 0.5377 - accuracy: 0.7263 - val_loss: 0.5358 - val_accuracy: 0.7278\n",
      "Epoch 14/30\n",
      "15625/15625 [==============================] - 43s 3ms/step - loss: 0.5370 - accuracy: 0.7266 - val_loss: 0.5350 - val_accuracy: 0.7277\n",
      "Epoch 15/30\n",
      "15625/15625 [==============================] - 43s 3ms/step - loss: 0.5364 - accuracy: 0.7270 - val_loss: 0.5379 - val_accuracy: 0.7253\n",
      "Epoch 16/30\n",
      "15625/15625 [==============================] - 44s 3ms/step - loss: 0.5356 - accuracy: 0.7277 - val_loss: 0.5347 - val_accuracy: 0.7285\n",
      "Epoch 17/30\n",
      "15625/15625 [==============================] - 44s 3ms/step - loss: 0.5349 - accuracy: 0.7283 - val_loss: 0.5351 - val_accuracy: 0.7284\n",
      "Epoch 18/30\n",
      "15625/15625 [==============================] - 42s 3ms/step - loss: 0.5344 - accuracy: 0.7288 - val_loss: 0.5328 - val_accuracy: 0.7303\n",
      "Epoch 19/30\n",
      "15625/15625 [==============================] - 42s 3ms/step - loss: 0.5341 - accuracy: 0.7290 - val_loss: 0.5327 - val_accuracy: 0.7295\n",
      "Epoch 20/30\n",
      "15625/15625 [==============================] - 43s 3ms/step - loss: 0.5338 - accuracy: 0.7293 - val_loss: 0.5325 - val_accuracy: 0.7301\n",
      "Epoch 21/30\n",
      "15625/15625 [==============================] - 43s 3ms/step - loss: 0.5334 - accuracy: 0.7295 - val_loss: 0.5338 - val_accuracy: 0.7296\n",
      "Epoch 22/30\n",
      "15625/15625 [==============================] - 42s 3ms/step - loss: 0.5330 - accuracy: 0.7297 - val_loss: 0.5352 - val_accuracy: 0.7279\n",
      "Epoch 23/30\n",
      "15625/15625 [==============================] - 43s 3ms/step - loss: 0.5328 - accuracy: 0.7297 - val_loss: 0.5354 - val_accuracy: 0.7276\n",
      "Epoch 24/30\n",
      "15625/15625 [==============================] - 43s 3ms/step - loss: 0.5325 - accuracy: 0.7299 - val_loss: 0.5322 - val_accuracy: 0.7303\n",
      "Epoch 25/30\n",
      "15625/15625 [==============================] - 43s 3ms/step - loss: 0.5323 - accuracy: 0.7301 - val_loss: 0.5317 - val_accuracy: 0.7305\n",
      "Epoch 26/30\n",
      "15625/15625 [==============================] - 43s 3ms/step - loss: 0.5322 - accuracy: 0.7303 - val_loss: 0.5318 - val_accuracy: 0.7302\n",
      "Epoch 27/30\n",
      "15625/15625 [==============================] - 41s 3ms/step - loss: 0.5319 - accuracy: 0.7303 - val_loss: 0.5316 - val_accuracy: 0.7310\n",
      "Epoch 28/30\n",
      "15625/15625 [==============================] - 44s 3ms/step - loss: 0.5318 - accuracy: 0.7304 - val_loss: 0.5313 - val_accuracy: 0.7311\n",
      "Epoch 29/30\n",
      "15625/15625 [==============================] - 42s 3ms/step - loss: 0.5317 - accuracy: 0.7305 - val_loss: 0.5343 - val_accuracy: 0.7281\n",
      "Epoch 30/30\n",
      "15625/15625 [==============================] - 44s 3ms/step - loss: 0.5315 - accuracy: 0.7307 - val_loss: 0.5313 - val_accuracy: 0.7310\n",
      "CPU times: user 42min 46s, sys: 14min 21s, total: 57min 8s\n",
      "Wall time: 21min 30s\n"
     ]
    }
   ],
   "source": [
    "%%time\n",
    "new_history = new_best_model.fit(x_train, y_train, batch_size=512, epochs=30, validation_data=(x_test, y_test), callbacks=[es]) #, verbose=0)"
   ]
  },
  {
   "cell_type": "code",
   "execution_count": 27,
   "metadata": {
    "execution": {
     "iopub.execute_input": "2024-11-14T12:09:01.538887Z",
     "iopub.status.busy": "2024-11-14T12:09:01.538667Z",
     "iopub.status.idle": "2024-11-14T12:09:01.954633Z",
     "shell.execute_reply": "2024-11-14T12:09:01.953331Z",
     "shell.execute_reply.started": "2024-11-14T12:09:01.538862Z"
    },
    "tags": []
   },
   "outputs": [
    {
     "data": {
      "image/png": "[encoded data removed]",
      "text/plain": [
       "<Figure size 432x288 with 1 Axes>"
      ]
     },
     "metadata": {
      "needs_background": "light"
     },
     "output_type": "display_data"
    }
   ],
   "source": [
    "plotVsEpoch(new_history, 'loss')"
   ]
  },
  {
   "cell_type": "code",
   "execution_count": 28,
   "metadata": {
    "execution": {
     "iopub.execute_input": "2024-11-14T12:09:01.956028Z",
     "iopub.status.busy": "2024-11-14T12:09:01.955845Z",
     "iopub.status.idle": "2024-11-14T12:09:02.115738Z",
     "shell.execute_reply": "2024-11-14T12:09:02.115127Z",
     "shell.execute_reply.started": "2024-11-14T12:09:01.956006Z"
    },
    "tags": []
   },
   "outputs": [
    {
     "data": {
      "image/png": "[encoded data removed]",
      "text/plain": [
       "<Figure size 432x288 with 1 Axes>"
      ]
     },
     "metadata": {
      "needs_background": "light"
     },
     "output_type": "display_data"
    }
   ],
   "source": [
    "plotVsEpoch(new_history, 'accuracy')"
   ]
  },
  {
   "cell_type": "code",
   "execution_count": 29,
   "metadata": {
    "execution": {
     "iopub.execute_input": "2024-11-14T12:09:02.117118Z",
     "iopub.status.busy": "2024-11-14T12:09:02.116936Z",
     "iopub.status.idle": "2024-11-14T12:09:02.165663Z",
     "shell.execute_reply": "2024-11-14T12:09:02.165078Z",
     "shell.execute_reply.started": "2024-11-14T12:09:02.117097Z"
    },
    "tags": []
   },
   "outputs": [
    {
     "name": "stdout",
     "output_type": "stream",
     "text": [
      "{'verbose': 1, 'epochs': 30, 'steps': 15625}\n",
      "dict_keys(['loss', 'accuracy', 'val_loss', 'val_accuracy'])\n"
     ]
    }
   ],
   "source": [
    "print(new_history.params)\n",
    "print(new_history.history.keys())"
   ]
  },
  {
   "cell_type": "code",
   "execution_count": 30,
   "metadata": {
    "execution": {
     "iopub.execute_input": "2024-11-14T12:09:02.166740Z",
     "iopub.status.busy": "2024-11-14T12:09:02.166592Z",
     "iopub.status.idle": "2024-11-14T12:10:37.992065Z",
     "shell.execute_reply": "2024-11-14T12:10:37.991230Z",
     "shell.execute_reply.started": "2024-11-14T12:09:02.166721Z"
    },
    "tags": []
   },
   "outputs": [
    {
     "name": "stdout",
     "output_type": "stream",
     "text": [
      "62500/62500 [==============================] - 94s 2ms/step - loss: 0.5313 - accuracy: 0.7310\n",
      "Test Loss: 0.5313\n",
      "Test Accuracy: 0.7310\n"
     ]
    }
   ],
   "source": [
    "# Evaluate the model on the test set\n",
    "test_loss, test_accuracy = new_best_model.evaluate(x_test, y_test, verbose=1)\n",
    "\n",
    "print(f\"Test Loss: {test_loss:.4f}\")\n",
    "print(f\"Test Accuracy: {test_accuracy:.4f}\")"
   ]
  },
  {
   "cell_type": "code",
   "execution_count": 31,
   "metadata": {
    "execution": {
     "iopub.execute_input": "2024-11-14T12:10:37.994353Z",
     "iopub.status.busy": "2024-11-14T12:10:37.993953Z",
     "iopub.status.idle": "2024-11-14T12:11:21.871216Z",
     "shell.execute_reply": "2024-11-14T12:11:21.869472Z",
     "shell.execute_reply.started": "2024-11-14T12:10:37.994324Z"
    },
    "tags": []
   },
   "outputs": [
    {
     "data": {
      "image/png": "[encoded data removed]",
      "text/plain": [
       "<Figure size 432x288 with 1 Axes>"
      ]
     },
     "metadata": {
      "needs_background": "light"
     },
     "output_type": "display_data"
    }
   ],
   "source": [
    "# apply model to get predictions on test set\n",
    "y_pred = new_best_model.predict(x_test)\n",
    "\n",
    "#draw ROC\n",
    "drawROC2(y_test, y_pred)"
   ]
  },
  {
   "cell_type": "code",
   "execution_count": 32,
   "metadata": {
    "execution": {
     "iopub.execute_input": "2024-11-14T12:11:21.874393Z",
     "iopub.status.busy": "2024-11-14T12:11:21.873879Z",
     "iopub.status.idle": "2024-11-14T12:12:07.015102Z",
     "shell.execute_reply": "2024-11-14T12:12:07.013153Z",
     "shell.execute_reply.started": "2024-11-14T12:11:21.874330Z"
    },
    "tags": []
   },
   "outputs": [
    {
     "data": {
      "image/png": "[encoded data removed]",
      "text/plain": [
       "<Figure size 432x288 with 1 Axes>"
      ]
     },
     "metadata": {
      "needs_background": "light"
     },
     "output_type": "display_data"
    }
   ],
   "source": [
    "#plot signal vs background with prediction\n",
    "variable = 'm_bb'\n",
    "\n",
    "# Get the predicted probabilities for the positive class\n",
    "y_pred_prob = new_best_model.predict(x_test).ravel()  # Use .ravel() to flatten to a 1D array\n",
    "\n",
    "plotSignalvsBgWithPrediction2(x_test.loc[:, variable], y_test, y_pred_prob)"
   ]
  },
  {
   "cell_type": "code",
   "execution_count": null,
   "metadata": {},
   "outputs": [],
   "source": []
  }
 ],
 "metadata": {
  "kernelspec": {
   "display_name": "PySpark",
   "language": "python",
   "name": "pyspark"
  },
  "language_info": {
   "codemirror_mode": {
    "name": "ipython",
    "version": 3
   },
   "file_extension": ".py",
   "mimetype": "text/x-python",
   "name": "python",
   "nbconvert_exporter": "python",
   "pygments_lexer": "ipython3",
   "version": "3.9.7"
  },
  "sparkconnect": {
   "bundled_options": [],
   "list_of_options": [
    {
     "name": "spark.driver.maxResultSize",
     "value": "0"
    }
   ]
  }
 },
 "nbformat": 4,
 "nbformat_minor": 4
}
