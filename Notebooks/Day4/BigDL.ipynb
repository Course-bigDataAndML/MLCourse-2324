{
 "cells": [
  {
   "cell_type": "markdown",
   "metadata": {},
   "source": [
    "# Hands-on Day 4\n",
    "\n",
    "## You'll learn\n",
    "\n",
    "### ML methods\n",
    "\n",
    "- Deep NN with BigDL"
   ]
  },
  {
   "cell_type": "code",
   "execution_count": 1,
   "metadata": {
    "execution": {
     "iopub.execute_input": "2024-11-14T15:20:42.459135Z",
     "iopub.status.busy": "2024-11-14T15:20:42.458429Z",
     "iopub.status.idle": "2024-11-14T15:20:43.569129Z",
     "shell.execute_reply": "2024-11-14T15:20:43.568392Z",
     "shell.execute_reply.started": "2024-11-14T15:20:42.458934Z"
    },
    "tags": []
   },
   "outputs": [],
   "source": [
    "#initial imports\n",
    "%reload_ext custom_magics\n",
    "%load_ext autoreload\n",
    "%autoreload 2\n",
    "\n",
    "import pandas as pd\n",
    "import numpy as np\n",
    "import matplotlib.pyplot as plt\n",
    "%matplotlib inline\n",
    "\n",
    "np.random.seed(1337)  # for reproducibility\n",
    "\n",
    "from custom_functions import *"
   ]
  },
  {
   "cell_type": "code",
   "execution_count": 2,
   "metadata": {
    "execution": {
     "iopub.execute_input": "2024-11-14T15:20:43.570783Z",
     "iopub.status.busy": "2024-11-14T15:20:43.570605Z",
     "iopub.status.idle": "2024-11-14T15:21:00.129396Z",
     "shell.execute_reply": "2024-11-14T15:21:00.127840Z",
     "shell.execute_reply.started": "2024-11-14T15:20:43.570762Z"
    },
    "tags": []
   },
   "outputs": [
    {
     "data": {
      "text/html": [
       "\n",
       "        <div>\n",
       "            <p><b>SparkContext</b></p>\n",
       "\n",
       "            <p><a href=\"http://jupyter-leggerf.jhub.svc.cluster.local:4041\">Spark UI</a></p>\n",
       "\n",
       "            <dl>\n",
       "              <dt>Version</dt>\n",
       "                <dd><code>v3.2.1</code></dd>\n",
       "              <dt>Master</dt>\n",
       "                <dd><code>k8s://https://192.168.2.39:6443</code></dd>\n",
       "              <dt>AppName</dt>\n",
       "                <dd><code>jupyter-leggerf</code></dd>\n",
       "            </dl>\n",
       "        </div>\n",
       "        "
      ],
      "text/plain": [
       "<SparkContext master=k8s://https://192.168.2.39:6443 appName=jupyter-leggerf>"
      ]
     },
     "execution_count": 2,
     "metadata": {},
     "output_type": "execute_result"
    }
   ],
   "source": [
    "num_workers=7 # Do not use more than 7!\n",
    "spark=%sc_bigDL $num_workers\n",
    "\n",
    "from pyspark.sql import SparkSession\n",
    "spark_session = SparkSession(spark)\n",
    "\n",
    "#check if spark is there\n",
    "spark\n",
    "#spark._conf.getAll()"
   ]
  },
  {
   "cell_type": "code",
   "execution_count": 3,
   "metadata": {
    "execution": {
     "iopub.execute_input": "2024-11-14T15:21:00.133774Z",
     "iopub.status.busy": "2024-11-14T15:21:00.133036Z",
     "iopub.status.idle": "2024-11-14T15:21:01.919768Z",
     "shell.execute_reply": "2024-11-14T15:21:01.918311Z",
     "shell.execute_reply.started": "2024-11-14T15:21:00.133708Z"
    },
    "tags": []
   },
   "outputs": [
    {
     "name": "stderr",
     "output_type": "stream",
     "text": [
      "/opt/conda/lib/python3.9/site-packages/bigdl/dllib/utils/engine.py:45: UserWarning: Find both SPARK_HOME and pyspark. You may need to check whether they match with each other. SPARK_HOME environment variable is set to: /usr/local/spark, and pyspark is found in: /opt/conda/lib/python3.9/site-packages/pyspark/__init__.py. If they are unmatched, please use one source only to avoid conflict. For example, you can unset SPARK_HOME and use pyspark only.\n",
      "  warnings.warn(warning_msg)\n"
     ]
    }
   ],
   "source": [
    "#init bigDL context\n",
    "\n",
    "from bigdl.dllib.nncontext import *\n",
    "sc = init_nncontext()"
   ]
  },
  {
   "cell_type": "markdown",
   "metadata": {},
   "source": [
    "## Read in input data"
   ]
  },
  {
   "cell_type": "code",
   "execution_count": 4,
   "metadata": {
    "execution": {
     "iopub.execute_input": "2024-11-14T15:21:01.922460Z",
     "iopub.status.busy": "2024-11-14T15:21:01.921930Z",
     "iopub.status.idle": "2024-11-14T15:21:10.678739Z",
     "shell.execute_reply": "2024-11-14T15:21:10.676611Z",
     "shell.execute_reply.started": "2024-11-14T15:21:01.922384Z"
    },
    "tags": []
   },
   "outputs": [
    {
     "name": "stdout",
     "output_type": "stream",
     "text": [
      "CPU times: user 11.2 ms, sys: 8.14 ms, total: 19.3 ms\n",
      "Wall time: 4.8 s\n",
      "There are 99999 events\n"
     ]
    }
   ],
   "source": [
    "inputFile = 'file:///home/jovyan/Higgs100k.parquet'\n",
    "#inputFile = 'file:///home/jovyan/Higgs1M.parquet'\n",
    "#inputFile = 'file:///home/jovyan/Higgs10M.parquet'\n",
    "\n",
    "%time df = spark_session.read.format('parquet').option('header', 'true').option('inferschema', 'true').load(inputFile)\n",
    "\n",
    "total_events = df.count()\n",
    "print('There are '+str(total_events)+' events')"
   ]
  },
  {
   "cell_type": "code",
   "execution_count": 5,
   "metadata": {
    "execution": {
     "iopub.execute_input": "2024-11-14T15:21:10.684179Z",
     "iopub.status.busy": "2024-11-14T15:21:10.683602Z",
     "iopub.status.idle": "2024-11-14T15:21:15.721621Z",
     "shell.execute_reply": "2024-11-14T15:21:15.720687Z",
     "shell.execute_reply.started": "2024-11-14T15:21:10.684133Z"
    },
    "tags": []
   },
   "outputs": [
    {
     "name": "stdout",
     "output_type": "stream",
     "text": [
      "Events for training 80192\n",
      "Events for validation 19807\n"
     ]
    }
   ],
   "source": [
    "#split the dataset for training and test\n",
    "train, test = df.randomSplit([0.8,0.2])\n",
    "\n",
    "print('Events for training {}'.format(train.count()))\n",
    "print('Events for validation {}'.format(test.count()))\n",
    "\n",
    "# create input feature vector\n",
    "feature = train.columns\n",
    "feature.remove('label')\n",
    "\n",
    "from pyspark.ml.feature import VectorAssembler\n",
    "\n",
    "#VectorAssembler is a transformer that combines a given list of columns into a single vector column\n",
    "assembler = VectorAssembler(inputCols=feature, outputCol='features')\n",
    "train = assembler.transform(train)\n",
    "test = assembler.transform(test)"
   ]
  },
  {
   "cell_type": "code",
   "execution_count": 6,
   "metadata": {
    "execution": {
     "iopub.execute_input": "2024-11-14T15:21:15.723410Z",
     "iopub.status.busy": "2024-11-14T15:21:15.723000Z",
     "iopub.status.idle": "2024-11-14T15:21:16.190568Z",
     "shell.execute_reply": "2024-11-14T15:21:16.189628Z",
     "shell.execute_reply.started": "2024-11-14T15:21:15.723377Z"
    },
    "tags": []
   },
   "outputs": [
    {
     "name": "stdout",
     "output_type": "stream",
     "text": [
      "Number of partitions: 6\n",
      "Partitioner: None\n"
     ]
    }
   ],
   "source": [
    "#In how many partitions is the dataframe distributed?\n",
    "print(\"Number of partitions: {}\".format(train.rdd.getNumPartitions()))\n",
    "print(\"Partitioner: {}\".format(train.rdd.partitioner))"
   ]
  },
  {
   "cell_type": "markdown",
   "metadata": {},
   "source": [
    "## Exercise: create the model\n",
    "\n",
    "- documentation: https://keras.io/getting-started/sequential-model-guide/\n",
    "- Build (compile) a Keras Sequential model (call it *model*)\n",
    "  - 1 hidden layer  with 100 neurons, activation ReLU (put in the correct input_shape!)\n",
    "  - 1 ouput layer with activation sigmoid\n",
    "  - use Adam optimiser\n",
    "  - use binary_crossentropy loss\n",
    "  - use accuracy metrics "
   ]
  },
  {
   "cell_type": "code",
   "execution_count": 7,
   "metadata": {
    "execution": {
     "iopub.execute_input": "2024-11-14T15:21:16.193016Z",
     "iopub.status.busy": "2024-11-14T15:21:16.192568Z",
     "iopub.status.idle": "2024-11-14T15:21:16.261177Z",
     "shell.execute_reply": "2024-11-14T15:21:16.260098Z",
     "shell.execute_reply.started": "2024-11-14T15:21:16.192979Z"
    },
    "tags": []
   },
   "outputs": [],
   "source": [
    "# Create keras-like model: \n",
    "# Only need to change package name from tensorflow.keras to bigdl.dllib.keras\n",
    "# no callbacks in bigDL\n",
    "\n",
    "from bigdl.dllib.keras.layers import *\n",
    "from bigdl.dllib.keras.models import Sequential\n",
    "from bigdl.dllib.utils.common import JTensor\n",
    "\n",
    "from bigdl.dllib.keras.optimizers import Adam\n",
    "from bigdl.dllib.keras.models import Sequential\n",
    "from bigdl.dllib.keras.layers.core import Dense, Activation, Dropout\n",
    "\n",
    "# create the model\n",
    "\n",
    "# Compile model"
   ]
  },
  {
   "cell_type": "code",
   "execution_count": 8,
   "metadata": {
    "execution": {
     "iopub.execute_input": "2024-11-14T15:21:33.300023Z",
     "iopub.status.busy": "2024-11-14T15:21:33.299228Z",
     "iopub.status.idle": "2024-11-14T15:21:33.344548Z",
     "shell.execute_reply": "2024-11-14T15:21:33.343317Z",
     "shell.execute_reply.started": "2024-11-14T15:21:33.299937Z"
    },
    "tags": []
   },
   "outputs": [
    {
     "name": "stdout",
     "output_type": "stream",
     "text": [
      "980\n"
     ]
    }
   ],
   "source": [
    "# Set of hyperparameters\n",
    "numEpochs = 10\n",
    "\n",
    "# The batch used by BigDL must be a multiple of numExecutors * executorCores because data will be equally distributed inside each executor\n",
    "# scale up or down according to size of input dataset\n",
    "workerBatch = 140\n",
    "numExecutors = int(sc._conf.get('spark.executor.instances'))\n",
    "executorCores = int(sc._conf.get('spark.executor.cores'))\n",
    "\n",
    "BigDLbatch = workerBatch * numExecutors * executorCores\n",
    "\n",
    "print(str(BigDLbatch))"
   ]
  },
  {
   "cell_type": "code",
   "execution_count": 10,
   "metadata": {
    "execution": {
     "iopub.execute_input": "2024-11-14T15:21:56.170729Z",
     "iopub.status.busy": "2024-11-14T15:21:56.169814Z",
     "iopub.status.idle": "2024-11-14T15:21:56.207575Z",
     "shell.execute_reply": "2024-11-14T15:21:56.206198Z",
     "shell.execute_reply.started": "2024-11-14T15:21:56.170659Z"
    },
    "tags": []
   },
   "outputs": [],
   "source": [
    "# Create SparkML compatible estimator for deep learning training\n",
    "from bigdl.dllib.optim.optimizer import EveryEpoch, Loss, TrainSummary, ValidationSummary\n",
    "from bigdl.dllib.nnframes import *\n",
    "from bigdl.dllib.keras.objectives import BinaryCrossEntropy\n",
    "\n",
    "estimator = NNEstimator(model, BinaryCrossEntropy()) \\\n",
    "        .setOptimMethod(Adam()) \\\n",
    "        .setBatchSize(BigDLbatch) \\\n",
    "        .setMaxEpoch(numEpochs) \\\n",
    "        .setFeaturesCol(\"features\") \\\n",
    "        .setLabelCol(\"label\") \\\n",
    "        .setValidation(trigger=EveryEpoch() , val_df=test, val_method=[Loss(BinaryCrossEntropy())], batch_size=BigDLbatch)"
   ]
  },
  {
   "cell_type": "markdown",
   "metadata": {},
   "source": [
    "## Create directory for logs"
   ]
  },
  {
   "cell_type": "code",
   "execution_count": null,
   "metadata": {
    "tags": []
   },
   "outputs": [],
   "source": [
    "appName = \"Classifier\"\n",
    "logDir = \"/home/jovyan/bigDL\" \n",
    "\n",
    "# Check if there is already an application with the same name and remove it, otherwise logs will be appended to that app\n",
    "import os\n",
    "try:\n",
    "    os.system('rm -rf '+logDir+'/'+appName)\n",
    "except:\n",
    "    pass\n",
    "\n",
    "print(\"Saving logs to {}\".format(logDir+'/'+appName))\n",
    "\n",
    "trainSummary = TrainSummary(log_dir=logDir,app_name=appName)\n",
    "estimator.setTrainSummary(trainSummary)\n",
    "\n",
    "valSummary = ValidationSummary(log_dir=logDir,app_name=appName)\n",
    "estimator.setValidationSummary(valSummary)"
   ]
  },
  {
   "cell_type": "markdown",
   "metadata": {},
   "source": [
    "## Train model"
   ]
  },
  {
   "cell_type": "code",
   "execution_count": null,
   "metadata": {
    "tags": []
   },
   "outputs": [],
   "source": [
    "#keep spark UI close!!! \n",
    "%time trained_model = estimator.fit(train)"
   ]
  },
  {
   "cell_type": "code",
   "execution_count": null,
   "metadata": {
    "tags": []
   },
   "outputs": [],
   "source": [
    "# Predict with trained NNModel using pipeline transform API\n",
    "predDF = trained_model.transform(test)\n",
    "#predDF.printSchema()\n",
    "\n",
    "y_pred = np.asarray(predDF.select(\"prediction\").collect())\n",
    "y_true = np.asarray(test.select('label').collect())"
   ]
  },
  {
   "cell_type": "code",
   "execution_count": null,
   "metadata": {
    "tags": []
   },
   "outputs": [],
   "source": [
    "drawROC2(y_true[:,0], y_pred[:,0])"
   ]
  },
  {
   "cell_type": "code",
   "execution_count": null,
   "metadata": {
    "tags": []
   },
   "outputs": [],
   "source": [
    "#create dataframe in same format as MLlib\n",
    "from pyspark.sql import functions as f\n",
    "\n",
    "#rename prediction to probability (predictions are binary, 0-1)\n",
    "newDF = predDF.withColumn(\"probability\", f.col(\"prediction\"))\n",
    "#overwrite prediction with binary values\n",
    "result = newDF.withColumn('prediction', f.when(f.col(\"probability\")[0]>0.5, 1.).otherwise(0.))\n",
    "#result.select([\"probability\", \"prediction\", \"label\"]).show()"
   ]
  },
  {
   "cell_type": "code",
   "execution_count": null,
   "metadata": {
    "tags": []
   },
   "outputs": [],
   "source": [
    "#plot signal vs background with prediction\n",
    "plotSignalvsBgWithPrediction(test, result,  'm_bb')"
   ]
  },
  {
   "cell_type": "code",
   "execution_count": null,
   "metadata": {
    "tags": []
   },
   "outputs": [],
   "source": [
    "# Plot loss\n",
    "plotLoss(trainSummary, valSummary)"
   ]
  },
  {
   "cell_type": "code",
   "execution_count": 11,
   "metadata": {
    "execution": {
     "iopub.execute_input": "2024-11-14T15:22:17.935766Z",
     "iopub.status.busy": "2024-11-14T15:22:17.935016Z",
     "iopub.status.idle": "2024-11-14T15:22:18.645443Z",
     "shell.execute_reply": "2024-11-14T15:22:18.643876Z",
     "shell.execute_reply.started": "2024-11-14T15:22:17.935699Z"
    },
    "tags": []
   },
   "outputs": [],
   "source": [
    "#Once done, stop spark\n",
    "spark.stop()"
   ]
  },
  {
   "cell_type": "markdown",
   "metadata": {},
   "source": [
    "## Exercise\n",
    "\n",
    "- play with the batch size, how does it affect performances/training time?\n",
    "- play with the model parameters and see if you can improve the performances\n",
    "- how is training time affected by the number of parameters?\n",
    "- try to make scaling tests, i.e. training time vs number of workers \n",
    "- compare the performances to the models from the previous days (MCP and Keras)"
   ]
  }
 ],
 "metadata": {
  "kernelspec": {
   "display_name": "PySpark",
   "language": "python",
   "name": "pyspark"
  },
  "language_info": {
   "codemirror_mode": {
    "name": "ipython",
    "version": 3
   },
   "file_extension": ".py",
   "mimetype": "text/x-python",
   "name": "python",
   "nbconvert_exporter": "python",
   "pygments_lexer": "ipython3",
   "version": "3.9.7"
  },
  "sparkconnect": {
   "bundled_options": [],
   "list_of_options": [
    {
     "name": "spark.driver.maxResultSize",
     "value": "0"
    }
   ]
  }
 },
 "nbformat": 4,
 "nbformat_minor": 4
}
