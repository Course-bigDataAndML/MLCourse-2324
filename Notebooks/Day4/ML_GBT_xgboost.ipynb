{
 "cells": [
  {
   "cell_type": "markdown",
   "metadata": {},
   "source": [
    "# Hands-on Day 4\n",
    "\n",
    "## You'll learn\n",
    "\n",
    "### ML methods\n",
    "\n",
    "- Gradient Boosting Trees with xgboost\n",
    "\n",
    "### ML techniques\n",
    "- hyperparameter optimisation\n",
    "- ROC curves"
   ]
  },
  {
   "cell_type": "markdown",
   "metadata": {
    "tags": []
   },
   "source": [
    "# Initial setup \n",
    "\n",
    "- read in parquet file\n",
    "- create x,y vectors from panda dataframe"
   ]
  },
  {
   "cell_type": "code",
   "execution_count": 1,
   "metadata": {
    "execution": {
     "iopub.execute_input": "2024-11-14T17:24:07.042668Z",
     "iopub.status.busy": "2024-11-14T17:24:07.042428Z",
     "iopub.status.idle": "2024-11-14T17:24:08.162846Z",
     "shell.execute_reply": "2024-11-14T17:24:08.161292Z",
     "shell.execute_reply.started": "2024-11-14T17:24:07.042597Z"
    },
    "tags": []
   },
   "outputs": [],
   "source": [
    "%reload_ext custom_functions\n",
    "%load_ext autoreload\n",
    "%autoreload 2"
   ]
  },
  {
   "cell_type": "code",
   "execution_count": 2,
   "metadata": {
    "execution": {
     "iopub.execute_input": "2024-11-14T17:24:08.165565Z",
     "iopub.status.busy": "2024-11-14T17:24:08.165114Z",
     "iopub.status.idle": "2024-11-14T17:24:08.199917Z",
     "shell.execute_reply": "2024-11-14T17:24:08.199184Z",
     "shell.execute_reply.started": "2024-11-14T17:24:08.165508Z"
    },
    "tags": []
   },
   "outputs": [],
   "source": [
    "import pandas as pd\n",
    "import numpy as np\n",
    "import matplotlib.pyplot as plt\n",
    "%matplotlib inline\n",
    "\n",
    "# Check out these custom functions\n",
    "from custom_functions import *"
   ]
  },
  {
   "cell_type": "code",
   "execution_count": 3,
   "metadata": {
    "execution": {
     "iopub.execute_input": "2024-11-14T17:24:08.201758Z",
     "iopub.status.busy": "2024-11-14T17:24:08.201392Z",
     "iopub.status.idle": "2024-11-14T17:24:08.748054Z",
     "shell.execute_reply": "2024-11-14T17:24:08.747273Z",
     "shell.execute_reply.started": "2024-11-14T17:24:08.201725Z"
    },
    "tags": []
   },
   "outputs": [
    {
     "name": "stdout",
     "output_type": "stream",
     "text": [
      "CPU times: user 958 ms, sys: 1.32 s, total: 2.28 s\n",
      "Wall time: 393 ms\n"
     ]
    }
   ],
   "source": [
    "#inputFile = 'file:///home/jovyan/Higgs100k.parquet'\n",
    "inputFile = 'file:///home/jovyan/Higgs1M.parquet'\n",
    "#inputFile = 'file:///home/jovyan/Higgs10M.parquet'\n",
    "\n",
    "%time df = pd.read_parquet(inputFile)"
   ]
  },
  {
   "cell_type": "code",
   "execution_count": 4,
   "metadata": {
    "execution": {
     "iopub.execute_input": "2024-11-14T17:24:08.749483Z",
     "iopub.status.busy": "2024-11-14T17:24:08.749184Z",
     "iopub.status.idle": "2024-11-14T17:24:08.778941Z",
     "shell.execute_reply": "2024-11-14T17:24:08.778334Z",
     "shell.execute_reply.started": "2024-11-14T17:24:08.749457Z"
    },
    "tags": []
   },
   "outputs": [
    {
     "data": {
      "text/plain": [
       "999999"
      ]
     },
     "execution_count": 4,
     "metadata": {},
     "output_type": "execute_result"
    }
   ],
   "source": [
    "# The first column is the target variable\n",
    "y = df.iloc[:, 0] #df with label\n",
    "x = df.iloc[: , 1:] #df with all other variables\n",
    "\n",
    "len(x)"
   ]
  },
  {
   "cell_type": "code",
   "execution_count": 5,
   "metadata": {
    "execution": {
     "iopub.execute_input": "2024-11-14T17:24:08.780252Z",
     "iopub.status.busy": "2024-11-14T17:24:08.780075Z",
     "iopub.status.idle": "2024-11-14T17:24:09.750371Z",
     "shell.execute_reply": "2024-11-14T17:24:09.749375Z",
     "shell.execute_reply.started": "2024-11-14T17:24:08.780229Z"
    },
    "tags": []
   },
   "outputs": [],
   "source": [
    "from sklearn.model_selection import train_test_split\n",
    "\n",
    "# Split the data into training and test sets (80% training, 20% testing)\n",
    "x_train, x_test, y_train, y_test = train_test_split(x, y, test_size=0.2, random_state=42)"
   ]
  },
  {
   "cell_type": "code",
   "execution_count": 6,
   "metadata": {
    "execution": {
     "iopub.execute_input": "2024-11-14T17:24:09.753263Z",
     "iopub.status.busy": "2024-11-14T17:24:09.753086Z",
     "iopub.status.idle": "2024-11-14T17:24:09.778613Z",
     "shell.execute_reply": "2024-11-14T17:24:09.778030Z",
     "shell.execute_reply.started": "2024-11-14T17:24:09.753242Z"
    },
    "tags": []
   },
   "outputs": [
    {
     "name": "stdout",
     "output_type": "stream",
     "text": [
      "999999\n",
      "999999\n"
     ]
    }
   ],
   "source": [
    "#sanity check\n",
    "\n",
    "print(len(x_train)+len(x_test))\n",
    "print(len(y_train)+len(y_test))"
   ]
  },
  {
   "cell_type": "markdown",
   "metadata": {},
   "source": [
    "# ML model: GBT"
   ]
  },
  {
   "cell_type": "markdown",
   "metadata": {},
   "source": [
    "- xgboost uses the parameter n_jobs to spawn multi-core jobs on the SAME machine\n",
    "- do not abuse it or you'll eat up all resources (set it to 5 max)"
   ]
  },
  {
   "cell_type": "code",
   "execution_count": 7,
   "metadata": {
    "execution": {
     "iopub.execute_input": "2024-11-14T17:24:09.779471Z",
     "iopub.status.busy": "2024-11-14T17:24:09.779327Z",
     "iopub.status.idle": "2024-11-14T17:24:09.879104Z",
     "shell.execute_reply": "2024-11-14T17:24:09.877747Z",
     "shell.execute_reply.started": "2024-11-14T17:24:09.779453Z"
    }
   },
   "outputs": [],
   "source": [
    "# DO NOT Use all available cores NJOBS = -1 \n",
    "NJOBS = 40"
   ]
  },
  {
   "cell_type": "code",
   "execution_count": 8,
   "metadata": {
    "execution": {
     "iopub.execute_input": "2024-11-14T17:24:09.881831Z",
     "iopub.status.busy": "2024-11-14T17:24:09.881233Z",
     "iopub.status.idle": "2024-11-14T17:24:12.346587Z",
     "shell.execute_reply": "2024-11-14T17:24:12.345918Z",
     "shell.execute_reply.started": "2024-11-14T17:24:09.881771Z"
    },
    "tags": []
   },
   "outputs": [
    {
     "name": "stdout",
     "output_type": "stream",
     "text": [
      "CPU times: user 1min 15s, sys: 1.18 s, total: 1min 16s\n",
      "Wall time: 2.18 s\n"
     ]
    }
   ],
   "source": [
    "import xgboost as xgb\n",
    "\n",
    "# Define the XGBoost classifier with multi-core support\n",
    "gbt = xgb.XGBClassifier(\n",
    "    n_estimators=100,      # Number of trees (can be adjusted)\n",
    "    max_depth=6,           # Maximum depth of each tree (can be tuned)\n",
    "    learning_rate=0.1,     # Learning rate (can be tuned)\n",
    "    n_jobs=NJOBS,             # DO NOT Use all available cores\n",
    "    verbosity=1            # Set verbosity level to monitor training progress\n",
    ")\n",
    "\n",
    "# Train the model\n",
    "%time gbt.fit(x_train, y_train)\n",
    "\n",
    "# Make predictions on the test set\n",
    "y_pred = gbt.predict(x_test)"
   ]
  },
  {
   "cell_type": "code",
   "execution_count": 9,
   "metadata": {
    "execution": {
     "iopub.execute_input": "2024-11-14T17:24:12.348015Z",
     "iopub.status.busy": "2024-11-14T17:24:12.347722Z",
     "iopub.status.idle": "2024-11-14T17:24:12.721564Z",
     "shell.execute_reply": "2024-11-14T17:24:12.719982Z",
     "shell.execute_reply.started": "2024-11-14T17:24:12.347978Z"
    },
    "tags": []
   },
   "outputs": [
    {
     "name": "stdout",
     "output_type": "stream",
     "text": [
      "Accuracy: 0.7323\n",
      "Precision: 0.7435\n",
      "Recall: 0.7530\n",
      "F1-Score: 0.7482\n"
     ]
    }
   ],
   "source": [
    "# Evaluate the model\n",
    "from sklearn.metrics import accuracy_score, precision_score, recall_score, f1_score\n",
    "\n",
    "accuracy = accuracy_score(y_test, y_pred)\n",
    "precision = precision_score(y_test, y_pred, average='binary')  # For binary classification\n",
    "recall = recall_score(y_test, y_pred, average='binary')\n",
    "f1 = f1_score(y_test, y_pred, average='binary')\n",
    "\n",
    "print(f\"Accuracy: {accuracy:.4f}\")\n",
    "print(f\"Precision: {precision:.4f}\")\n",
    "print(f\"Recall: {recall:.4f}\")\n",
    "print(f\"F1-Score: {f1:.4f}\")"
   ]
  },
  {
   "cell_type": "code",
   "execution_count": 10,
   "metadata": {
    "execution": {
     "iopub.execute_input": "2024-11-14T17:24:12.724339Z",
     "iopub.status.busy": "2024-11-14T17:24:12.723736Z",
     "iopub.status.idle": "2024-11-14T17:24:13.234132Z",
     "shell.execute_reply": "2024-11-14T17:24:13.233476Z",
     "shell.execute_reply.started": "2024-11-14T17:24:12.724276Z"
    },
    "tags": []
   },
   "outputs": [
    {
     "data": {
      "image/png": "[encoded data removed]",
      "text/plain": [
       "<Figure size 432x288 with 1 Axes>"
      ]
     },
     "metadata": {
      "needs_background": "light"
     },
     "output_type": "display_data"
    }
   ],
   "source": [
    "# Get predicted probabilities for the positive class\n",
    "y_scores = gbt.predict_proba(x_test)[:, 1]\n",
    "\n",
    "#make ROC curve\n",
    "drawROC2(y_test, y_scores)"
   ]
  },
  {
   "cell_type": "code",
   "execution_count": 11,
   "metadata": {
    "execution": {
     "iopub.execute_input": "2024-11-14T17:24:13.235306Z",
     "iopub.status.busy": "2024-11-14T17:24:13.235146Z",
     "iopub.status.idle": "2024-11-14T17:24:14.564200Z",
     "shell.execute_reply": "2024-11-14T17:24:14.562447Z",
     "shell.execute_reply.started": "2024-11-14T17:24:13.235286Z"
    },
    "tags": []
   },
   "outputs": [
    {
     "data": {
      "image/png": "[encoded data removed]",
      "text/plain": [
       "<Figure size 432x288 with 1 Axes>"
      ]
     },
     "metadata": {
      "needs_background": "light"
     },
     "output_type": "display_data"
    }
   ],
   "source": [
    "#plot signal vs background with prediction\n",
    "variable = 'm_bb'\n",
    "plotSignalvsBgWithPrediction2(x_test.loc[:, variable], y_test, y_pred)"
   ]
  },
  {
   "cell_type": "code",
   "execution_count": 12,
   "metadata": {
    "execution": {
     "iopub.execute_input": "2024-11-14T17:24:14.567136Z",
     "iopub.status.busy": "2024-11-14T17:24:14.566489Z",
     "iopub.status.idle": "2024-11-14T17:24:14.859403Z",
     "shell.execute_reply": "2024-11-14T17:24:14.858818Z",
     "shell.execute_reply.started": "2024-11-14T17:24:14.567071Z"
    },
    "tags": []
   },
   "outputs": [
    {
     "name": "stdout",
     "output_type": "stream",
     "text": [
      "Feature Importance Ranking:\n",
      "                     Feature  Importance\n",
      "25                      m_bb    0.188022\n",
      "26                     m_wbb    0.105003\n",
      "27                    m_wwbb    0.101270\n",
      "22                     m_jjj    0.085598\n",
      "24                     m_jlv    0.080430\n",
      "5                    jet1_pt    0.070138\n",
      "3   missing_energy_magnitude    0.042783\n",
      "8                 jet1_b-tag    0.042680\n",
      "21                      m_jj    0.040106\n",
      "0                  lepton_pT    0.033576\n",
      "9                    jet2_pt    0.032845\n",
      "16                jet3_b-tag    0.026152\n",
      "23                      m_lv    0.023033\n",
      "13                   jet3_pt    0.020136\n",
      "20                jet4_b-tag    0.019972\n",
      "17                   jet4_pt    0.016429\n",
      "12                jet2_b-tag    0.016328\n",
      "1                 lepton_eta    0.010333\n",
      "6                   jet1_eta    0.010260\n",
      "14                  jet3_eta    0.007452\n",
      "18                   je4_eta    0.006838\n",
      "10                  jet2_eta    0.006711\n",
      "4         missing_energy_phi    0.002443\n",
      "2                 lepton_phi    0.002380\n",
      "15                  jet3_phi    0.002373\n",
      "7                   jet1_phi    0.002338\n",
      "19                  jet4_phi    0.002270\n",
      "11                  jet2_phi    0.002100\n"
     ]
    },
    {
     "data": {
      "text/plain": [
       "<Figure size 720x432 with 0 Axes>"
      ]
     },
     "metadata": {},
     "output_type": "display_data"
    },
    {
     "data": {
      "image/png": "[encoded data removed]",
      "text/plain": [
       "<Figure size 432x288 with 1 Axes>"
      ]
     },
     "metadata": {
      "needs_background": "light"
     },
     "output_type": "display_data"
    }
   ],
   "source": [
    "#draw feature importance\n",
    "drawFeaturesXgb(x, gbt)"
   ]
  },
  {
   "cell_type": "markdown",
   "metadata": {},
   "source": [
    "# Hyperparameter scan"
   ]
  },
  {
   "cell_type": "code",
   "execution_count": 13,
   "metadata": {
    "execution": {
     "iopub.execute_input": "2024-11-14T17:24:14.860542Z",
     "iopub.status.busy": "2024-11-14T17:24:14.860388Z",
     "iopub.status.idle": "2024-11-14T17:24:14.889466Z",
     "shell.execute_reply": "2024-11-14T17:24:14.888930Z",
     "shell.execute_reply.started": "2024-11-14T17:24:14.860523Z"
    },
    "tags": []
   },
   "outputs": [
    {
     "name": "stdout",
     "output_type": "stream",
     "text": [
      "objective: binary:logistic\n",
      "base_score: None\n",
      "booster: None\n",
      "callbacks: None\n",
      "colsample_bylevel: None\n",
      "colsample_bynode: None\n",
      "colsample_bytree: None\n",
      "device: None\n",
      "early_stopping_rounds: None\n",
      "enable_categorical: False\n",
      "eval_metric: None\n",
      "feature_types: None\n",
      "gamma: None\n",
      "grow_policy: None\n",
      "importance_type: None\n",
      "interaction_constraints: None\n",
      "learning_rate: 0.1\n",
      "max_bin: None\n",
      "max_cat_threshold: None\n",
      "max_cat_to_onehot: None\n",
      "max_delta_step: None\n",
      "max_depth: 6\n",
      "max_leaves: None\n",
      "min_child_weight: None\n",
      "missing: nan\n",
      "monotone_constraints: None\n",
      "multi_strategy: None\n",
      "n_estimators: 100\n",
      "n_jobs: 40\n",
      "num_parallel_tree: None\n",
      "random_state: None\n",
      "reg_alpha: None\n",
      "reg_lambda: None\n",
      "sampling_method: None\n",
      "scale_pos_weight: None\n",
      "subsample: None\n",
      "tree_method: None\n",
      "validate_parameters: None\n",
      "verbosity: 1\n"
     ]
    }
   ],
   "source": [
    "# Get the default hyperparameters\n",
    "default_params = gbt.get_params()\n",
    "\n",
    "# Print the default hyperparameters\n",
    "for param, value in default_params.items():\n",
    "    print(f\"{param}: {value}\")"
   ]
  },
  {
   "cell_type": "markdown",
   "metadata": {},
   "source": [
    "## Exercise 1\n",
    "\n",
    "- do hyperparameter optimisation using Randomized Grid search\n",
    "- select a reasonable number and range of hyperparameters\n",
    "- DO NOT USE all possible cores (check sklearn doc)\n",
    "- while the code runs, check with top that there are indeed several python processes running\n",
    "- check metrics (accuracy, ROC curve, signal vs background, feature ranking)"
   ]
  },
  {
   "cell_type": "markdown",
   "metadata": {
    "execution": {
     "iopub.execute_input": "2024-11-14T17:20:36.887847Z",
     "iopub.status.busy": "2024-11-14T17:20:36.887388Z",
     "iopub.status.idle": "2024-11-14T17:20:36.944248Z",
     "shell.execute_reply": "2024-11-14T17:20:36.942526Z",
     "shell.execute_reply.started": "2024-11-14T17:20:36.887813Z"
    }
   },
   "source": [
    "## Exercise 2\n",
    "\n",
    "- Run the best model on full dataset"
   ]
  }
 ],
 "metadata": {
  "kernelspec": {
   "display_name": "PySpark",
   "language": "python",
   "name": "pyspark"
  },
  "language_info": {
   "codemirror_mode": {
    "name": "ipython",
    "version": 3
   },
   "file_extension": ".py",
   "mimetype": "text/x-python",
   "name": "python",
   "nbconvert_exporter": "python",
   "pygments_lexer": "ipython3",
   "version": "3.9.7"
  },
  "sparkconnect": {
   "bundled_options": [],
   "list_of_options": []
  }
 },
 "nbformat": 4,
 "nbformat_minor": 4
}
