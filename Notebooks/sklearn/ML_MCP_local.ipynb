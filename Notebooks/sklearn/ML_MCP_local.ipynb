{
 "cells": [
  {
   "cell_type": "markdown",
   "metadata": {},
   "source": [
    "# Hands-on Day 3\n",
    "\n",
    "## You'll learn\n",
    "\n",
    "### ML methods\n",
    "\n",
    "- Multilayer Perceptron Classifier (MCP) with sklearn\n",
    "\n",
    "### ML techniques\n",
    "- hyperparameter optimisation\n",
    "- ROC curves"
   ]
  },
  {
   "cell_type": "markdown",
   "metadata": {
    "tags": []
   },
   "source": [
    "# Initial setup \n",
    "\n",
    "- read in parquet file\n",
    "- create x,y vectors from panda dataframe"
   ]
  },
  {
   "cell_type": "code",
   "execution_count": 1,
   "metadata": {
    "execution": {
     "iopub.execute_input": "2024-11-15T15:24:34.775393Z",
     "iopub.status.busy": "2024-11-15T15:24:34.774434Z",
     "iopub.status.idle": "2024-11-15T15:24:34.817777Z",
     "shell.execute_reply": "2024-11-15T15:24:34.817056Z",
     "shell.execute_reply.started": "2024-11-15T15:24:34.775193Z"
    },
    "tags": []
   },
   "outputs": [],
   "source": [
    "%reload_ext custom_magics\n",
    "%load_ext autoreload\n",
    "%autoreload 2"
   ]
  },
  {
   "cell_type": "code",
   "execution_count": 2,
   "metadata": {
    "execution": {
     "iopub.execute_input": "2024-11-15T15:24:34.819972Z",
     "iopub.status.busy": "2024-11-15T15:24:34.819735Z",
     "iopub.status.idle": "2024-11-15T15:24:36.018849Z",
     "shell.execute_reply": "2024-11-15T15:24:36.018236Z",
     "shell.execute_reply.started": "2024-11-15T15:24:34.819934Z"
    },
    "tags": []
   },
   "outputs": [],
   "source": [
    "import pandas as pd\n",
    "import numpy as np\n",
    "import matplotlib.pyplot as plt\n",
    "%matplotlib inline\n",
    "\n",
    "# Check out these custom functions\n",
    "from custom_functions import *"
   ]
  },
  {
   "cell_type": "code",
   "execution_count": 3,
   "metadata": {
    "execution": {
     "iopub.execute_input": "2024-11-15T15:24:36.020075Z",
     "iopub.status.busy": "2024-11-15T15:24:36.019869Z",
     "iopub.status.idle": "2024-11-15T15:24:36.415928Z",
     "shell.execute_reply": "2024-11-15T15:24:36.415351Z",
     "shell.execute_reply.started": "2024-11-15T15:24:36.020051Z"
    },
    "tags": []
   },
   "outputs": [
    {
     "name": "stdout",
     "output_type": "stream",
     "text": [
      "CPU times: user 935 ms, sys: 1.3 s, total: 2.23 s\n",
      "Wall time: 374 ms\n"
     ]
    }
   ],
   "source": [
    "#inputFile = 'file:///home/jovyan/Higgs100k.parquet'\n",
    "inputFile = 'file:///home/jovyan/Higgs1M.parquet'\n",
    "#inputFile = 'file:///home/jovyan/Higgs10M.parquet'\n",
    "\n",
    "# read in input parquet file\n",
    "%time df = pd.read_parquet(inputFile)"
   ]
  },
  {
   "cell_type": "code",
   "execution_count": 4,
   "metadata": {
    "execution": {
     "iopub.execute_input": "2024-11-15T15:24:36.417162Z",
     "iopub.status.busy": "2024-11-15T15:24:36.416877Z",
     "iopub.status.idle": "2024-11-15T15:24:36.441099Z",
     "shell.execute_reply": "2024-11-15T15:24:36.440481Z",
     "shell.execute_reply.started": "2024-11-15T15:24:36.417136Z"
    },
    "tags": []
   },
   "outputs": [
    {
     "data": {
      "text/plain": [
       "999999"
      ]
     },
     "execution_count": 4,
     "metadata": {},
     "output_type": "execute_result"
    }
   ],
   "source": [
    "# The first column is the target variable\n",
    "y = df.iloc[:, 0] #df with label\n",
    "x = df.iloc[: , 1:] #df with all other variables\n",
    "\n",
    "len(x)"
   ]
  },
  {
   "cell_type": "code",
   "execution_count": 5,
   "metadata": {
    "execution": {
     "iopub.execute_input": "2024-11-15T15:24:36.442850Z",
     "iopub.status.busy": "2024-11-15T15:24:36.442558Z",
     "iopub.status.idle": "2024-11-15T15:24:37.465638Z",
     "shell.execute_reply": "2024-11-15T15:24:37.463446Z",
     "shell.execute_reply.started": "2024-11-15T15:24:36.442828Z"
    },
    "tags": []
   },
   "outputs": [],
   "source": [
    "from sklearn.model_selection import train_test_split\n",
    "\n",
    "# Split the data into training and test sets (80% training, 20% testing)\n",
    "x_train, x_test, y_train, y_test = train_test_split(x, y, test_size=0.2, random_state=42)"
   ]
  },
  {
   "cell_type": "code",
   "execution_count": 6,
   "metadata": {
    "execution": {
     "iopub.execute_input": "2024-11-15T15:24:37.469612Z",
     "iopub.status.busy": "2024-11-15T15:24:37.468842Z",
     "iopub.status.idle": "2024-11-15T15:24:37.508290Z",
     "shell.execute_reply": "2024-11-15T15:24:37.507592Z",
     "shell.execute_reply.started": "2024-11-15T15:24:37.469555Z"
    },
    "tags": []
   },
   "outputs": [
    {
     "name": "stdout",
     "output_type": "stream",
     "text": [
      "999999\n",
      "999999\n"
     ]
    }
   ],
   "source": [
    "#sanity check\n",
    "\n",
    "print(len(x_train)+len(x_test))\n",
    "print(len(y_train)+len(y_test))"
   ]
  },
  {
   "cell_type": "markdown",
   "metadata": {},
   "source": [
    "# ML model"
   ]
  },
  {
   "cell_type": "markdown",
   "metadata": {},
   "source": [
    "## Exercise 1\n",
    "\n",
    "- Implement a shallow NN (MultiLayerPerceptronClassifier) with sklearn\n",
    "- implement a network with: \n",
    "  - one input layer of size 28 (our features), \n",
    "  - two intermediate layers of size 30,\n",
    "  - one output of size 2 (the label classes)\n",
    "- plot the various metrics (ROC, signal vs background)\n",
    "- bonus: do hyperparameter optimisation"
   ]
  },
  {
   "cell_type": "code",
   "execution_count": 7,
   "metadata": {
    "execution": {
     "iopub.execute_input": "2024-11-15T15:24:37.509453Z",
     "iopub.status.busy": "2024-11-15T15:24:37.509285Z",
     "iopub.status.idle": "2024-11-15T15:46:23.760551Z",
     "shell.execute_reply": "2024-11-15T15:46:23.758434Z",
     "shell.execute_reply.started": "2024-11-15T15:24:37.509430Z"
    },
    "tags": []
   },
   "outputs": [
    {
     "name": "stdout",
     "output_type": "stream",
     "text": [
      "CPU times: user 21min 40s, sys: 2.72 s, total: 21min 42s\n",
      "Wall time: 21min 45s\n"
     ]
    }
   ],
   "source": [
    "from sklearn.neural_network import MLPClassifier\n",
    "\n",
    "# Initialize the MLP classifier with two hidden layers of 30 neurons each\n",
    "# takes 3 minutes on 100k evts, 30 minutes on 1M evts\n",
    "mlp = MLPClassifier(hidden_layer_sizes=(30, 30), max_iter=1000, random_state=42)\n",
    "\n",
    "# Train the model\n",
    "%time mlp.fit(x_train, y_train)\n",
    "\n",
    "# Make predictions on the test set\n",
    "y_pred = mlp.predict(x_test)"
   ]
  },
  {
   "cell_type": "code",
   "execution_count": 8,
   "metadata": {
    "execution": {
     "iopub.execute_input": "2024-11-15T15:46:23.765505Z",
     "iopub.status.busy": "2024-11-15T15:46:23.764619Z",
     "iopub.status.idle": "2024-11-15T15:46:24.221353Z",
     "shell.execute_reply": "2024-11-15T15:46:24.220729Z",
     "shell.execute_reply.started": "2024-11-15T15:46:23.765407Z"
    },
    "tags": []
   },
   "outputs": [
    {
     "name": "stdout",
     "output_type": "stream",
     "text": [
      "Accuracy: 0.7433\n",
      "Precision: 0.7506\n",
      "Recall: 0.7699\n",
      "F1-Score: 0.7601\n"
     ]
    }
   ],
   "source": [
    "# Evaluate the model\n",
    "from sklearn.metrics import accuracy_score, precision_score, recall_score, f1_score\n",
    "\n",
    "accuracy = accuracy_score(y_test, y_pred)\n",
    "precision = precision_score(y_test, y_pred, average='binary')  # For binary classification\n",
    "recall = recall_score(y_test, y_pred, average='binary')\n",
    "f1 = f1_score(y_test, y_pred, average='binary')\n",
    "\n",
    "print(f\"Accuracy: {accuracy:.4f}\")\n",
    "print(f\"Precision: {precision:.4f}\")\n",
    "print(f\"Recall: {recall:.4f}\")\n",
    "print(f\"F1-Score: {f1:.4f}\")"
   ]
  },
  {
   "cell_type": "code",
   "execution_count": 9,
   "metadata": {
    "execution": {
     "iopub.execute_input": "2024-11-15T15:46:24.222698Z",
     "iopub.status.busy": "2024-11-15T15:46:24.222442Z",
     "iopub.status.idle": "2024-11-15T15:46:25.140359Z",
     "shell.execute_reply": "2024-11-15T15:46:25.139675Z",
     "shell.execute_reply.started": "2024-11-15T15:46:24.222657Z"
    },
    "tags": []
   },
   "outputs": [
    {
     "data": {
      "image/png": "[encoded data removed]",
      "text/plain": [
       "<Figure size 432x288 with 1 Axes>"
      ]
     },
     "metadata": {
      "needs_background": "light"
     },
     "output_type": "display_data"
    }
   ],
   "source": [
    "# Get predicted probabilities for the positive class\n",
    "y_scores = mlp.predict_proba(x_test)[:, 1]\n",
    "\n",
    "#make ROC curve\n",
    "drawROC2(y_test, y_scores)"
   ]
  },
  {
   "cell_type": "code",
   "execution_count": 10,
   "metadata": {
    "execution": {
     "iopub.execute_input": "2024-11-15T15:46:25.141509Z",
     "iopub.status.busy": "2024-11-15T15:46:25.141352Z",
     "iopub.status.idle": "2024-11-15T15:46:26.246800Z",
     "shell.execute_reply": "2024-11-15T15:46:26.245299Z",
     "shell.execute_reply.started": "2024-11-15T15:46:25.141491Z"
    },
    "tags": []
   },
   "outputs": [
    {
     "data": {
      "image/png": "[encoded data removed]",
      "text/plain": [
       "<Figure size 432x288 with 1 Axes>"
      ]
     },
     "metadata": {
      "needs_background": "light"
     },
     "output_type": "display_data"
    }
   ],
   "source": [
    "#plot signal vs background with prediction\n",
    "variable = 'm_bb'\n",
    "plotSignalvsBgWithPrediction2(x_test.loc[:, variable], y_test, y_pred)"
   ]
  },
  {
   "cell_type": "markdown",
   "metadata": {},
   "source": [
    "# Hyperparameter scan"
   ]
  },
  {
   "cell_type": "code",
   "execution_count": 11,
   "metadata": {
    "execution": {
     "iopub.execute_input": "2024-11-15T15:46:26.249567Z",
     "iopub.status.busy": "2024-11-15T15:46:26.248931Z",
     "iopub.status.idle": "2024-11-15T15:46:26.443327Z",
     "shell.execute_reply": "2024-11-15T15:46:26.442200Z",
     "shell.execute_reply.started": "2024-11-15T15:46:26.249510Z"
    }
   },
   "outputs": [
    {
     "name": "stdout",
     "output_type": "stream",
     "text": [
      "CPU times: user 233 ms, sys: 178 ms, total: 411 ms\n",
      "Wall time: 76.6 ms\n"
     ]
    },
    {
     "data": {
      "text/plain": [
       "99999"
      ]
     },
     "execution_count": 11,
     "metadata": {},
     "output_type": "execute_result"
    }
   ],
   "source": [
    "# read in input parquet file\n",
    "inputFile = 'file:///home/jovyan/Higgs100k.parquet'\n",
    "\n",
    "%time df = pd.read_parquet(inputFile)\n",
    "\n",
    "#create train/test set\n",
    "y = df.iloc[:, 0] #df with label\n",
    "x = df.iloc[: , 1:] #df with all other variables\n",
    "\n",
    "x_train, x_test, y_train, y_test = train_test_split(x, y, test_size=0.2, random_state=42)\n",
    "len(y)"
   ]
  },
  {
   "cell_type": "code",
   "execution_count": 12,
   "metadata": {
    "execution": {
     "iopub.execute_input": "2024-11-15T15:46:26.444822Z",
     "iopub.status.busy": "2024-11-15T15:46:26.444589Z",
     "iopub.status.idle": "2024-11-15T15:46:26.477379Z",
     "shell.execute_reply": "2024-11-15T15:46:26.475894Z",
     "shell.execute_reply.started": "2024-11-15T15:46:26.444796Z"
    },
    "tags": []
   },
   "outputs": [
    {
     "name": "stdout",
     "output_type": "stream",
     "text": [
      "activation: relu\n",
      "alpha: 0.0001\n",
      "batch_size: auto\n",
      "beta_1: 0.9\n",
      "beta_2: 0.999\n",
      "early_stopping: False\n",
      "epsilon: 1e-08\n",
      "hidden_layer_sizes: (30, 30)\n",
      "learning_rate: constant\n",
      "learning_rate_init: 0.001\n",
      "max_fun: 15000\n",
      "max_iter: 1000\n",
      "momentum: 0.9\n",
      "n_iter_no_change: 10\n",
      "nesterovs_momentum: True\n",
      "power_t: 0.5\n",
      "random_state: 42\n",
      "shuffle: True\n",
      "solver: adam\n",
      "tol: 0.0001\n",
      "validation_fraction: 0.1\n",
      "verbose: False\n",
      "warm_start: False\n"
     ]
    }
   ],
   "source": [
    "# Get the default hyperparameters\n",
    "default_params = mlp.get_params()\n",
    "\n",
    "# Print the default hyperparameters\n",
    "for param, value in default_params.items():\n",
    "    print(f\"{param}: {value}\")"
   ]
  },
  {
   "cell_type": "markdown",
   "metadata": {},
   "source": [
    "## Exercise 2\n",
    "\n",
    "- do hyperparameter optimisation on 100k evts using Randomized Grid search\n",
    "- select a reasonable number and range of hyperparameters\n",
    "- do NOT USE all possible cores (check sklearn doc)\n",
    "- while the code runs, check with top that there are indeed several python processes running\n",
    "- check metrics (accuracy, ROC curve, signal vs background, feature ranking)"
   ]
  },
  {
   "cell_type": "code",
   "execution_count": 13,
   "metadata": {
    "execution": {
     "iopub.execute_input": "2024-11-15T15:46:26.480033Z",
     "iopub.status.busy": "2024-11-15T15:46:26.479533Z",
     "iopub.status.idle": "2024-11-15T16:20:52.773869Z",
     "shell.execute_reply": "2024-11-15T16:20:52.771928Z",
     "shell.execute_reply.started": "2024-11-15T15:46:26.479953Z"
    },
    "tags": []
   },
   "outputs": [
    {
     "name": "stdout",
     "output_type": "stream",
     "text": [
      "CPU times: user 122 µs, sys: 0 ns, total: 122 µs\n",
      "Wall time: 143 µs\n",
      "Best Hyperparameters: {'activation': 'relu', 'alpha': 0.003954165025399161, 'hidden_layer_sizes': (50, 50), 'learning_rate_init': 0.01076721140063839}\n",
      "Best Cross-Validation Score: 0.7092\n"
     ]
    }
   ],
   "source": [
    "NJOBS = 5\n",
    "\n",
    "from sklearn.model_selection import RandomizedSearchCV\n",
    "from scipy.stats import uniform\n",
    "\n",
    "# Define the parameter distribution for RandomizedSearchCV\n",
    "param_dist = {\n",
    "    'hidden_layer_sizes': [(30, 30), (50, 50), (100,)],\n",
    "    'learning_rate_init': uniform(0.001, 0.1),  # Samples values between 0.001 and 0.101\n",
    "    'alpha': uniform(0.0001, 0.01),\n",
    "    'activation': ['tanh', 'relu'],\n",
    "}\n",
    "\n",
    "# Randomized search with 20 random combinations\n",
    "%time random_search = RandomizedSearchCV(estimator=mlp, param_distributions=param_dist, n_iter=20, cv=5, scoring='accuracy', n_jobs=NJOBS, random_state=42)\n",
    "\n",
    "# Fit the random search\n",
    "random_search.fit(x_train, y_train)\n",
    "\n",
    "print(\"Best Hyperparameters:\", random_search.best_params_)\n",
    "print(\"Best Cross-Validation Score: {:.4f}\".format(random_search.best_score_))"
   ]
  },
  {
   "cell_type": "code",
   "execution_count": 14,
   "metadata": {
    "execution": {
     "iopub.execute_input": "2024-11-15T16:20:52.783236Z",
     "iopub.status.busy": "2024-11-15T16:20:52.782205Z",
     "iopub.status.idle": "2024-11-15T16:20:53.074380Z",
     "shell.execute_reply": "2024-11-15T16:20:53.073116Z",
     "shell.execute_reply.started": "2024-11-15T16:20:52.783160Z"
    },
    "tags": []
   },
   "outputs": [
    {
     "name": "stdout",
     "output_type": "stream",
     "text": [
      "Test Set Accuracy: 0.7147\n"
     ]
    }
   ],
   "source": [
    "# Evaluate the best model on the test set\n",
    "best_model = random_search.best_estimator_\n",
    "y_pred = best_model.predict(x_test)\n",
    "test_accuracy = accuracy_score(y_test, y_pred)\n",
    "print(\"Test Set Accuracy: {:.4f}\".format(test_accuracy))"
   ]
  },
  {
   "cell_type": "code",
   "execution_count": 15,
   "metadata": {
    "execution": {
     "iopub.execute_input": "2024-11-15T16:20:53.078731Z",
     "iopub.status.busy": "2024-11-15T16:20:53.076447Z",
     "iopub.status.idle": "2024-11-15T16:20:53.209749Z",
     "shell.execute_reply": "2024-11-15T16:20:53.209088Z",
     "shell.execute_reply.started": "2024-11-15T16:20:53.078671Z"
    },
    "tags": []
   },
   "outputs": [
    {
     "name": "stdout",
     "output_type": "stream",
     "text": [
      "Accuracy: 0.7147\n",
      "Precision: 0.7076\n",
      "Recall: 0.7902\n",
      "F1-Score: 0.7466\n"
     ]
    }
   ],
   "source": [
    "accuracy = accuracy_score(y_test, y_pred)\n",
    "precision = precision_score(y_test, y_pred, average='binary')  # For binary classification\n",
    "recall = recall_score(y_test, y_pred, average='binary')\n",
    "f1 = f1_score(y_test, y_pred, average='binary')\n",
    "\n",
    "print(f\"Accuracy: {accuracy:.4f}\")\n",
    "print(f\"Precision: {precision:.4f}\")\n",
    "print(f\"Recall: {recall:.4f}\")\n",
    "print(f\"F1-Score: {f1:.4f}\")"
   ]
  },
  {
   "cell_type": "code",
   "execution_count": 16,
   "metadata": {
    "execution": {
     "iopub.execute_input": "2024-11-15T16:20:53.211127Z",
     "iopub.status.busy": "2024-11-15T16:20:53.210940Z",
     "iopub.status.idle": "2024-11-15T16:20:53.613726Z",
     "shell.execute_reply": "2024-11-15T16:20:53.612999Z",
     "shell.execute_reply.started": "2024-11-15T16:20:53.211105Z"
    },
    "tags": []
   },
   "outputs": [
    {
     "data": {
      "image/png": "[encoded data removed]",
      "text/plain": [
       "<Figure size 432x288 with 1 Axes>"
      ]
     },
     "metadata": {
      "needs_background": "light"
     },
     "output_type": "display_data"
    }
   ],
   "source": [
    "# Get predicted probabilities for the positive class\n",
    "y_scores = best_model.predict_proba(x_test)[:, 1]\n",
    "\n",
    "#make ROC curve\n",
    "drawROC2(y_test, y_scores)"
   ]
  },
  {
   "cell_type": "code",
   "execution_count": 17,
   "metadata": {
    "execution": {
     "iopub.execute_input": "2024-11-15T16:20:53.615111Z",
     "iopub.status.busy": "2024-11-15T16:20:53.614931Z",
     "iopub.status.idle": "2024-11-15T16:20:54.740204Z",
     "shell.execute_reply": "2024-11-15T16:20:54.738638Z",
     "shell.execute_reply.started": "2024-11-15T16:20:53.615089Z"
    },
    "tags": []
   },
   "outputs": [
    {
     "data": {
      "image/png": "[encoded data removed]",
      "text/plain": [
       "<Figure size 432x288 with 1 Axes>"
      ]
     },
     "metadata": {
      "needs_background": "light"
     },
     "output_type": "display_data"
    }
   ],
   "source": [
    "#plot signal vs background with prediction\n",
    "variable = 'm_bb'\n",
    "plotSignalvsBgWithPrediction2(x_test.loc[:, variable], y_test, y_pred)"
   ]
  },
  {
   "cell_type": "markdown",
   "metadata": {},
   "source": [
    "# Now train the best model"
   ]
  },
  {
   "cell_type": "code",
   "execution_count": 18,
   "metadata": {
    "execution": {
     "iopub.execute_input": "2024-11-15T16:45:26.722573Z",
     "iopub.status.busy": "2024-11-15T16:45:26.721948Z",
     "iopub.status.idle": "2024-11-15T16:45:34.764147Z",
     "shell.execute_reply": "2024-11-15T16:45:34.763439Z",
     "shell.execute_reply.started": "2024-11-15T16:45:26.722505Z"
    },
    "tags": []
   },
   "outputs": [
    {
     "name": "stdout",
     "output_type": "stream",
     "text": [
      "CPU times: user 6.9 s, sys: 12.4 s, total: 19.3 s\n",
      "Wall time: 801 ms\n"
     ]
    },
    {
     "data": {
      "text/plain": [
       "10000000"
      ]
     },
     "execution_count": 18,
     "metadata": {},
     "output_type": "execute_result"
    }
   ],
   "source": [
    "# read in input parquet file\n",
    "inputFile = 'file:///home/jovyan/Higgs10M.parquet'\n",
    "\n",
    "%time df = pd.read_parquet(inputFile)\n",
    "\n",
    "#create train/test set\n",
    "y = df.iloc[:, 0] #df with label\n",
    "x = df.iloc[: , 1:] #df with all other variables\n",
    "\n",
    "x_train, x_test, y_train, y_test = train_test_split(x, y, test_size=0.2, random_state=42)\n",
    "len(y)"
   ]
  },
  {
   "cell_type": "code",
   "execution_count": null,
   "metadata": {
    "execution": {
     "iopub.execute_input": "2024-11-15T16:45:43.185034Z",
     "iopub.status.busy": "2024-11-15T16:45:43.184190Z"
    }
   },
   "outputs": [],
   "source": [
    "# Initialize the MLP classifier with two hidden layers of 30 neurons each\n",
    "# takes 3 minutes on 100k evts, 30 minutes on 1M evts\n",
    "best_mlp = MLPClassifier(hidden_layer_sizes=(50, 50), max_iter=1000, random_state=42)\n",
    "\n",
    "# Train the model\n",
    "%time best_mlp.fit(x_train, y_train)\n",
    "\n",
    "# Make predictions on the test set\n",
    "y_pred = best_mlp.predict(x_test)"
   ]
  },
  {
   "cell_type": "code",
   "execution_count": null,
   "metadata": {
    "tags": []
   },
   "outputs": [],
   "source": [
    "accuracy = accuracy_score(y_test, y_pred)\n",
    "precision = precision_score(y_test, y_pred, average='binary')  # For binary classification\n",
    "recall = recall_score(y_test, y_pred, average='binary')\n",
    "f1 = f1_score(y_test, y_pred, average='binary')\n",
    "\n",
    "print(f\"Accuracy: {accuracy:.4f}\")\n",
    "print(f\"Precision: {precision:.4f}\")\n",
    "print(f\"Recall: {recall:.4f}\")\n",
    "print(f\"F1-Score: {f1:.4f}\")"
   ]
  },
  {
   "cell_type": "code",
   "execution_count": null,
   "metadata": {
    "tags": []
   },
   "outputs": [],
   "source": [
    "# Get predicted probabilities for the positive class\n",
    "y_scores = best_mlp.predict_proba(x_test)[:, 1]\n",
    "\n",
    "#make ROC curve\n",
    "drawROC2(y_test, y_scores)"
   ]
  },
  {
   "cell_type": "code",
   "execution_count": null,
   "metadata": {
    "tags": []
   },
   "outputs": [],
   "source": [
    "#plot signal vs background with prediction\n",
    "variable = 'm_bb'\n",
    "plotSignalvsBgWithPrediction2(x_test.loc[:, variable], y_test, y_pred)"
   ]
  }
 ],
 "metadata": {
  "kernelspec": {
   "display_name": "Python 3 (ipykernel)",
   "language": "python",
   "name": "python3"
  },
  "language_info": {
   "codemirror_mode": {
    "name": "ipython",
    "version": 3
   },
   "file_extension": ".py",
   "mimetype": "text/x-python",
   "name": "python",
   "nbconvert_exporter": "python",
   "pygments_lexer": "ipython3",
   "version": "3.9.7"
  },
  "sparkconnect": {
   "bundled_options": [],
   "list_of_options": []
  }
 },
 "nbformat": 4,
 "nbformat_minor": 4
}
