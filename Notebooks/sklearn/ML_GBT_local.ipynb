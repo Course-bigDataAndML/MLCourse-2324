{
 "cells": [
  {
   "cell_type": "markdown",
   "metadata": {},
   "source": [
    "# Hands-on Day 2\n",
    "\n",
    "## You'll learn\n",
    "\n",
    "### ML methods\n",
    "- Gradient Boosting Trees with sklearn\n",
    "\n",
    "### ML techniques\n",
    "- hyperparameter optimisation\n",
    "- ROC curves"
   ]
  },
  {
   "cell_type": "markdown",
   "metadata": {},
   "source": [
    "# Initial setup \n",
    "\n",
    "- read in parquet file\n",
    "- create x,y vectors from panda dataframe"
   ]
  },
  {
   "cell_type": "code",
   "execution_count": 1,
   "metadata": {
    "execution": {
     "iopub.execute_input": "2024-11-15T19:20:54.604378Z",
     "iopub.status.busy": "2024-11-15T19:20:54.603564Z",
     "iopub.status.idle": "2024-11-15T19:20:54.700048Z",
     "shell.execute_reply": "2024-11-15T19:20:54.693592Z",
     "shell.execute_reply.started": "2024-11-15T19:20:54.604217Z"
    },
    "tags": []
   },
   "outputs": [],
   "source": [
    "%reload_ext custom_magics\n",
    "%load_ext autoreload\n",
    "%autoreload 2"
   ]
  },
  {
   "cell_type": "code",
   "execution_count": 2,
   "metadata": {
    "execution": {
     "iopub.execute_input": "2024-11-15T19:20:54.705654Z",
     "iopub.status.busy": "2024-11-15T19:20:54.705043Z",
     "iopub.status.idle": "2024-11-15T19:20:58.304125Z",
     "shell.execute_reply": "2024-11-15T19:20:58.302812Z",
     "shell.execute_reply.started": "2024-11-15T19:20:54.705600Z"
    },
    "tags": []
   },
   "outputs": [],
   "source": [
    "import pandas as pd\n",
    "import numpy as np\n",
    "import matplotlib.pyplot as plt\n",
    "%matplotlib inline\n",
    "\n",
    "# Check out these custom functions\n",
    "from custom_functions import *"
   ]
  },
  {
   "cell_type": "code",
   "execution_count": 3,
   "metadata": {
    "execution": {
     "iopub.execute_input": "2024-11-15T19:20:58.307299Z",
     "iopub.status.busy": "2024-11-15T19:20:58.306640Z",
     "iopub.status.idle": "2024-11-15T19:20:59.184512Z",
     "shell.execute_reply": "2024-11-15T19:20:59.183163Z",
     "shell.execute_reply.started": "2024-11-15T19:20:58.307243Z"
    },
    "tags": []
   },
   "outputs": [
    {
     "name": "stdout",
     "output_type": "stream",
     "text": [
      "CPU times: user 1.49 s, sys: 1.17 s, total: 2.66 s\n",
      "Wall time: 807 ms\n"
     ]
    }
   ],
   "source": [
    "#inputFile = 'file:///home/jovyan/Higgs100k.parquet'\n",
    "inputFile = 'file:///home/jovyan/Higgs1M.parquet'\n",
    "#inputFile = 'file:///home/jovyan/Higgs10M.parquet'\n",
    "\n",
    "# read in input parquet file\n",
    "%time df = pd.read_parquet(inputFile)"
   ]
  },
  {
   "cell_type": "code",
   "execution_count": 4,
   "metadata": {
    "execution": {
     "iopub.execute_input": "2024-11-15T19:21:04.266676Z",
     "iopub.status.busy": "2024-11-15T19:21:04.265846Z",
     "iopub.status.idle": "2024-11-15T19:21:04.376817Z",
     "shell.execute_reply": "2024-11-15T19:21:04.375395Z",
     "shell.execute_reply.started": "2024-11-15T19:21:04.266601Z"
    },
    "tags": []
   },
   "outputs": [
    {
     "data": {
      "text/plain": [
       "999999"
      ]
     },
     "execution_count": 4,
     "metadata": {},
     "output_type": "execute_result"
    }
   ],
   "source": [
    "# The first column is the target variable\n",
    "y = df.iloc[:, 0] #df with label\n",
    "x = df.iloc[: , 1:] #df with all other variables\n",
    "\n",
    "len(x)"
   ]
  },
  {
   "cell_type": "markdown",
   "metadata": {},
   "source": [
    "# Data preprocessing"
   ]
  },
  {
   "cell_type": "markdown",
   "metadata": {},
   "source": [
    "##  Exercise 1\n",
    "\n",
    "- split x and y into training and test sets (80% training, 20% testing, randomly distributed)\n",
    "- call them *x_train*, *x_test*, *y_train*, *y_test*\n",
    "- you may use the sklearn built-in function"
   ]
  },
  {
   "cell_type": "code",
   "execution_count": 5,
   "metadata": {
    "execution": {
     "iopub.execute_input": "2024-11-15T19:21:06.561310Z",
     "iopub.status.busy": "2024-11-15T19:21:06.560491Z",
     "iopub.status.idle": "2024-11-15T19:21:08.663555Z",
     "shell.execute_reply": "2024-11-15T19:21:08.661992Z",
     "shell.execute_reply.started": "2024-11-15T19:21:06.561238Z"
    },
    "tags": []
   },
   "outputs": [],
   "source": [
    "from sklearn.model_selection import train_test_split\n",
    "\n",
    "# Split the data into training and test sets (80% training, 20% testing)\n",
    "x_train, x_test, y_train, y_test = train_test_split(x, y, test_size=0.2, random_state=42)"
   ]
  },
  {
   "cell_type": "code",
   "execution_count": 6,
   "metadata": {
    "execution": {
     "iopub.execute_input": "2024-11-15T19:21:08.667716Z",
     "iopub.status.busy": "2024-11-15T19:21:08.666693Z",
     "iopub.status.idle": "2024-11-15T19:21:08.791898Z",
     "shell.execute_reply": "2024-11-15T19:21:08.790648Z",
     "shell.execute_reply.started": "2024-11-15T19:21:08.667655Z"
    },
    "tags": []
   },
   "outputs": [
    {
     "name": "stdout",
     "output_type": "stream",
     "text": [
      "999999\n",
      "999999\n"
     ]
    }
   ],
   "source": [
    "#sanity check\n",
    "\n",
    "print(len(x_train)+len(x_test))\n",
    "print(len(y_train)+len(y_test))"
   ]
  },
  {
   "cell_type": "markdown",
   "metadata": {},
   "source": [
    "# ML models: GBT"
   ]
  },
  {
   "cell_type": "code",
   "execution_count": 7,
   "metadata": {
    "execution": {
     "iopub.execute_input": "2024-11-15T19:21:08.795276Z",
     "iopub.status.busy": "2024-11-15T19:21:08.794594Z",
     "iopub.status.idle": "2024-11-15T19:52:01.110708Z",
     "shell.execute_reply": "2024-11-15T19:52:01.109098Z",
     "shell.execute_reply.started": "2024-11-15T19:21:08.795235Z"
    },
    "tags": []
   },
   "outputs": [
    {
     "name": "stdout",
     "output_type": "stream",
     "text": [
      "CPU times: user 30min 14s, sys: 7.1 s, total: 30min 21s\n",
      "Wall time: 30min 50s\n"
     ]
    }
   ],
   "source": [
    "from sklearn.ensemble import GradientBoostingClassifier\n",
    "from sklearn.ensemble import HistGradientBoostingClassifier\n",
    "\n",
    "# Initialize the Gradient Boosting Classifier\n",
    "gbt = GradientBoostingClassifier()  \n",
    "\n",
    "# Train the model with default hyperparameters (takes about 1m on 100k, 12m on 1M)\n",
    "%time gbt.fit(x_train, y_train)\n",
    "\n",
    "# Make predictions on the test set\n",
    "y_pred = gbt.predict(x_test)"
   ]
  },
  {
   "cell_type": "markdown",
   "metadata": {},
   "source": [
    "##  Exercise 2\n",
    "\n",
    "- evaluate the gbt model by printing: accuracy, precision, F1, recall, confusion matrix\n",
    "- you may use the sklearn built-in functions"
   ]
  },
  {
   "cell_type": "code",
   "execution_count": 8,
   "metadata": {
    "execution": {
     "iopub.execute_input": "2024-11-15T19:52:01.117355Z",
     "iopub.status.busy": "2024-11-15T19:52:01.114943Z",
     "iopub.status.idle": "2024-11-15T19:52:02.138881Z",
     "shell.execute_reply": "2024-11-15T19:52:02.137739Z",
     "shell.execute_reply.started": "2024-11-15T19:52:01.117281Z"
    },
    "tags": []
   },
   "outputs": [
    {
     "name": "stdout",
     "output_type": "stream",
     "text": [
      "Accuracy: 0.7141\n",
      "Precision: 0.7234\n",
      "Recall: 0.7428\n",
      "F1-Score: 0.7330\n"
     ]
    }
   ],
   "source": [
    "# Evaluate the model\n",
    "from sklearn.metrics import accuracy_score, precision_score, recall_score, f1_score\n",
    "\n",
    "accuracy = accuracy_score(y_test, y_pred)\n",
    "precision = precision_score(y_test, y_pred, average='binary')  # For binary classification\n",
    "recall = recall_score(y_test, y_pred, average='binary')\n",
    "f1 = f1_score(y_test, y_pred, average='binary')\n",
    "\n",
    "print(f\"Accuracy: {accuracy:.4f}\")\n",
    "print(f\"Precision: {precision:.4f}\")\n",
    "print(f\"Recall: {recall:.4f}\")\n",
    "print(f\"F1-Score: {f1:.4f}\")"
   ]
  },
  {
   "cell_type": "code",
   "execution_count": 9,
   "metadata": {
    "execution": {
     "iopub.execute_input": "2024-11-15T19:52:02.141870Z",
     "iopub.status.busy": "2024-11-15T19:52:02.140728Z",
     "iopub.status.idle": "2024-11-15T19:52:03.715090Z",
     "shell.execute_reply": "2024-11-15T19:52:03.713614Z",
     "shell.execute_reply.started": "2024-11-15T19:52:02.141768Z"
    },
    "tags": []
   },
   "outputs": [
    {
     "name": "stdout",
     "output_type": "stream",
     "text": [
      "Classification Report:\n",
      "              precision    recall  f1-score   support\n",
      "\n",
      "         0.0       0.70      0.68      0.69     94356\n",
      "         1.0       0.72      0.74      0.73    105644\n",
      "\n",
      "    accuracy                           0.71    200000\n",
      "   macro avg       0.71      0.71      0.71    200000\n",
      "weighted avg       0.71      0.71      0.71    200000\n",
      "\n"
     ]
    }
   ],
   "source": [
    "from sklearn.metrics import classification_report\n",
    "\n",
    "report = classification_report(y_test, y_pred)\n",
    "print(\"Classification Report:\")\n",
    "print(report) "
   ]
  },
  {
   "cell_type": "code",
   "execution_count": 10,
   "metadata": {
    "execution": {
     "iopub.execute_input": "2024-11-15T19:52:03.717924Z",
     "iopub.status.busy": "2024-11-15T19:52:03.717342Z",
     "iopub.status.idle": "2024-11-15T19:52:04.411352Z",
     "shell.execute_reply": "2024-11-15T19:52:04.410035Z",
     "shell.execute_reply.started": "2024-11-15T19:52:03.717865Z"
    },
    "tags": []
   },
   "outputs": [
    {
     "name": "stdout",
     "output_type": "stream",
     "text": [
      "Confusion Matrix:\n",
      "[[64343 30013]\n",
      " [27168 78476]]\n"
     ]
    }
   ],
   "source": [
    "# print the confusion matrix\n",
    "from sklearn.metrics import confusion_matrix\n",
    "\n",
    "cm = confusion_matrix(y_test, y_pred)\n",
    "print(\"Confusion Matrix:\")\n",
    "print(cm)"
   ]
  },
  {
   "cell_type": "code",
   "execution_count": 11,
   "metadata": {
    "execution": {
     "iopub.execute_input": "2024-11-15T19:52:04.415226Z",
     "iopub.status.busy": "2024-11-15T19:52:04.413286Z",
     "iopub.status.idle": "2024-11-15T19:52:06.796473Z",
     "shell.execute_reply": "2024-11-15T19:52:06.794168Z",
     "shell.execute_reply.started": "2024-11-15T19:52:04.415153Z"
    },
    "tags": []
   },
   "outputs": [
    {
     "data": {
      "image/png": "[encoded data removed]",
      "text/plain": [
       "<Figure size 432x288 with 1 Axes>"
      ]
     },
     "metadata": {
      "needs_background": "light"
     },
     "output_type": "display_data"
    }
   ],
   "source": [
    "# Get predicted probabilities for the positive class\n",
    "y_scores = gbt.predict_proba(x_test)[:, 1]\n",
    "\n",
    "#make ROC curve\n",
    "drawROC2(y_test, y_scores)"
   ]
  },
  {
   "cell_type": "code",
   "execution_count": 12,
   "metadata": {
    "execution": {
     "iopub.execute_input": "2024-11-15T19:52:06.803313Z",
     "iopub.status.busy": "2024-11-15T19:52:06.801660Z",
     "iopub.status.idle": "2024-11-15T19:52:10.895032Z",
     "shell.execute_reply": "2024-11-15T19:52:10.893031Z",
     "shell.execute_reply.started": "2024-11-15T19:52:06.803246Z"
    },
    "tags": []
   },
   "outputs": [
    {
     "data": {
      "image/png": "[encoded data removed]",
      "text/plain": [
       "<Figure size 432x288 with 1 Axes>"
      ]
     },
     "metadata": {
      "needs_background": "light"
     },
     "output_type": "display_data"
    }
   ],
   "source": [
    "#plot signal vs background with prediction\n",
    "variable = 'm_bb'\n",
    "plotSignalvsBgWithPrediction2(x_test.loc[:, variable], y_test, y_pred)"
   ]
  },
  {
   "cell_type": "code",
   "execution_count": 13,
   "metadata": {
    "execution": {
     "iopub.execute_input": "2024-11-15T19:52:10.900165Z",
     "iopub.status.busy": "2024-11-15T19:52:10.897337Z",
     "iopub.status.idle": "2024-11-15T19:52:11.633806Z",
     "shell.execute_reply": "2024-11-15T19:52:11.632569Z",
     "shell.execute_reply.started": "2024-11-15T19:52:10.900093Z"
    },
    "tags": []
   },
   "outputs": [
    {
     "name": "stdout",
     "output_type": "stream",
     "text": [
      "Feature Importance Ranking:\n",
      "                     Feature  Importance\n",
      "25                      m_bb    0.355831\n",
      "27                    m_wwbb    0.135487\n",
      "26                     m_wbb    0.118385\n",
      "22                     m_jjj    0.105887\n",
      "5                    jet1_pt    0.087852\n",
      "24                     m_jlv    0.084156\n",
      "0                  lepton_pT    0.031593\n",
      "3   missing_energy_magnitude    0.030450\n",
      "9                    jet2_pt    0.016527\n",
      "21                      m_jj    0.013526\n",
      "23                      m_lv    0.006527\n",
      "8                 jet1_b-tag    0.005053\n",
      "17                   jet4_pt    0.003756\n",
      "13                   jet3_pt    0.003472\n",
      "16                jet3_b-tag    0.000907\n",
      "12                jet2_b-tag    0.000267\n",
      "20                jet4_b-tag    0.000177\n",
      "6                   jet1_eta    0.000145\n",
      "2                 lepton_phi    0.000000\n",
      "4         missing_energy_phi    0.000000\n",
      "7                   jet1_phi    0.000000\n",
      "19                  jet4_phi    0.000000\n",
      "18                   je4_eta    0.000000\n",
      "15                  jet3_phi    0.000000\n",
      "1                 lepton_eta    0.000000\n",
      "11                  jet2_phi    0.000000\n",
      "10                  jet2_eta    0.000000\n",
      "14                  jet3_eta    0.000000\n"
     ]
    },
    {
     "data": {
      "text/plain": [
       "<Figure size 720x432 with 0 Axes>"
      ]
     },
     "metadata": {},
     "output_type": "display_data"
    },
    {
     "data": {
      "image/png": "[encoded data removed]",
      "text/plain": [
       "<Figure size 432x288 with 1 Axes>"
      ]
     },
     "metadata": {
      "needs_background": "light"
     },
     "output_type": "display_data"
    }
   ],
   "source": [
    "#draw feature importance\n",
    "drawFeaturesXgb(x, gbt)"
   ]
  },
  {
   "cell_type": "markdown",
   "metadata": {},
   "source": [
    "# Hyperparameter scan"
   ]
  },
  {
   "cell_type": "code",
   "execution_count": 14,
   "metadata": {
    "execution": {
     "iopub.execute_input": "2024-11-15T19:56:17.479861Z",
     "iopub.status.busy": "2024-11-15T19:56:17.479126Z",
     "iopub.status.idle": "2024-11-15T19:56:17.594987Z",
     "shell.execute_reply": "2024-11-15T19:56:17.593838Z",
     "shell.execute_reply.started": "2024-11-15T19:56:17.479799Z"
    },
    "tags": []
   },
   "outputs": [
    {
     "name": "stdout",
     "output_type": "stream",
     "text": [
      "ccp_alpha: 0.0\n",
      "criterion: friedman_mse\n",
      "init: None\n",
      "learning_rate: 0.1\n",
      "loss: deviance\n",
      "max_depth: 3\n",
      "max_features: None\n",
      "max_leaf_nodes: None\n",
      "min_impurity_decrease: 0.0\n",
      "min_samples_leaf: 1\n",
      "min_samples_split: 2\n",
      "min_weight_fraction_leaf: 0.0\n",
      "n_estimators: 100\n",
      "n_iter_no_change: None\n",
      "random_state: None\n",
      "subsample: 1.0\n",
      "tol: 0.0001\n",
      "validation_fraction: 0.1\n",
      "verbose: 0\n",
      "warm_start: False\n"
     ]
    }
   ],
   "source": [
    "# Get the default hyperparameters\n",
    "default_params = gbt.get_params()\n",
    "\n",
    "# Print the default hyperparameters\n",
    "for param, value in default_params.items():\n",
    "    print(f\"{param}: {value}\")"
   ]
  },
  {
   "cell_type": "code",
   "execution_count": 15,
   "metadata": {
    "execution": {
     "iopub.execute_input": "2024-11-15T19:56:18.978413Z",
     "iopub.status.busy": "2024-11-15T19:56:18.977685Z",
     "iopub.status.idle": "2024-11-15T19:56:19.329102Z",
     "shell.execute_reply": "2024-11-15T19:56:19.327675Z",
     "shell.execute_reply.started": "2024-11-15T19:56:18.978347Z"
    }
   },
   "outputs": [
    {
     "name": "stdout",
     "output_type": "stream",
     "text": [
      "CPU times: user 236 ms, sys: 121 ms, total: 357 ms\n",
      "Wall time: 101 ms\n"
     ]
    },
    {
     "data": {
      "text/plain": [
       "99999"
      ]
     },
     "execution_count": 15,
     "metadata": {},
     "output_type": "execute_result"
    }
   ],
   "source": [
    "# read in input parquet file\n",
    "inputFile = 'file:///home/jovyan/Higgs100k.parquet'\n",
    "\n",
    "%time df = pd.read_parquet(inputFile)\n",
    "\n",
    "#create train/test set\n",
    "y = df.iloc[:, 0] #df with label\n",
    "x = df.iloc[: , 1:] #df with all other variables\n",
    "\n",
    "x_train, x_test, y_train, y_test = train_test_split(x, y, test_size=0.2, random_state=42)\n",
    "len(y)"
   ]
  },
  {
   "cell_type": "markdown",
   "metadata": {},
   "source": [
    "## Exercise 3\n",
    "\n",
    "- do hyperparameter optimisation on 100k evts\n",
    "- select a reasonable number and range of hyperparameters\n",
    "- do not USE all possible cores (check sklearn doc)\n",
    "- while the code runs, check with top that there are indeed several python processes running\n",
    "- check metrics (accuracy, ROC curve, signal vs background, feature ranking)"
   ]
  },
  {
   "cell_type": "code",
   "execution_count": null,
   "metadata": {
    "tags": []
   },
   "outputs": [],
   "source": [
    "NJOBS = 5\n",
    "\n",
    "from sklearn.model_selection import GridSearchCV\n",
    "\n",
    "# Define the hyperparameter grid - takes 35 minutes with 100k evts\n",
    "param_grid = {\n",
    "    'n_estimators': [50, 100, 150, 200],  # Number of trees\n",
    "    'learning_rate': [0.01, 0.05, 0.1, 0.2],  # Learning rate\n",
    "    'max_depth': [3, 5, 7, 10]  # Maximum depth of each tree\n",
    "}\n",
    "\n",
    "# Initialize GridSearchCV with 5-fold cross-validation\n",
    "# do not use n_jobs = -1 to use all available cores\n",
    "grid_search = GridSearchCV(estimator=gbt, param_grid=param_grid, cv=5, \n",
    "                           scoring='accuracy', n_jobs=NJOBS) \n",
    "\n",
    "# Fit the grid search to the data\n",
    "%time grid_search.fit(x_train, y_train)\n",
    "\n",
    "# Print the best parameters and the corresponding score\n",
    "print(\"Best Hyperparameters: \", grid_search.best_params_)\n",
    "print(\"Best Cross-Validation Score: {:.4f}\".format(grid_search.best_score_))\n",
    "\n",
    "# Evaluate the best model on the test set\n",
    "best_model = grid_search.best_estimator_\n",
    "test_score = best_model.score(x_test, y_test)\n",
    "print(f\"Test Set Accuracy: {test_score:.4f}\")"
   ]
  },
  {
   "cell_type": "code",
   "execution_count": null,
   "metadata": {
    "execution": {
     "iopub.status.busy": "2024-11-15T15:23:12.753801Z",
     "iopub.status.idle": "2024-11-15T15:23:12.754277Z",
     "shell.execute_reply": "2024-11-15T15:23:12.754140Z",
     "shell.execute_reply.started": "2024-11-15T15:23:12.754126Z"
    },
    "tags": []
   },
   "outputs": [],
   "source": [
    "# Make predictions on the test set\n",
    "y_pred = best_model.predict(x_test)\n",
    "\n",
    "accuracy = accuracy_score(y_test, y_pred)\n",
    "precision = precision_score(y_test, y_pred, average='binary')  # For binary classification\n",
    "recall = recall_score(y_test, y_pred, average='binary')\n",
    "f1 = f1_score(y_test, y_pred, average='binary')\n",
    "\n",
    "print(f\"Accuracy: {accuracy:.4f}\")\n",
    "print(f\"Precision: {precision:.4f}\")\n",
    "print(f\"Recall: {recall:.4f}\")\n",
    "print(f\"F1-Score: {f1:.4f}\")"
   ]
  },
  {
   "cell_type": "code",
   "execution_count": null,
   "metadata": {
    "execution": {
     "iopub.status.busy": "2024-11-15T15:23:12.755349Z",
     "iopub.status.idle": "2024-11-15T15:23:12.755591Z",
     "shell.execute_reply": "2024-11-15T15:23:12.755479Z",
     "shell.execute_reply.started": "2024-11-15T15:23:12.755465Z"
    },
    "tags": []
   },
   "outputs": [],
   "source": [
    "# Get predicted probabilities for the positive class\n",
    "y_scores = best_model.predict_proba(x_test)[:, 1]\n",
    "\n",
    "#make ROC curve\n",
    "drawROC2(y_test, y_scores)"
   ]
  },
  {
   "cell_type": "code",
   "execution_count": null,
   "metadata": {
    "execution": {
     "iopub.status.busy": "2024-11-15T15:23:12.756346Z",
     "iopub.status.idle": "2024-11-15T15:23:12.756595Z",
     "shell.execute_reply": "2024-11-15T15:23:12.756475Z",
     "shell.execute_reply.started": "2024-11-15T15:23:12.756461Z"
    }
   },
   "outputs": [],
   "source": [
    "#plot signal vs background with prediction\n",
    "variable = 'm_bb'\n",
    "plotSignalvsBgWithPrediction2(x_test.loc[:, variable], y_test, y_pred)"
   ]
  },
  {
   "cell_type": "code",
   "execution_count": null,
   "metadata": {
    "execution": {
     "iopub.status.busy": "2024-11-15T15:23:12.757435Z",
     "iopub.status.idle": "2024-11-15T15:23:12.757685Z",
     "shell.execute_reply": "2024-11-15T15:23:12.757567Z",
     "shell.execute_reply.started": "2024-11-15T15:23:12.757553Z"
    },
    "tags": []
   },
   "outputs": [],
   "source": [
    "#draw feature importance\n",
    "drawFeaturesXgb(x, best_model)"
   ]
  },
  {
   "cell_type": "markdown",
   "metadata": {},
   "source": [
    "## Exercise 4\n",
    "\n",
    "- use hyperparameters from best model to train on 1M events\n",
    "- check metrics (accuracy, ROC curve, signal vs background, feature ranking)"
   ]
  },
  {
   "cell_type": "code",
   "execution_count": null,
   "metadata": {
    "execution": {
     "iopub.status.busy": "2024-11-15T15:23:12.758692Z",
     "iopub.status.idle": "2024-11-15T15:23:12.758944Z",
     "shell.execute_reply": "2024-11-15T15:23:12.758821Z",
     "shell.execute_reply.started": "2024-11-15T15:23:12.758807Z"
    },
    "tags": []
   },
   "outputs": [],
   "source": [
    "# read in input parquet file\n",
    "input_file = \"Higgs1M.parquet\"\n",
    "%time df = pd.read_parquet(input_file)\n",
    "\n",
    "#create train/test set\n",
    "y = df.iloc[:, 0] #df with label\n",
    "x = df.iloc[: , 1:] #df with all other variables\n",
    "\n",
    "x_train, x_test, y_train, y_test = train_test_split(x, y, test_size=0.2, random_state=42)\n",
    "len(y)"
   ]
  },
  {
   "cell_type": "code",
   "execution_count": null,
   "metadata": {
    "execution": {
     "iopub.status.busy": "2024-11-15T15:23:12.759724Z",
     "iopub.status.idle": "2024-11-15T15:23:12.759950Z",
     "shell.execute_reply": "2024-11-15T15:23:12.759840Z",
     "shell.execute_reply.started": "2024-11-15T15:23:12.759828Z"
    }
   },
   "outputs": [],
   "source": [
    "# train a model with best hyperparameters on 1M evts (45min)\n",
    "best_gbt = GradientBoostingClassifier(n_estimators=200, learning_rate=0.05, \n",
    "                                      max_depth=5)\n",
    "%time best_gbt.fit(x_train, y_train)\n",
    "\n",
    "# Make predictions on the test set\n",
    "y_pred = best_gbt.predict(x_test)"
   ]
  },
  {
   "cell_type": "code",
   "execution_count": null,
   "metadata": {
    "execution": {
     "iopub.status.busy": "2024-11-15T15:23:12.760801Z",
     "iopub.status.idle": "2024-11-15T15:23:12.761062Z",
     "shell.execute_reply": "2024-11-15T15:23:12.760932Z",
     "shell.execute_reply.started": "2024-11-15T15:23:12.760917Z"
    }
   },
   "outputs": [],
   "source": [
    "accuracy = accuracy_score(y_test, y_pred)\n",
    "precision = precision_score(y_test, y_pred, average='binary')  # For binary classification\n",
    "recall = recall_score(y_test, y_pred, average='binary')\n",
    "f1 = f1_score(y_test, y_pred, average='binary')\n",
    "\n",
    "print(f\"Accuracy: {accuracy:.4f}\")\n",
    "print(f\"Precision: {precision:.4f}\")\n",
    "print(f\"Recall: {recall:.4f}\")\n",
    "print(f\"F1-Score: {f1:.4f}\")"
   ]
  },
  {
   "cell_type": "code",
   "execution_count": null,
   "metadata": {
    "execution": {
     "iopub.status.busy": "2024-11-15T15:23:12.761974Z",
     "iopub.status.idle": "2024-11-15T15:23:12.762235Z",
     "shell.execute_reply": "2024-11-15T15:23:12.762110Z",
     "shell.execute_reply.started": "2024-11-15T15:23:12.762096Z"
    },
    "tags": []
   },
   "outputs": [],
   "source": [
    "# Get predicted probabilities for the positive class\n",
    "y_scores = best_gbt.predict_proba(x_test)[:, 1]\n",
    "\n",
    "#make ROC curve\n",
    "drawROC2(y_test, y_scores)"
   ]
  },
  {
   "cell_type": "code",
   "execution_count": null,
   "metadata": {
    "execution": {
     "iopub.status.busy": "2024-11-15T15:23:12.763162Z",
     "iopub.status.idle": "2024-11-15T15:23:12.763424Z",
     "shell.execute_reply": "2024-11-15T15:23:12.763300Z",
     "shell.execute_reply.started": "2024-11-15T15:23:12.763286Z"
    },
    "tags": []
   },
   "outputs": [],
   "source": [
    "#plot signal vs background with prediction\n",
    "variable = 'm_bb'\n",
    "plotSignalvsBgWithPrediction2(x_test.loc[:, variable], y_test, y_pred)"
   ]
  },
  {
   "cell_type": "code",
   "execution_count": null,
   "metadata": {
    "execution": {
     "iopub.status.busy": "2024-11-15T15:23:12.764271Z",
     "iopub.status.idle": "2024-11-15T15:23:12.764528Z",
     "shell.execute_reply": "2024-11-15T15:23:12.764403Z",
     "shell.execute_reply.started": "2024-11-15T15:23:12.764389Z"
    },
    "tags": []
   },
   "outputs": [],
   "source": [
    "#draw feature importance\n",
    "drawFeaturesXgb(x, best_gbt)"
   ]
  }
 ],
 "metadata": {
  "kernelspec": {
   "display_name": "PySpark",
   "language": "python",
   "name": "pyspark"
  },
  "language_info": {
   "codemirror_mode": {
    "name": "ipython",
    "version": 3
   },
   "file_extension": ".py",
   "mimetype": "text/x-python",
   "name": "python",
   "nbconvert_exporter": "python",
   "pygments_lexer": "ipython3",
   "version": "3.9.7"
  },
  "sparkconnect": {
   "bundled_options": [],
   "list_of_options": []
  }
 },
 "nbformat": 4,
 "nbformat_minor": 4
}
