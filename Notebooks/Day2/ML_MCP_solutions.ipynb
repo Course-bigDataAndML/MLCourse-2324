{
 "cells": [
  {
   "cell_type": "markdown",
   "metadata": {},
   "source": [
    "# Hands-on Day 2\n",
    "\n",
    "## You'll learn\n",
    "\n",
    "### ML methods\n",
    "\n",
    "- Multilayer Perceptron Classifier (MCP) with pyspark.ml\n",
    "\n",
    "### ML techniques\n",
    "- hyperparameter optimisation\n",
    "- ROC curves"
   ]
  },
  {
   "cell_type": "code",
   "execution_count": 1,
   "metadata": {
    "execution": {
     "iopub.execute_input": "2024-11-14T09:32:44.156513Z",
     "iopub.status.busy": "2024-11-14T09:32:44.156289Z",
     "iopub.status.idle": "2024-11-14T09:32:45.239195Z",
     "shell.execute_reply": "2024-11-14T09:32:45.238477Z",
     "shell.execute_reply.started": "2024-11-14T09:32:44.156446Z"
    },
    "tags": []
   },
   "outputs": [],
   "source": [
    "#initial imports\n",
    "%reload_ext custom_magics\n",
    "%load_ext autoreload\n",
    "%autoreload 2\n",
    "\n",
    "# initial setup\n",
    "import pandas as pd\n",
    "import numpy as np\n",
    "import matplotlib.pyplot as plt\n",
    "%matplotlib inline\n",
    "\n",
    "# Check out these custom functions\n",
    "from custom_functions import *"
   ]
  },
  {
   "cell_type": "code",
   "execution_count": 2,
   "metadata": {
    "execution": {
     "iopub.execute_input": "2024-11-14T09:32:45.240370Z",
     "iopub.status.busy": "2024-11-14T09:32:45.240207Z",
     "iopub.status.idle": "2024-11-14T09:32:55.336166Z",
     "shell.execute_reply": "2024-11-14T09:32:55.335123Z",
     "shell.execute_reply.started": "2024-11-14T09:32:45.240350Z"
    },
    "tags": []
   },
   "outputs": [
    {
     "name": "stderr",
     "output_type": "stream",
     "text": [
      "Exception in thread Thread-3:\n",
      "Traceback (most recent call last):\n",
      "  File \"/opt/conda/lib/python3.9/threading.py\", line 973, in _bootstrap_inner\n",
      "    self.run()\n",
      "  File \"/opt/conda/lib/python3.9/site-packages/sparkmonitor/kernelextension.py\", line 126, in run\n",
      "    self.onrecv(msg)\n",
      "  File \"/opt/conda/lib/python3.9/site-packages/sparkmonitor/kernelextension.py\", line 143, in onrecv\n",
      "    sendToFrontEnd({\n",
      "  File \"/opt/conda/lib/python3.9/site-packages/sparkmonitor/kernelextension.py\", line 223, in sendToFrontEnd\n",
      "    monitor.send(msg)\n",
      "  File \"/opt/conda/lib/python3.9/site-packages/sparkmonitor/kernelextension.py\", line 57, in send\n",
      "    self.comm.send(msg)\n",
      "AttributeError: 'ScalaMonitor' object has no attribute 'comm'\n"
     ]
    },
    {
     "data": {
      "text/html": [
       "\n",
       "        <div>\n",
       "            <p><b>SparkContext</b></p>\n",
       "\n",
       "            <p><a href=\"http://jupyter-leggerf.jhub.svc.cluster.local:4040\">Spark UI</a></p>\n",
       "\n",
       "            <dl>\n",
       "              <dt>Version</dt>\n",
       "                <dd><code>v3.2.1</code></dd>\n",
       "              <dt>Master</dt>\n",
       "                <dd><code>k8s://https://192.168.2.39:6443</code></dd>\n",
       "              <dt>AppName</dt>\n",
       "                <dd><code>jupyter-leggerf</code></dd>\n",
       "            </dl>\n",
       "        </div>\n",
       "        "
      ],
      "text/plain": [
       "<SparkContext master=k8s://https://192.168.2.39:6443 appName=jupyter-leggerf>"
      ]
     },
     "execution_count": 2,
     "metadata": {},
     "output_type": "execute_result"
    }
   ],
   "source": [
    "num_workers=5\n",
    "spark=%sc $num_workers\n",
    "\n",
    "from pyspark.sql import SparkSession\n",
    "spark_session = SparkSession(spark)\n",
    "\n",
    "#check if spark is there\n",
    "spark"
   ]
  },
  {
   "cell_type": "markdown",
   "metadata": {},
   "source": [
    "# Data preprocessing"
   ]
  },
  {
   "cell_type": "code",
   "execution_count": 3,
   "metadata": {
    "execution": {
     "iopub.execute_input": "2024-11-14T09:32:55.338094Z",
     "iopub.status.busy": "2024-11-14T09:32:55.337827Z",
     "iopub.status.idle": "2024-11-14T09:33:03.081139Z",
     "shell.execute_reply": "2024-11-14T09:33:03.079545Z",
     "shell.execute_reply.started": "2024-11-14T09:32:55.338060Z"
    },
    "tags": []
   },
   "outputs": [
    {
     "name": "stdout",
     "output_type": "stream",
     "text": [
      "CPU times: user 1.78 ms, sys: 3.61 ms, total: 5.39 ms\n",
      "Wall time: 4.27 s\n",
      "There are 10000000 events\n"
     ]
    }
   ],
   "source": [
    "#inputFile = 'file:///home/jovyan/Higgs100k.parquet'\n",
    "#inputFile = 'file:///home/jovyan/Higgs1M.parquet'\n",
    "inputFile = 'file:///home/jovyan/Higgs10M.parquet'\n",
    "\n",
    "%time df = spark_session.read.format('parquet').option('header', 'true').option('inferschema', 'true').load(inputFile)\n",
    "\n",
    "total_events = df.count()\n",
    "print('There are '+str(total_events)+' events')"
   ]
  },
  {
   "cell_type": "code",
   "execution_count": 4,
   "metadata": {
    "execution": {
     "iopub.execute_input": "2024-11-14T09:33:03.084201Z",
     "iopub.status.busy": "2024-11-14T09:33:03.083520Z",
     "iopub.status.idle": "2024-11-14T09:33:10.697531Z",
     "shell.execute_reply": "2024-11-14T09:33:10.696191Z",
     "shell.execute_reply.started": "2024-11-14T09:33:03.084136Z"
    },
    "tags": []
   },
   "outputs": [
    {
     "name": "stdout",
     "output_type": "stream",
     "text": [
      "Events for training 7999525\n",
      "Events for validation 2000475\n"
     ]
    }
   ],
   "source": [
    "#split the dataset for training and test\n",
    "train, test = df.randomSplit([0.8,0.2])\n",
    "\n",
    "print('Events for training {}'.format(train.count()))\n",
    "print('Events for validation {}'.format(test.count()))"
   ]
  },
  {
   "cell_type": "code",
   "execution_count": 5,
   "metadata": {
    "execution": {
     "iopub.execute_input": "2024-11-14T09:33:10.700887Z",
     "iopub.status.busy": "2024-11-14T09:33:10.700527Z",
     "iopub.status.idle": "2024-11-14T09:33:11.163321Z",
     "shell.execute_reply": "2024-11-14T09:33:11.162526Z",
     "shell.execute_reply.started": "2024-11-14T09:33:10.700854Z"
    },
    "tags": []
   },
   "outputs": [],
   "source": [
    "# create the input feature vector \n",
    "feature = train.columns\n",
    "feature.remove('label')\n",
    "\n",
    "from pyspark.ml.feature import VectorAssembler\n",
    "\n",
    "#VectorAssembler is a transformer that combines a given list of columns into a single vector column\n",
    "assembler = VectorAssembler(inputCols=feature, outputCol='features')\n",
    "train = assembler.transform(train)\n",
    "test = assembler.transform(test)"
   ]
  },
  {
   "cell_type": "markdown",
   "metadata": {},
   "source": [
    "# ML models: MCP"
   ]
  },
  {
   "cell_type": "markdown",
   "metadata": {
    "tags": []
   },
   "source": [
    "## Exercise 1\n",
    "\n",
    "- Implement a shallow NN: use *MultiLayerPerceptronClassifier* from pyspark\n",
    "- documentation: https://spark.apache.org/docs/latest/ml-classification-regression.html#multilayer-perceptron-classifier\n",
    "- implement a network with: \n",
    "  - one input layer of size 28 (our features), \n",
    "  - two intermediate layers of size 30,\n",
    "  - one output of size 2 (the label classes)\n",
    "  - other hyerparameters: maxIter=100, blockSize=128, seed=1234\n",
    "- plot the various metrics (ROC, signal vs background)\n",
    "- bonus: do hyperparameter optimisation"
   ]
  },
  {
   "cell_type": "code",
   "execution_count": 6,
   "metadata": {
    "execution": {
     "iopub.execute_input": "2024-11-14T09:33:11.164692Z",
     "iopub.status.busy": "2024-11-14T09:33:11.164415Z",
     "iopub.status.idle": "2024-11-14T09:33:11.221034Z",
     "shell.execute_reply": "2024-11-14T09:33:11.219510Z",
     "shell.execute_reply.started": "2024-11-14T09:33:11.164667Z"
    },
    "tags": []
   },
   "outputs": [],
   "source": [
    "from pyspark.ml.classification import MultilayerPerceptronClassifier\n",
    "\n",
    "# specify layers for the neural network:\n",
    "\n",
    "# input layer of size 28 (features), two intermediate of size 30, and output of size 2 (classes)\n",
    "layers = [28, 30, 30, 2]\n",
    "\n",
    "# create the trainer and set its parameters\n",
    "mpc = MultilayerPerceptronClassifier(labelCol='label', featuresCol='features', maxIter=100, layers=layers, blockSize=128, seed=1234)"
   ]
  },
  {
   "cell_type": "code",
   "execution_count": 7,
   "metadata": {
    "execution": {
     "iopub.execute_input": "2024-11-14T09:33:11.223763Z",
     "iopub.status.busy": "2024-11-14T09:33:11.223181Z",
     "iopub.status.idle": "2024-11-14T09:39:07.365611Z",
     "shell.execute_reply": "2024-11-14T09:39:07.364607Z",
     "shell.execute_reply.started": "2024-11-14T09:33:11.223707Z"
    },
    "tags": []
   },
   "outputs": [
    {
     "name": "stdout",
     "output_type": "stream",
     "text": [
      "CPU times: user 67.2 ms, sys: 34.3 ms, total: 101 ms\n",
      "Wall time: 5min 56s\n"
     ]
    }
   ],
   "source": [
    "%%time\n",
    "model_mpc = mpc.fit(train)"
   ]
  },
  {
   "cell_type": "code",
   "execution_count": 8,
   "metadata": {
    "execution": {
     "iopub.execute_input": "2024-11-14T09:39:07.367564Z",
     "iopub.status.busy": "2024-11-14T09:39:07.367100Z",
     "iopub.status.idle": "2024-11-14T09:40:19.590953Z",
     "shell.execute_reply": "2024-11-14T09:40:19.590061Z",
     "shell.execute_reply.started": "2024-11-14T09:39:07.367527Z"
    },
    "tags": []
   },
   "outputs": [
    {
     "name": "stdout",
     "output_type": "stream",
     "text": [
      "Test set AUC = 0.732721303948751\n"
     ]
    },
    {
     "data": {
      "image/png": "[encoded data removed]",
      "text/plain": [
       "<Figure size 432x288 with 1 Axes>"
      ]
     },
     "metadata": {
      "needs_background": "light"
     },
     "output_type": "display_data"
    }
   ],
   "source": [
    "# compute accuracy on the test set\n",
    "from pyspark.ml.evaluation import BinaryClassificationEvaluator\n",
    "\n",
    "result = model_mpc.transform(test)\n",
    "evaluator = BinaryClassificationEvaluator(labelCol='label', metricName=\"areaUnderROC\")\n",
    "print(\"Test set AUC = \" + str(evaluator.evaluate(result)))\n",
    "\n",
    "#make ROC curve\n",
    "drawROC(result)"
   ]
  },
  {
   "cell_type": "code",
   "execution_count": 9,
   "metadata": {
    "execution": {
     "iopub.execute_input": "2024-11-14T09:40:19.592778Z",
     "iopub.status.busy": "2024-11-14T09:40:19.592591Z",
     "iopub.status.idle": "2024-11-14T09:41:00.045901Z",
     "shell.execute_reply": "2024-11-14T09:41:00.044178Z",
     "shell.execute_reply.started": "2024-11-14T09:40:19.592756Z"
    },
    "tags": []
   },
   "outputs": [
    {
     "data": {
      "image/png": "[encoded data removed]",
      "text/plain": [
       "<Figure size 432x288 with 1 Axes>"
      ]
     },
     "metadata": {
      "needs_background": "light"
     },
     "output_type": "display_data"
    }
   ],
   "source": [
    "#plot signal vs background with prediction\n",
    "plotSignalvsBgWithPrediction(test, result, 'm_bb')"
   ]
  },
  {
   "cell_type": "code",
   "execution_count": 10,
   "metadata": {
    "execution": {
     "iopub.execute_input": "2024-11-14T09:41:00.048715Z",
     "iopub.status.busy": "2024-11-14T09:41:00.048228Z",
     "iopub.status.idle": "2024-11-14T09:41:01.414915Z",
     "shell.execute_reply": "2024-11-14T09:41:01.413366Z",
     "shell.execute_reply.started": "2024-11-14T09:41:00.048652Z"
    },
    "tags": []
   },
   "outputs": [],
   "source": [
    "#when you're done, stop spark, this will release the resources you're using\n",
    "spark.stop()"
   ]
  }
 ],
 "metadata": {
  "kernelspec": {
   "display_name": "PySpark",
   "language": "python",
   "name": "pyspark"
  },
  "language_info": {
   "codemirror_mode": {
    "name": "ipython",
    "version": 3
   },
   "file_extension": ".py",
   "mimetype": "text/x-python",
   "name": "python",
   "nbconvert_exporter": "python",
   "pygments_lexer": "ipython3",
   "version": "3.9.7"
  },
  "sparkconnect": {
   "bundled_options": [],
   "list_of_options": []
  }
 },
 "nbformat": 4,
 "nbformat_minor": 4
}
