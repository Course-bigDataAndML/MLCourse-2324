{
 "cells": [
  {
   "cell_type": "markdown",
   "metadata": {},
   "source": [
    "# Hands-on Day 2\n",
    "\n",
    "## You'll learn\n",
    "\n",
    "### ML methods\n",
    "- Gradient Boosting Trees with pyspark.ml\n",
    "\n",
    "### ML techniques\n",
    "- hyperparameter optimisation\n",
    "- ROC curves"
   ]
  },
  {
   "cell_type": "code",
   "execution_count": 1,
   "metadata": {
    "execution": {
     "iopub.execute_input": "2023-05-30T13:54:26.384249Z",
     "iopub.status.busy": "2023-05-30T13:54:26.383406Z",
     "iopub.status.idle": "2023-05-30T13:54:27.693575Z",
     "shell.execute_reply": "2023-05-30T13:54:27.692315Z",
     "shell.execute_reply.started": "2023-05-30T13:54:26.384060Z"
    },
    "tags": []
   },
   "outputs": [],
   "source": [
    "#initial imports\n",
    "%reload_ext custom_magics\n",
    "%load_ext autoreload\n",
    "%autoreload 2\n",
    "\n",
    "# initial setup\n",
    "import pandas as pd\n",
    "import numpy as np\n",
    "import matplotlib.pyplot as plt\n",
    "%matplotlib inline\n",
    "\n",
    "# Check out these custom functions\n",
    "from custom_functions import *"
   ]
  },
  {
   "cell_type": "code",
   "execution_count": 2,
   "metadata": {
    "execution": {
     "iopub.execute_input": "2023-05-30T13:54:27.696524Z",
     "iopub.status.busy": "2023-05-30T13:54:27.696301Z",
     "iopub.status.idle": "2023-05-30T13:54:38.992705Z",
     "shell.execute_reply": "2023-05-30T13:54:38.991564Z",
     "shell.execute_reply.started": "2023-05-30T13:54:27.696489Z"
    },
    "tags": []
   },
   "outputs": [
    {
     "data": {
      "text/html": [
       "\n",
       "        <div>\n",
       "            <p><b>SparkContext</b></p>\n",
       "\n",
       "            <p><a href=\"http://jupyter-leggerf.jhub.svc.cluster.local:4042\">Spark UI</a></p>\n",
       "\n",
       "            <dl>\n",
       "              <dt>Version</dt>\n",
       "                <dd><code>v3.2.1</code></dd>\n",
       "              <dt>Master</dt>\n",
       "                <dd><code>k8s://https://192.168.2.39:6443</code></dd>\n",
       "              <dt>AppName</dt>\n",
       "                <dd><code>jupyter-leggerf</code></dd>\n",
       "            </dl>\n",
       "        </div>\n",
       "        "
      ],
      "text/plain": [
       "<SparkContext master=k8s://https://192.168.2.39:6443 appName=jupyter-leggerf>"
      ]
     },
     "execution_count": 2,
     "metadata": {},
     "output_type": "execute_result"
    }
   ],
   "source": [
    "num_workers=5\n",
    "spark=%sc $num_workers\n",
    "\n",
    "from pyspark.sql import SparkSession\n",
    "spark_session = SparkSession(spark)\n",
    "\n",
    "#check if spark is there\n",
    "spark"
   ]
  },
  {
   "cell_type": "markdown",
   "metadata": {},
   "source": [
    "# Data preprocessing"
   ]
  },
  {
   "cell_type": "code",
   "execution_count": 3,
   "metadata": {
    "execution": {
     "iopub.execute_input": "2023-05-30T13:54:38.995696Z",
     "iopub.status.busy": "2023-05-30T13:54:38.995342Z",
     "iopub.status.idle": "2023-05-30T13:54:49.525949Z",
     "shell.execute_reply": "2023-05-30T13:54:49.524436Z",
     "shell.execute_reply.started": "2023-05-30T13:54:38.995658Z"
    },
    "tags": []
   },
   "outputs": [
    {
     "name": "stdout",
     "output_type": "stream",
     "text": [
      "There are 99999 events\n"
     ]
    }
   ],
   "source": [
    "# read input file\n",
    "inputFile = 'file:///data-corso/Higgs100k.csv'\n",
    "#inputFile = 'file:///data-corso/Higgs1M.csv'\n",
    "#inputFile = 'file:///data-corso/Higgs10M.csv'\n",
    "\n",
    "%time df = spark_session.read.format('csv').option('header', 'true').option('inferschema', 'true').load(inputFile)\n",
    "total_events = df.count()\n",
    "print('There are '+str(total_events)+' events')"
   ]
  },
  {
   "cell_type": "markdown",
   "metadata": {},
   "source": [
    "##  Exercise 1\n",
    "\n",
    "- split the dataframe *df* into two dataframes, called *train* and *test* containing respectively 80% and 20% of the events (randomly distributed between the two samples) "
   ]
  },
  {
   "cell_type": "code",
   "execution_count": 4,
   "metadata": {
    "execution": {
     "iopub.execute_input": "2022-03-09T09:48:04.066878Z",
     "iopub.status.busy": "2022-03-09T09:48:04.066359Z",
     "iopub.status.idle": "2022-03-09T09:48:04.093842Z",
     "shell.execute_reply": "2022-03-09T09:48:04.092038Z",
     "shell.execute_reply.started": "2022-03-09T09:48:04.066815Z"
    }
   },
   "outputs": [],
   "source": [
    "#split the dataset for training and test\n",
    "\n",
    "#print('Events for training {}'.format(train.count()))\n",
    "#print('Events for validation {}'.format(test.count()))"
   ]
  },
  {
   "cell_type": "markdown",
   "metadata": {},
   "source": [
    "#### Create the input feature vector - remember, this was part of yesterday hands-on (bonus)\n",
    "\n",
    "- Libraries for ML tipically take as inputs data in a very specific format. Documentation on how to do data preprocessing in Spark: https://spark.apache.org/docs/latest/ml-features.html\n",
    "- Try to add to the dataframe *train* a new column, called 'features' which is a vector column with all the variables above except for 'label'\n",
    "   - features = [lepton_pT, lepton_eta, lepton_phi, ...]\n",
    "   - Hint: look at the VectorAssembler transformer\n",
    "- do the same for dataframe *test*"
   ]
  },
  {
   "cell_type": "markdown",
   "metadata": {},
   "source": [
    "# ML models: GBT"
   ]
  },
  {
   "cell_type": "code",
   "execution_count": null,
   "metadata": {},
   "outputs": [],
   "source": [
    "# ML model: GBT (Gradient Boosting Trees)\n",
    "# Documentation at https://spark.apache.org/docs/2.2.0/ml-classification-regression.html\n",
    "from pyspark.ml.classification import GBTClassifier\n",
    "\n",
    "# fast, about 1m to train\n",
    "gbt = GBTClassifier(labelCol='label', featuresCol='features', maxIter=10, maxDepth=3) "
   ]
  },
  {
   "cell_type": "code",
   "execution_count": null,
   "metadata": {},
   "outputs": [],
   "source": [
    "%%time\n",
    "gbt_model = gbt.fit(train)"
   ]
  },
  {
   "cell_type": "code",
   "execution_count": null,
   "metadata": {},
   "outputs": [],
   "source": [
    "# compute AUC on the test set\n",
    "result = gbt_model.transform(test)\n",
    "\n",
    "from pyspark.ml.evaluation import BinaryClassificationEvaluator\n",
    "evaluator = BinaryClassificationEvaluator(labelCol='label', metricName=\"areaUnderROC\")\n",
    "print(\"Test set AUC = \" + str(evaluator.evaluate(result)))"
   ]
  },
  {
   "cell_type": "code",
   "execution_count": null,
   "metadata": {},
   "outputs": [],
   "source": [
    "#print metrics\n",
    "printMetrics(evaluator, result)"
   ]
  },
  {
   "cell_type": "code",
   "execution_count": null,
   "metadata": {},
   "outputs": [],
   "source": [
    "gbt_model.extractParamMap()"
   ]
  },
  {
   "cell_type": "code",
   "execution_count": null,
   "metadata": {},
   "outputs": [],
   "source": [
    "#make ROC curve\n",
    "drawROC(result)"
   ]
  },
  {
   "cell_type": "code",
   "execution_count": null,
   "metadata": {},
   "outputs": [],
   "source": [
    "#plot features vs importance\n",
    "drawFeatures(feature, gbt_model)"
   ]
  },
  {
   "cell_type": "code",
   "execution_count": null,
   "metadata": {},
   "outputs": [],
   "source": [
    "#plot signal vs background with prediction\n",
    "plotSignalvsBgWithPrediction(test, result, 'm_bb')"
   ]
  },
  {
   "cell_type": "markdown",
   "metadata": {},
   "source": [
    "## Exercise 2\n",
    "\n",
    "- try to change the hyperparameters of the GBT model (maxIter=50, maxDepth=10), and check what changes in terms of performances, feature importance, signal versus background separation. Be careful of training time if you increase them too much!"
   ]
  },
  {
   "cell_type": "markdown",
   "metadata": {},
   "source": [
    "# Hyperparameter scan\n",
    "\n",
    "- documentation: https://spark.apache.org/docs/latest/ml-tuning.html"
   ]
  },
  {
   "cell_type": "code",
   "execution_count": null,
   "metadata": {},
   "outputs": [],
   "source": [
    "#reduce number of events for training if needed\n",
    "subSample = train.sample(fraction=1.0/10, withReplacement=False).cache()\n",
    "print('We will use ' +str(subSample.count()) + ' events for the grid search')"
   ]
  },
  {
   "cell_type": "code",
   "execution_count": null,
   "metadata": {},
   "outputs": [],
   "source": [
    "#Do hyperparameter tuning \n",
    "from pyspark.ml.tuning import ParamGridBuilder, CrossValidator, TrainValidationSplit\n",
    "from pyspark.ml.evaluation import BinaryClassificationEvaluator\n",
    "\n",
    "gbt = GBTClassifier(labelCol='label', featuresCol='features', maxIter=10, maxDepth=3)\n",
    "\n",
    "evaluator=BinaryClassificationEvaluator(metricName='areaUnderROC')\n",
    "\n",
    "#choose hyperparameter space\n",
    "paramGrid = ParamGridBuilder()\\\n",
    "  .addGrid(gbt.maxDepth, [1,5])\\\n",
    "  .addGrid(gbt.maxIter, [10,20])\\\n",
    "  .build()"
   ]
  },
  {
   "cell_type": "code",
   "execution_count": null,
   "metadata": {},
   "outputs": [],
   "source": [
    "# Train Validation Split (takes 1-2 minutes)\n",
    "tvs = TrainValidationSplit(estimator=gbt,\n",
    "                           estimatorParamMaps=paramGrid,\n",
    "                           evaluator=evaluator,\n",
    "                           trainRatio=0.8)# 80% of the data will be used for training, 20% for validation"
   ]
  },
  {
   "cell_type": "markdown",
   "metadata": {},
   "source": [
    "**TIP:** after starting the following cell, close the Spark monitoring window or it will slow down your notebook display considerably."
   ]
  },
  {
   "cell_type": "code",
   "execution_count": null,
   "metadata": {},
   "outputs": [],
   "source": [
    "#take care, might take long time, \n",
    "%time bestModel = tvs.fit(subSample)"
   ]
  },
  {
   "cell_type": "code",
   "execution_count": null,
   "metadata": {},
   "outputs": [],
   "source": [
    "#It is possile to see the score obtained (in this case the AUC) for each set of parameters\n",
    "#zip(bestModel.avgMetrics, paramGrid)\n",
    "\n",
    "print('maxDepth = '+str(bestModel.bestModel._java_obj.getMaxDepth()))\n",
    "print('maxIter = '+str(bestModel.bestModel._java_obj.getMaxIter()))"
   ]
  },
  {
   "cell_type": "code",
   "execution_count": null,
   "metadata": {},
   "outputs": [],
   "source": [
    "# compute accuracy on the test set\n",
    "result = bestModel.transform(test)\n",
    "\n",
    "evaluator = BinaryClassificationEvaluator(labelCol='label', metricName=\"areaUnderROC\")\n",
    "print(\"Test set AUC = \" + str(evaluator.evaluate(result)))"
   ]
  },
  {
   "cell_type": "code",
   "execution_count": null,
   "metadata": {},
   "outputs": [],
   "source": [
    "#make ROC curve with best model\n",
    "drawROC(result)"
   ]
  },
  {
   "cell_type": "code",
   "execution_count": null,
   "metadata": {},
   "outputs": [],
   "source": [
    "#plot signal vs background with prediction\n",
    "plotSignalvsBgWithPrediction(test, result, 'm_bb')"
   ]
  },
  {
   "cell_type": "markdown",
   "metadata": {},
   "source": [
    "## Exercise 3\n",
    "\n",
    "- try implementing the cross validation method, and describe what changes (results, training time, performances, ...): do you get the same hyper-parameters?"
   ]
  },
  {
   "cell_type": "code",
   "execution_count": 4,
   "metadata": {
    "execution": {
     "iopub.execute_input": "2023-05-30T13:54:59.362826Z",
     "iopub.status.busy": "2023-05-30T13:54:59.361923Z",
     "iopub.status.idle": "2023-05-30T13:55:00.274288Z",
     "shell.execute_reply": "2023-05-30T13:55:00.273426Z",
     "shell.execute_reply.started": "2023-05-30T13:54:59.362758Z"
    },
    "tags": []
   },
   "outputs": [],
   "source": [
    "#when you're done, stop spark, this will release the resources you're using\n",
    "spark.stop()"
   ]
  }
 ],
 "metadata": {
  "kernelspec": {
   "display_name": "PySpark",
   "language": "python",
   "name": "pyspark"
  },
  "language_info": {
   "codemirror_mode": {
    "name": "ipython",
    "version": 3
   },
   "file_extension": ".py",
   "mimetype": "text/x-python",
   "name": "python",
   "nbconvert_exporter": "python",
   "pygments_lexer": "ipython3",
   "version": "3.9.7"
  },
  "sparkconnect": {
   "bundled_options": [],
   "list_of_options": []
  }
 },
 "nbformat": 4,
 "nbformat_minor": 4
}
